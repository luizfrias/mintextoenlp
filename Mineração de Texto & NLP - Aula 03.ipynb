{
 "cells": [
  {
   "cell_type": "markdown",
   "metadata": {},
   "source": [
    "# Aula 03 - NLTK\n",
    "\n",
    "Professor: Luiz Frias \n",
    "- Email: l.frias@poli.ufrj.br\n",
    "- Linkedin: in/luizfrias/\n",
    "- Twitter: @lfdefrias\n",
    "\n",
    "O NLTK foi criado em 2001 como parte do curso de linguística computacional na Universidade da Pensilvânia. \n",
    "\n",
    "Neste caderno vamos aprender como o NLTK pode nos ajudar em uma variedade de tarefas no contexto de NLP."
   ]
  },
  {
   "cell_type": "markdown",
   "metadata": {},
   "source": [
    "**Referência:** Natural Language Processing With Python"
   ]
  },
  {
   "cell_type": "code",
   "execution_count": 1,
   "metadata": {},
   "outputs": [],
   "source": [
    "import nltk"
   ]
  },
  {
   "cell_type": "markdown",
   "metadata": {},
   "source": [
    "### Corpora (nltk.corpus)\n",
    "\n",
    "O NLTK possui diferentes corpora para exploração. Para utilização dos textos, você deve fazer o download do corpus correspondente e posteriormente importá-lo. Cada corpus foi compilado com um objetivo: POS tagging, NER e tópicos são alguns dos exemplos. \n",
    "\n",
    "Alguns dos corpus mais famosos são:\n",
    "- Gutenberg: 25k livros eletrônicos\n",
    "- Brown: corpus da Brown University, com 1mi de palavras, criado em 1961. \n",
    "- Reuters: mais de 70k notícias classificadas em 90 tópicos\n",
    "- Stopwords: stopwords para 11 idiomas\n",
    "- Floresta Treebank: 9k sentenças, POS tag (em português)"
   ]
  },
  {
   "cell_type": "code",
   "execution_count": 3,
   "metadata": {},
   "outputs": [],
   "source": [
    "from nltk.corpus import machado"
   ]
  },
  {
   "cell_type": "code",
   "execution_count": 4,
   "metadata": {
    "scrolled": false
   },
   "outputs": [
    {
     "name": "stdout",
     "output_type": "stream",
     "text": [
      "Machado de Assis -- Obra Completa\n",
      "\n",
      "http://machado.mec.gov.br/\n",
      "\n",
      "Public Domain\n",
      "\n",
      "Contents:\n",
      "\n",
      "Romance\n",
      "\n",
      "romance/marm01.txt: Ressurreição (1872)\n",
      "romance/marm02.txt: A Mão e a Luva (1874)\n",
      "romance/marm03.txt: Helena (1876)\n",
      "romance/marm04.txt: Iaiá Garcia (1878)\n",
      "romance/marm05.txt: Memórias Póstumas de Brás Cubas (1881)\n",
      "romance/marm06.txt: Casa Velha (1885)\n",
      "romance/marm07.txt: Quincas Borba (1891)\n",
      "romance/marm08.txt: Dom Casmurro (1899)\n",
      "romance/marm09.txt: Esaú e Jacó (1904)\n",
      "romance/marm10.txt: Memorial de Aires (1908)\n",
      "\n",
      "Poesia\n",
      "\n",
      "poesia/maps01.txt: Crisálidas (1864)\n",
      "poesia/maps02.txt: Falenas (1870)\n",
      "poesia/maps03.txt: Americanas (1875)\n",
      "poesia/maps04.txt: Gazeta de Holanda (1886-88)\n",
      "poesia/maps05.txt: Ocidentais (1901)\n",
      "poesia/maps06.txt: O Almada (1908)\n",
      "poesia/maps07.txt: Dispersas (1854-1939)\n",
      "\n",
      "Contos\n",
      "\n",
      "contos/macn001.txt: Contos Fluminenses (1870); Miss Dollar; Luís Soares; A mulher de preto; O segredo de Augusta; Confissões de uma viúva moça; Linha reta e linha curva; Frei Sim\n",
      "contos/macn002.txt: Histórias da meia-noite (1873); A parasita azul; As bodas de Luís Duarte; Ernesto de Tal; Aurora sem dia; O relógio de ouro; Ponto de vista\n",
      "contos/macn003.txt: Papéis avulsos (1882); O alienista; Teoria do medalhão; A chinela turca; Na arca; D. Benedita; O segredo do bonzo; O anel de Polícrates; O empréstimo; A sereníssima república; O espelho; Uma visita de Alcibíades; Verba testamentária\n",
      "contos/macn004.txt: Histórias sem data (1884); A igreja do Diabo; O lapso; Último capítulo; Cantiga de esponsais; Singular ocorrência; Galeria póstuma; Capítulo dos chapéus; Conto alexandrino; Rimas de Sapucaia!; Uma senhora; Anedota pecuniária; Fulano; A segunda vida; Noite de almirante; Manuscrito de um sacristão; Ex cathedra; A senhora do Galvão; As academias de Sião\n",
      "contos/macn005.txt: Várias histórias (1896); A cartomante; Entre santos; Uns braços; Um homem célebre; A desejada das gentes; A causa secreta; Trio em lá menor; Adão e Eva; O enfermeiro; O diplomático; Mariana; Conto de escola; Um apólogo; D. Paula; Viver!; O cônego ou Metafísica do estilo\n",
      "contos/macn006.txt: Páginas recolhidas (1899); O caso da vara; O dicionário; Um erradio; Eterno!; Missa do galo; Idéias de canário; Lágrimas de Xerxes; Papéis velhos\n",
      "contos/macn007.txt: Relíquias de Casa Velha (1906); Pai contra mãe; Maria Cora; Marcha fúnebre; Um capitão de voluntários; Suje-se gordo!; Umas férias; Evolução; Pílades e Orestes; Anedota do cabriolet\n",
      "\n",
      "Traducao\n",
      "\n",
      "traducao/matr01.txt: Suplício de uma mulher (1865)\n",
      "traducao/matr02.txt: Os trabalhadores do mar (1866)\n",
      "traducao/matr03.txt: Oliver Twist (1870)\n",
      "\n",
      "Teatro\n",
      "\n",
      "teatro/matt01.txt: As forcas caudinas (1956)\n",
      "teatro/matt02.txt: Hoje avental, amanhã luva (1860)\n",
      "teatro/matt03.txt: Desencantos (1861)\n",
      "teatro/matt04.txt: O caminho da porta / O protocolo (1863)\n",
      "teatro/matt05.txt: Quase ministro (1864)\n",
      "teatro/matt06.txt: Os deuses de casaca (1866)\n",
      "teatro/matt07.txt: O bote de rapé (1878)\n",
      "teatro/matt08.txt: Tu, só tu, puro amor (1880)\n",
      "teatro/matt09.txt: Não consultes médico (1899)\n",
      "teatro/matt10.txt: Lição de botânica (1906)\n",
      "\n",
      "Cronica\n",
      "\n",
      "cronica/macr01.txt: Comentários da semana (1861-1863)\n",
      "cronica/macr02.txt: Crônicas do Dr. Semana (1861-1864)\n",
      "cronica/macr03.txt: Crônicas - O futuro (1862-1863)\n",
      "cronica/macr04.txt: Ao acaso (1864-1865)\n",
      "cronica/macr05.txt: Cartas fluminenses (1867)\n",
      "cronica/macr06.txt: Badaladas (1871-1873)\n",
      "cronica/macr07.txt: História de quinze dias (1876-1877)\n",
      "cronica/macr08.txt: História dos trinta dias (1878)\n",
      "cronica/macr09.txt: Notas semanais (1878)\n",
      "cronica/macr10.txt: Balas de estalo (1883-1886)\n",
      "cronica/macr11.txt: Bons dias! (1888-1889)\n",
      "cronica/macr12.txt: A semana (1892-1800)\n",
      "cronica/macr13.txt: O jornal e o livro (1859)\n",
      "cronica/macr14.txt: A reforma pelo jornal (1859)\n",
      "cronica/macr15.txt: Aquarelas (1859)\n",
      "cronica/macr16.txt: O Visconde de Castilho (1875)\n",
      "cronica/macr17.txt: Cherchez la femme (1881)\n",
      "cronica/macr18.txt: José de Alencar (1883)\n",
      "cronica/macr19.txt: Joaquim Serra (1888)\n",
      "cronica/macr20.txt: O futuro dos argentinos (1888)\n",
      "cronica/macr21.txt: Entre 1892 e 1894 (1892-1894)\n",
      "cronica/macr22.txt: Henrique Chaves (1893)\n",
      "cronica/macr23.txt: Henrique Lombaerts (1897)\n",
      "cronica/macr24.txt: O velho Senado (1898)\n",
      "critica/mact01.txt: O Passado, o presente e o futuro da literatura (1858)\n",
      "critica/mact02.txt: Idéias sobre o teatro (1859)\n",
      "critica/mact03.txt: Revista dos teatros (1859)\n",
      "critica/mact04.txt: Revista Dramática (1860)\n",
      "critica/mact05.txt: A Crítica teatral. José de Alencar: Mãe (1860)\n",
      "critica/mact06.txt: Crítica variada - Diário do RJ (1862)\n",
      "critica/mact07.txt: Flores e Frutos, de Bruno Seabra (1862)\n",
      "critica/mact08.txt: Pareceres - Conservatório Dramático (1862-1864)\n",
      "critica/mact09.txt: Homem de Mello e B. Pinheiro  A Constituinte perante a História e Sombras e Luz (1863)\n",
      "critica/mact10.txt: Peregrinação pela província de S. Paulo , por A. E. Zaluar (1863)\n",
      "critica/mact11.txt: Revelações , de A. E. Zaluar (1863)\n",
      "critica/mact12.txt: Dois folhetins. Suplício de uma mulher (1865)\n",
      "critica/mact13.txt: O Ideal do crítico (1865)\n",
      "critica/mact14.txt: Álvares de Azevedo: Lira dos vinte anos (1866)\n",
      "critica/mact15.txt: Crítica teatral (1866)\n",
      "critica/mact16.txt: Fagundes Varela  Cantos e fantasias (1866)\n",
      "critica/mact17.txt: J .M. de Macedo: O culto do dever (1866)\n",
      "critica/mact18.txt: José de Alencar: Iracema (1866)\n",
      "critica/mact19.txt: Junqueira Freire: Inspirações do claustro (1866)\n",
      "critica/mact20.txt: Porto Alegre: Colombo (1866)\n",
      "critica/mact21.txt: Propósito (1866)\n",
      "critica/mact22.txt: Castro Alves (1868)\n",
      "critica/mact23.txt: Lúcio de Mendonça: Névoas matutinas (1872)\n",
      "critica/mact24.txt: Un cuento endemoniado e La mujer misteriosa , de Guilherme Malta (1872)\n",
      "critica/mact25.txt: Notícia da atual literatura brasileira: Instinto de nacionalidade (1873)\n",
      "critica/mact26.txt: Fagundes Varela (1875)\n",
      "critica/mact27.txt: Eça de Queirós: O primo Basílio (1878)\n",
      "critica/mact28.txt: Francisco de Castro: Harmonias errantes (1878)\n",
      "critica/mact29.txt: A Nova geração (1879)\n",
      "critica/mact30.txt: Carlos Jansen: Contos seletos das mil e uma noites (1882)\n",
      "critica/mact31.txt: Raimundo Correia: Sinfonias (1882)\n",
      "critica/mact32.txt: Alberto de Oliveira: Meridionais (1884)\n",
      "critica/mact33.txt: Enéias Galvão: Miragens (1885)\n",
      "critica/mact34.txt: L. L. Fernandes Pinheiro Júnior: Tipos e quadros (1886)\n",
      "critica/mact35.txt: José de Alencar: O Guarani (1887)\n",
      "critica/mact36.txt: Henriqueta Renan (1896)\n",
      "critica/mact37.txt: Discursos na Academia Brasileira de Letras (1897)\n",
      "critica/mact38.txt: Magalhães de Azeredo: Procelárias (1898)\n",
      "critica/mact39.txt: Cenas da vida amazônica , de José Veríssimo (1899)\n",
      "critica/mact40.txt: Garrett (1899)\n",
      "critica/mact41.txt: Eça de Queirós (1900)\n",
      "critica/mact42.txt: Eduardo Prado (1901)\n",
      "critica/mact43.txt: Magalhães de Azeredo e Mário de Alencar: Horas sagradas e Versos (1902)\n",
      "critica/mact44.txt: Oliveira Lima: Secretário d'el-rei (1904)\n",
      "critica/mact45.txt: Joaquim Nabuco: Pensées détachées et souvenirs (1906)\n",
      "\n",
      "Miscelanea\n",
      "\n",
      "miscelanea/mams01.txt: Os imortais (1859)\n",
      "miscelanea/mams02.txt: Queda que as mulheres têm para os tolos (1861)\n",
      "miscelanea/mams03.txt: Carta ao Sr. Bispo do RJ (1862)\n",
      "miscelanea/mams04.txt: Carta à redação da Imprensa Acadêmica (1864)\n",
      "miscelanea/mams05.txt: Pedro Luís (1884)\n",
      "miscelanea/mams06.txt: A morte de Francisco Otaviano (1889)\n",
      "miscelanea/mams07.txt: Secretaria de Agricultura (1890)\n",
      "miscelanea/mams08.txt: A Paixão de Jesus (1904)\n",
      "miscelanea/mams09.txt: Gonçalves Dias (1906)\n",
      "miscelanea/mams10.txt: A Estátua de José de Alencar (1906)\n",
      "\n"
     ]
    }
   ],
   "source": [
    "print (machado.readme())"
   ]
  },
  {
   "cell_type": "markdown",
   "metadata": {},
   "source": [
    "Para abrir um arquivo do corpus, basta referenciá-lo pelo seu identificador. Vamos trabalhar com o livro  Memórias Póstumas de Brás Cubas (identificador `romance/marm05.txt`)"
   ]
  },
  {
   "cell_type": "code",
   "execution_count": 5,
   "metadata": {},
   "outputs": [
    {
     "name": "stdout",
     "output_type": "stream",
     "text": [
      "o\n",
      "público.\n",
      "\n",
      "Capistrano de Abreu, noticiando a\n",
      "publicação do livro, perguntava: As Memórias Póstumas de Brás Cubas são\n",
      "um romance? Macedo Soares, em carta que me escreveu por esse tempo, recordava\n",
      "amigamente as Viagens na minha terra. Ao primeiro respondia já o defunto\n",
      "Brás Cubas (como o leitor viu e verá no prólogo dele que vai adiante) que sim e\n",
      "que não, que era romance para uns e não o era para outros. Quanto ao segundo,\n",
      "assim se explicou o finado: Trata-se de uma obra difusa, na qual eu, Brás\n",
      "Cubas, se adotei a forma livre de um Sterne ou de um Xavier de Maistre, não sei\n",
      "se lhe meti algumas rabugens de pessimismo. Toda essa gente viajou: Xavier de\n",
      "Maistre à roda do quarto, Garret na terra dele, Sterne na terra dos outros. De\n",
      "Brás Cubas se pode dizer que viajou à roda da vida.\n",
      "\n",
      "O que faz do meu Brás Cubas um\n",
      "autor particular é o que ele chama rabugens de pessimismo. Há na alma deste\n",
      "livro, por mais risonho que pareça, um sentimento amargo e áspero, que está\n",
      "longe de vir de seus\n"
     ]
    }
   ],
   "source": [
    "mpbc_text = machado.raw('romance/marm05.txt')\n",
    "print (mpbc_text[800:1800])"
   ]
  },
  {
   "cell_type": "markdown",
   "metadata": {},
   "source": [
    "O NLTK possui a classe `Text` que facilita a exploração de textos. \n",
    "\n",
    "Da documentação: *Its methods perform a variety of analyses\n",
    "on the text's contexts (e.g., counting, concordancing, collocation\n",
    "discovery), and display the results.  If you wish to write a\n",
    "program which makes use of these analyses, then you should bypass\n",
    "the ``Text`` class, and use the appropriate analysis function or\n",
    "class directly instead.*"
   ]
  },
  {
   "cell_type": "code",
   "execution_count": 8,
   "metadata": {},
   "outputs": [],
   "source": [
    "from nltk.text import Text"
   ]
  },
  {
   "cell_type": "code",
   "execution_count": 11,
   "metadata": {},
   "outputs": [],
   "source": [
    "mpbc_words = machado.words('romance/marm05.txt')"
   ]
  },
  {
   "cell_type": "code",
   "execution_count": 14,
   "metadata": {},
   "outputs": [],
   "source": [
    "mpbc = Text(mpbc_words, name=\"Memórias Póstumas de Brás Cubas (1881)\")"
   ]
  },
  {
   "cell_type": "markdown",
   "metadata": {},
   "source": [
    "O método `concordance` procura pela palavra especificada no texto e mostra as suas ocorrências em contexto."
   ]
  },
  {
   "cell_type": "code",
   "execution_count": 8,
   "metadata": {},
   "outputs": [
    {
     "name": "stdout",
     "output_type": "stream",
     "text": [
      "Displaying 8 of 8 matches:\n",
      " terra . Ao primeiro respondia já o defunto Brás Cubas ( como o leitor viu e ve\n",
      "is para não entrar na crítica de um defunto , que se pintou a si e a outros , c\n",
      "ue eu não sou propriamente um autor defunto , mas um defunto autor , para quem \n",
      "priamente um autor defunto , mas um defunto autor , para quem a campa foi outro\n",
      "e a atitude lhe dava a imagem de um defunto . Ultimamente , restituído à forma \n",
      "ranqueza é a primeira virtude de um defunto . Na vida , o olhar da opinião , o \n",
      "o . O melhor de tudo era esquecer o defunto , um lorpa , um cainho sem nome , e\n",
      " recuou , como se fosse um beijo de defunto . CAPÍTULO XCVII / ENTRE A BOCA E A\n"
     ]
    }
   ],
   "source": [
    "mpbc.concordance('defunto')"
   ]
  },
  {
   "cell_type": "markdown",
   "metadata": {},
   "source": [
    "O método `similar` procura todas as palavras `w'` que aparecem no mesmo trigrama `w1 w w2` em substituição à palavra `w` buscada. "
   ]
  },
  {
   "cell_type": "code",
   "execution_count": 9,
   "metadata": {},
   "outputs": [
    {
     "name": "stdout",
     "output_type": "stream",
     "text": [
      "papel capítulo dia beijo que um leitor sentimento isto discurso amigo\n",
      "cotrim solteirão mal emplasto mim temporal homem filho sujeito\n"
     ]
    }
   ],
   "source": [
    "mpbc.similar('defunto')"
   ]
  },
  {
   "cell_type": "code",
   "execution_count": 17,
   "metadata": {},
   "outputs": [
    {
     "name": "stdout",
     "output_type": "stream",
     "text": [
      "um me é a ao por não de do assim no eu e este meu era lhe ele muito em\n",
      "que mais para ainda sim isso possível homem virgília disse claro foi\n",
      "esse tempo uma sei outro digo melhor algum isto vulgar sou bom pouco\n",
      "dizia nada então confessar natural\n"
     ]
    }
   ],
   "source": [
    "mpbc.similar('o', num=50)"
   ]
  },
  {
   "cell_type": "code",
   "execution_count": 11,
   "metadata": {},
   "outputs": [
    {
     "name": "stdout",
     "output_type": "stream",
     "text": [
      "que dizia e para não eu de era é muito creio dava acrescentou a foi o\n",
      "por dizer mas digo\n"
     ]
    }
   ],
   "source": [
    "mpbc.similar('disse')"
   ]
  },
  {
   "cell_type": "markdown",
   "metadata": {},
   "source": [
    "`FreqDist` mapeia cada saída de um experimento ao número de vezes em que ele ocorre."
   ]
  },
  {
   "cell_type": "code",
   "execution_count": 18,
   "metadata": {},
   "outputs": [],
   "source": [
    "from nltk.probability import FreqDist"
   ]
  },
  {
   "cell_type": "code",
   "execution_count": 14,
   "metadata": {},
   "outputs": [],
   "source": [
    "fd = FreqDist(mpbc_words)"
   ]
  },
  {
   "cell_type": "code",
   "execution_count": 16,
   "metadata": {},
   "outputs": [
    {
     "data": {
      "text/plain": [
       "[(',', 6918),\n",
       " ('.', 2921),\n",
       " ('a', 2430),\n",
       " ('que', 2133),\n",
       " ('de', 2063),\n",
       " ('e', 1823),\n",
       " ('-', 1748),\n",
       " ('o', 1618),\n",
       " (';', 1260),\n",
       " ('me', 978),\n",
       " ('um', 923),\n",
       " ('não', 911),\n",
       " ('\\x97', 745),\n",
       " ('se', 712),\n",
       " ('do', 680),\n",
       " ('da', 644),\n",
       " ('uma', 631),\n",
       " ('com', 559),\n",
       " ('os', 483),\n",
       " ('é', 477)]"
      ]
     },
     "execution_count": 16,
     "metadata": {},
     "output_type": "execute_result"
    }
   ],
   "source": [
    "fd.most_common(20)"
   ]
  },
  {
   "cell_type": "markdown",
   "metadata": {},
   "source": [
    "Repare que as palavras mais comuns são pontuações e stopwords (token sem significado semântico). O NLTK conta com uma lista de stopwords para português."
   ]
  },
  {
   "cell_type": "code",
   "execution_count": 19,
   "metadata": {},
   "outputs": [
    {
     "data": {
      "text/plain": [
       "(['de', 'a', 'o', 'que', 'e', 'é', 'do', 'da', 'em', 'um'], 204)"
      ]
     },
     "execution_count": 19,
     "metadata": {},
     "output_type": "execute_result"
    }
   ],
   "source": [
    "stopwords = nltk.corpus.stopwords.words('portuguese')\n",
    "stopwords[:10], len(stopwords)"
   ]
  },
  {
   "cell_type": "code",
   "execution_count": 20,
   "metadata": {},
   "outputs": [],
   "source": [
    "def is_pontuacao(word):\n",
    "    return word in [',', '.', ';', ':', '-', '!', '?', '/', '\\'', '...']\n",
    "def is_stopword(word):\n",
    "    return word in stopwords"
   ]
  },
  {
   "cell_type": "code",
   "execution_count": 21,
   "metadata": {},
   "outputs": [
    {
     "name": "stdout",
     "output_type": "stream",
     "text": [
      "77098 palavras\n",
      "63027 palavras, removendo pontuação\n",
      "34232 palavras, removendo pontuação e stopwords\n",
      "10544 palavras únicas, removendo pontuação e stopwords\n"
     ]
    }
   ],
   "source": [
    "print ('%d palavras' % len(mpbc_words))\n",
    "print ('%d palavras, removendo pontuação' % len([w for w in mpbc_words if not is_pontuacao(w)]))\n",
    "print ('%d palavras, removendo pontuação e stopwords' % len(\n",
    "    [w for w in mpbc_words if not (is_pontuacao((w)) or is_stopword(w.lower()))]))\n",
    "\n",
    "print ('%d palavras únicas, removendo pontuação e stopwords' % len(\n",
    "    set([w for w in mpbc_words if not (is_pontuacao(w) or is_stopword(w.lower()))])))"
   ]
  },
  {
   "cell_type": "code",
   "execution_count": 22,
   "metadata": {},
   "outputs": [],
   "source": [
    "mpbc_words_clean = [w for w in mpbc_words if not (is_pontuacao(w) or is_stopword(w.lower()))]"
   ]
  },
  {
   "cell_type": "code",
   "execution_count": 23,
   "metadata": {},
   "outputs": [
    {
     "data": {
      "text/plain": [
       "[('\\x97', 745),\n",
       " ('Virgília', 193),\n",
       " ('disse', 176),\n",
       " ('CAPÍTULO', 160),\n",
       " ('coisa', 148),\n",
       " ('olhos', 137),\n",
       " ('outro', 123),\n",
       " ('vida', 116),\n",
       " ('nada', 114),\n",
       " ('tempo', 113),\n",
       " ('menos', 110),\n",
       " ('outra', 109),\n",
       " ('homem', 106),\n",
       " ('casa', 106),\n",
       " ('porque', 105),\n",
       " ('mim', 100),\n",
       " ('ser', 97),\n",
       " ('pouco', 96),\n",
       " ('tão', 92),\n",
       " ('dia', 92)]"
      ]
     },
     "execution_count": 23,
     "metadata": {},
     "output_type": "execute_result"
    }
   ],
   "source": [
    "fd = FreqDist(mpbc_words_clean)\n",
    "fd.most_common(20)"
   ]
  },
  {
   "cell_type": "code",
   "execution_count": 24,
   "metadata": {},
   "outputs": [],
   "source": [
    "import matplotlib.pyplot as plt"
   ]
  },
  {
   "cell_type": "code",
   "execution_count": 27,
   "metadata": {},
   "outputs": [
    {
     "data": {
      "image/png": "[encoded data removed]",
      "text/plain": [
       "<Figure size 1080x360 with 1 Axes>"
      ]
     },
     "metadata": {
      "needs_background": "light"
     },
     "output_type": "display_data"
    }
   ],
   "source": [
    "plt.figure(figsize=(15, 5))\n",
    "fd.plot(50, cumulative=True);"
   ]
  },
  {
   "cell_type": "code",
   "execution_count": 28,
   "metadata": {},
   "outputs": [
    {
     "data": {
      "image/png": "[encoded data removed]",
      "text/plain": [
       "<Figure size 864x360 with 1 Axes>"
      ]
     },
     "metadata": {
      "needs_background": "light"
     },
     "output_type": "display_data"
    }
   ],
   "source": [
    "plt.figure(figsize=(12, 5))\n",
    "FreqDist([len(w) for w in mpbc_words_clean]).plot(20, cumulative=True);"
   ]
  },
  {
   "cell_type": "markdown",
   "metadata": {},
   "source": [
    "Hápax é uma expressão que designa uma palavra que se utilizou ou registrou apenas uma vez num corpus."
   ]
  },
  {
   "cell_type": "code",
   "execution_count": 29,
   "metadata": {},
   "outputs": [
    {
     "data": {
      "text/plain": [
       "['Romance',\n",
       " 'Texto',\n",
       " 'Completa',\n",
       " 'Editora',\n",
       " 'Aguilar',\n",
       " '1994',\n",
       " 'Publicado',\n",
       " 'originalmente',\n",
       " 'folhetins',\n",
       " 'roeu',\n",
       " 'dedico',\n",
       " 'Prólogo',\n",
       " 'Postas',\n",
       " 'rever',\n",
       " 'emendei',\n",
       " 'suprimi',\n",
       " 'composta',\n",
       " 'encontrado',\n",
       " 'Capistrano',\n",
       " 'Abreu',\n",
       " 'noticiando',\n",
       " 'Soares',\n",
       " 'recordava',\n",
       " 'amigamente',\n",
       " 'Viagens',\n",
       " 'Toda',\n",
       " 'Garret',\n",
       " 'modelos',\n",
       " 'taça',\n",
       " 'lavores',\n",
       " 'LEITOR',\n",
       " 'consterna',\n",
       " 'consternará',\n",
       " 'Dez',\n",
       " 'tinta',\n",
       " 'antever',\n",
       " 'poderá',\n",
       " 'conúbio',\n",
       " 'frívola',\n",
       " 'privado',\n",
       " 'frívolos',\n",
       " 'angariar',\n",
       " 'simpatias',\n",
       " 'explícito',\n",
       " 'contém',\n",
       " 'truncado',\n",
       " 'Conseguintemente',\n",
       " 'evito',\n",
       " 'trabalhadas',\n",
       " 'nimiamente',\n",
       " 'extenso',\n",
       " 'desnecessário',\n",
       " 'ÓBITO',\n",
       " 'poria',\n",
       " 'Suposto',\n",
       " 'considerações',\n",
       " 'adotar',\n",
       " 'propriamente',\n",
       " 'campa',\n",
       " 'Moisés',\n",
       " 'intróito',\n",
       " 'radical',\n",
       " 'Pentateuco',\n",
       " 'expirei',\n",
       " 'agosto',\n",
       " 'Catumbi',\n",
       " 'rijos',\n",
       " 'prósperos',\n",
       " 'Onze',\n",
       " 'anúncios',\n",
       " 'peneirava',\n",
       " 'chuvinha',\n",
       " 'fiéis',\n",
       " 'engenhosa',\n",
       " 'proferiu',\n",
       " 'beira',\n",
       " 'conhecestes',\n",
       " 'chorando',\n",
       " 'perda',\n",
       " 'gotas',\n",
       " 'cobrem',\n",
       " 'crepe',\n",
       " 'funéreo',\n",
       " 'crua',\n",
       " 'cláusula',\n",
       " 'undiscovered',\n",
       " 'country',\n",
       " 'ânsias',\n",
       " 'príncipe',\n",
       " 'pausado',\n",
       " 'trôpego',\n",
       " 'retira',\n",
       " 'parenta',\n",
       " 'parentas',\n",
       " 'carpisse',\n",
       " 'óbito',\n",
       " 'altamente',\n",
       " 'dramática',\n",
       " 'expira',\n",
       " 'reúna',\n",
       " 'aparentá',\n",
       " 'entreaberta',\n",
       " 'Morto',\n",
       " 'viajante',\n",
       " 'desferirem',\n",
       " 'africanas',\n",
       " 'ruínas',\n",
       " 'destroços',\n",
       " 'Deixá',\n",
       " 'metodicamente',\n",
       " 'falas',\n",
       " 'baixas',\n",
       " 'tamborila',\n",
       " 'tinhorão',\n",
       " 'estrídulo',\n",
       " 'navalha',\n",
       " 'amolador',\n",
       " 'afiando',\n",
       " 'correeiro',\n",
       " 'estrebuchava',\n",
       " 'esvaía',\n",
       " 'lodo',\n",
       " 'Morri',\n",
       " 'Julgue',\n",
       " 'EMPLASTO',\n",
       " 'pendurou',\n",
       " 'bracejar',\n",
       " 'pernear',\n",
       " 'arrojadas',\n",
       " 'volatim',\n",
       " 'decifra',\n",
       " 'devoro',\n",
       " 'medicamento',\n",
       " 'emplastro',\n",
       " 'hipocondríaco',\n",
       " 'aliviar',\n",
       " 'melancólica',\n",
       " 'petição',\n",
       " 'privilégio',\n",
       " 'redigi',\n",
       " 'neguei',\n",
       " 'pecuniárias',\n",
       " 'resultar',\n",
       " 'profundos',\n",
       " 'influiu',\n",
       " 'impressas',\n",
       " 'mostradores',\n",
       " 'folhetos',\n",
       " 'esquinas',\n",
       " 'caixinhas',\n",
       " 'Emplasto',\n",
       " 'cartaz',\n",
       " 'foguete',\n",
       " 'modestos',\n",
       " 'argúam',\n",
       " 'hábeis',\n",
       " 'medalhas',\n",
       " 'virada',\n",
       " 'sede',\n",
       " 'Digamos',\n",
       " 'prebenda',\n",
       " 'perdição',\n",
       " 'cobiçar',\n",
       " 'terços',\n",
       " 'Decida',\n",
       " 'III',\n",
       " 'GENEALOGIA',\n",
       " 'deixem',\n",
       " 'esboço',\n",
       " 'genealógico',\n",
       " 'fundador',\n",
       " 'floresceu',\n",
       " 'penúria',\n",
       " 'exercesse',\n",
       " 'lavrador',\n",
       " 'plantou',\n",
       " 'permutou',\n",
       " 'honradas',\n",
       " 'patacas',\n",
       " 'cabedal',\n",
       " 'licenciado',\n",
       " 'estudou',\n",
       " 'primou',\n",
       " 'cheirasse',\n",
       " 'excessivamente',\n",
       " 'alegava',\n",
       " 'bisneto',\n",
       " 'cavaleiro',\n",
       " 'jornadas',\n",
       " 'façanha',\n",
       " 'arrebatando',\n",
       " 'mouros',\n",
       " 'calembour',\n",
       " 'leal',\n",
       " 'pacholice',\n",
       " 'pachola',\n",
       " 'Releva',\n",
       " 'recorreu',\n",
       " 'inventiva',\n",
       " 'experimentar',\n",
       " 'falsificação',\n",
       " 'entroncou',\n",
       " 'homônimo',\n",
       " 'fundou',\n",
       " 'vila',\n",
       " 'Vicente',\n",
       " '1592',\n",
       " 'Opôs',\n",
       " 'imaginou',\n",
       " 'mouriscas',\n",
       " 'Vivem',\n",
       " 'vive',\n",
       " 'antecipemos',\n",
       " 'IV',\n",
       " 'IDÉIA',\n",
       " 'FIXA',\n",
       " 'constituíra',\n",
       " 'argueiro',\n",
       " 'trave',\n",
       " 'Cavour',\n",
       " 'Bismarck',\n",
       " 'advertir',\n",
       " 'caprichosa',\n",
       " 'loureira',\n",
       " 'Cláudio',\n",
       " 'simplório',\n",
       " 'Tito',\n",
       " 'mereceu',\n",
       " 'modernamente',\n",
       " 'professor',\n",
       " 'demonstrar',\n",
       " 'césares',\n",
       " 'madama',\n",
       " 'Lucrécia',\n",
       " 'Bórgias',\n",
       " 'Messalina',\n",
       " 'católica',\n",
       " 'Gregorovius',\n",
       " 'apagou',\n",
       " 'ficaste',\n",
       " 'sábio',\n",
       " 'furta',\n",
       " 'Cláudios',\n",
       " 'pirâmides',\n",
       " 'Egito',\n",
       " 'finada',\n",
       " 'dieta',\n",
       " 'germânica',\n",
       " 'quadrar',\n",
       " 'narrativa',\n",
       " 'confrades',\n",
       " 'desafrontado',\n",
       " 'supinamente',\n",
       " 'brincalhona',\n",
       " 'edifica',\n",
       " 'destrói',\n",
       " 'regala',\n",
       " 'passatempo',\n",
       " 'apostolado',\n",
       " 'retifique',\n",
       " 'tornemos',\n",
       " 'Deixemos',\n",
       " 'pelejou',\n",
       " 'batalha',\n",
       " 'Salamina',\n",
       " 'Augsburgo',\n",
       " 'lembro',\n",
       " 'trancara',\n",
       " 'imposto',\n",
       " 'vitória',\n",
       " 'farmácia',\n",
       " 'puritanismo',\n",
       " 'bandeira',\n",
       " 'ostensiva',\n",
       " 'bandeiras',\n",
       " 'hasteiam',\n",
       " 'flutuam',\n",
       " 'sobrevivem',\n",
       " 'acolhia',\n",
       " 'feudal',\n",
       " 'graúda',\n",
       " 'castelã',\n",
       " 'presta',\n",
       " 'APARECE',\n",
       " 'ORELHA',\n",
       " 'SENHORA',\n",
       " 'Senão',\n",
       " 'ocupado',\n",
       " 'apurar',\n",
       " 'ascender',\n",
       " 'turbas',\n",
       " 'imortal',\n",
       " 'punge',\n",
       " 'incompletamente',\n",
       " 'Sabem',\n",
       " 'morri',\n",
       " 'aziago',\n",
       " 'provado',\n",
       " 'lúcidas',\n",
       " 'triunfantes',\n",
       " 'galgar',\n",
       " 'figurar',\n",
       " 'macróbios',\n",
       " 'robustez',\n",
       " 'Suponha',\n",
       " 'alicerces',\n",
       " 'farmacêutica',\n",
       " 'instituição',\n",
       " 'reforma',\n",
       " 'vence',\n",
       " 'cálculo',\n",
       " 'contemporâneas',\n",
       " '54',\n",
       " 'imponente',\n",
       " 'Imagine',\n",
       " 'amamos',\n",
       " 'CHIMÈNE',\n",
       " 'DIT',\n",
       " 'RODRIGUE',\n",
       " 'CRU',\n",
       " 'detida',\n",
       " 'jazia',\n",
       " 'Ezequias',\n",
       " 'juvenis',\n",
       " 'Recuou',\n",
       " 'pó',\n",
       " 'Juventa',\n",
       " 'igualaria',\n",
       " 'Creiam',\n",
       " 'fie',\n",
       " 'gota',\n",
       " 'Corrido',\n",
       " 'espasmo',\n",
       " 'evocação',\n",
       " 'dominou',\n",
       " 'expeliu',\n",
       " 'exponha',\n",
       " 'câmbio',\n",
       " 'colonização',\n",
       " 'desenvolver',\n",
       " 'viação',\n",
       " 'férrea',\n",
       " 'moribundo',\n",
       " 'articular',\n",
       " 'devastados',\n",
       " 'resistem',\n",
       " 'começavam',\n",
       " 'escuros',\n",
       " 'fios',\n",
       " 'muxoxo',\n",
       " 'apertar',\n",
       " 'Ando',\n",
       " 'ponho',\n",
       " 'carícia',\n",
       " 'lacrimosa',\n",
       " 'Sentou',\n",
       " 'enfermeiro',\n",
       " 'notícias',\n",
       " 'narrando',\n",
       " 'travo',\n",
       " 'satânico',\n",
       " 'mofar',\n",
       " 'Todos',\n",
       " 'estarmos',\n",
       " 'retorqui',\n",
       " 'repara',\n",
       " 'inconsciente',\n",
       " 'permitiu',\n",
       " 'corresponder',\n",
       " 'afáveis',\n",
       " 'adivinhou',\n",
       " 'repares',\n",
       " 'imaculadas',\n",
       " 'suspeito',\n",
       " 'denunciar',\n",
       " 'igualdade',\n",
       " 'dominação',\n",
       " 'tocássemos',\n",
       " 'casualmente',\n",
       " 'nuns',\n",
       " 'ilegítimos',\n",
       " 'divulgados',\n",
       " 'diriam',\n",
       " 'gaviões',\n",
       " 'Buffon',\n",
       " 'gavião',\n",
       " 'VII',\n",
       " 'DELÍRIO',\n",
       " 'conste',\n",
       " 'agradecerá',\n",
       " 'mentais',\n",
       " 'chinês',\n",
       " 'bojudo',\n",
       " 'escanhoando',\n",
       " 'confeitos',\n",
       " 'transformado',\n",
       " 'Suma',\n",
       " 'Teológica',\n",
       " 'Tomás',\n",
       " 'impressa',\n",
       " 'encadernada',\n",
       " 'marroquim',\n",
       " 'estampas',\n",
       " 'cruzando',\n",
       " 'descruzava',\n",
       " 'Ultimamente',\n",
       " 'restituído',\n",
       " 'atrevi',\n",
       " 'interrogá',\n",
       " 'Engana',\n",
       " 'muitíssimo',\n",
       " 'descendente',\n",
       " 'asna',\n",
       " 'Balaão',\n",
       " 'quadrúpedes',\n",
       " 'Nilo',\n",
       " 'fechados',\n",
       " 'aumentava',\n",
       " 'gelos',\n",
       " 'galopava',\n",
       " 'animais',\n",
       " 'gelar',\n",
       " 'Tentei',\n",
       " 'passamos',\n",
       " 'Éden',\n",
       " 'paremos',\n",
       " 'tenda',\n",
       " 'caminhamos',\n",
       " 'redargüiu',\n",
       " 'motejando',\n",
       " 'extravagante',\n",
       " 'condução',\n",
       " 'chegássemos',\n",
       " 'irritados',\n",
       " 'devassarem',\n",
       " 'esmagassem',\n",
       " 'seculares',\n",
       " 'íamos',\n",
       " 'devorando',\n",
       " 'voava',\n",
       " 'estacou',\n",
       " 'Olhar',\n",
       " 'brancura',\n",
       " 'invadira',\n",
       " 'brutesca',\n",
       " 'meneando',\n",
       " 'estúpida',\n",
       " 'Caiu',\n",
       " 'destacou',\n",
       " 'fitando',\n",
       " 'vastidão',\n",
       " 'selváticas',\n",
       " 'diáfano',\n",
       " 'Estupefato',\n",
       " 'Chama',\n",
       " 'soltou',\n",
       " 'gargalhada',\n",
       " 'torceram',\n",
       " 'gemido',\n",
       " 'mudez',\n",
       " 'assustes',\n",
       " 'inimizade',\n",
       " 'afirma',\n",
       " 'Vivo',\n",
       " 'enterrando',\n",
       " 'certificar',\n",
       " 'receies',\n",
       " 'provarás',\n",
       " 'ensandeceste',\n",
       " 'reouver',\n",
       " 'Dizendo',\n",
       " 'segurou',\n",
       " 'contorção',\n",
       " 'ferocidade',\n",
       " 'impassibilidade',\n",
       " 'surdez',\n",
       " 'imóvel',\n",
       " 'Raivas',\n",
       " 'encerradas',\n",
       " 'glacial',\n",
       " 'mescla',\n",
       " 'viço',\n",
       " 'débil',\n",
       " 'decrépito',\n",
       " 'Entendeste',\n",
       " 'fábula',\n",
       " 'enlouqueci',\n",
       " 'passas',\n",
       " 'alienado',\n",
       " 'reger',\n",
       " 'palpar',\n",
       " 'conheço',\n",
       " 'levo',\n",
       " 'bolsa',\n",
       " 'Tremes',\n",
       " 'fascina',\n",
       " 'emprestei',\n",
       " 'ecoou',\n",
       " 'trovão',\n",
       " 'afigurou',\n",
       " 'decomposição',\n",
       " 'encarei',\n",
       " 'súplices',\n",
       " 'devorar',\n",
       " 'devorado',\n",
       " 'Conheces',\n",
       " 'sobejo',\n",
       " 'deparei',\n",
       " 'alvor',\n",
       " 'quietação',\n",
       " 'aspectos',\n",
       " 'golpear',\n",
       " 'jucundo',\n",
       " 'perece',\n",
       " 'subsiste',\n",
       " 'dizes',\n",
       " 'tenro',\n",
       " 'estatuto',\n",
       " 'Sobe',\n",
       " 'vertentes',\n",
       " 'desfilar',\n",
       " 'Impérios',\n",
       " 'apetites',\n",
       " 'ódios',\n",
       " 'acerbo',\n",
       " 'condensação',\n",
       " 'desfilavam',\n",
       " ',\\x97',\n",
       " 'agravando',\n",
       " 'debilidade',\n",
       " 'devora',\n",
       " 'enxada',\n",
       " 'úmidas',\n",
       " 'vestes',\n",
       " 'arlequim',\n",
       " 'bastarda',\n",
       " 'flagelado',\n",
       " 'fatalidade',\n",
       " 'nebulosa',\n",
       " 'esquiva',\n",
       " 'retalho',\n",
       " 'cosidos',\n",
       " 'quimera',\n",
       " 'perpetuamente',\n",
       " 'apanhar',\n",
       " 'cingia',\n",
       " 'sumia',\n",
       " 'reter',\n",
       " 'angústia',\n",
       " 'protestar',\n",
       " 'descompassado',\n",
       " 'monótona',\n",
       " 'Jó',\n",
       " 'amaldiçoava',\n",
       " 'concebido',\n",
       " 'ganas',\n",
       " 'compelir',\n",
       " 'fortemente',\n",
       " 'continuavam',\n",
       " 'velozes',\n",
       " 'turbulentos',\n",
       " 'superpunham',\n",
       " 'Hebreus',\n",
       " 'devassos',\n",
       " 'Cômodo',\n",
       " 'pontuais',\n",
       " 'retinha',\n",
       " 'chegará',\n",
       " 'passará',\n",
       " 'dará',\n",
       " 'fixei',\n",
       " 'chegando',\n",
       " 'apatia',\n",
       " 'rebentavam',\n",
       " 'amareleciam',\n",
       " 'regularidade',\n",
       " 'calendário',\n",
       " 'desarmado',\n",
       " 'armava',\n",
       " 'vestia',\n",
       " 'construía',\n",
       " 'tugúrio',\n",
       " 'palácio',\n",
       " 'aldeia',\n",
       " 'perscruta',\n",
       " 'enleva',\n",
       " 'mecânico',\n",
       " 'esfera',\n",
       " 'colaborando',\n",
       " 'entretinha',\n",
       " 'desamparo',\n",
       " 'futuros',\n",
       " 'ágil',\n",
       " 'difuso',\n",
       " 'sabedor',\n",
       " 'miserável',\n",
       " 'passaram',\n",
       " 'Redobrei',\n",
       " '!;',\n",
       " 'trocarem',\n",
       " 'cresceram',\n",
       " 'minguaram',\n",
       " 'perderam',\n",
       " 'cobriu',\n",
       " 'Sultão',\n",
       " 'VIII',\n",
       " 'RAZÃO',\n",
       " 'CONTRA',\n",
       " 'voltava',\n",
       " 'convidava',\n",
       " 'clamando',\n",
       " 'jus',\n",
       " 'La',\n",
       " 'maison',\n",
       " 'moi',\n",
       " 'en',\n",
       " 'sortir',\n",
       " 'alheias',\n",
       " 'dificilmente',\n",
       " 'farão',\n",
       " 'despejar',\n",
       " 'tira',\n",
       " 'calejou',\n",
       " 'advertirmos',\n",
       " 'ocupa',\n",
       " 'estações',\n",
       " 'calmosas',\n",
       " 'concluiremos',\n",
       " 'peregrina',\n",
       " 'proprietários',\n",
       " 'distúrbio',\n",
       " 'adventícia',\n",
       " 'Afinal',\n",
       " 'cantinho',\n",
       " 'sótãos',\n",
       " 'experimentada',\n",
       " 'mansamente',\n",
       " 'pista',\n",
       " 'Hás',\n",
       " 'arrastou',\n",
       " 'grunhiu',\n",
       " 'zangas',\n",
       " 'desenganou',\n",
       " 'surriada',\n",
       " 'TRANSIÇÃO',\n",
       " 'destreza',\n",
       " 'transição',\n",
       " 'grão',\n",
       " 'pecado',\n",
       " '1805',\n",
       " 'juntura',\n",
       " 'divirta',\n",
       " 'pausada',\n",
       " 'rigidez',\n",
       " 'suspensórios',\n",
       " 'vizinha',\n",
       " 'fronteira',\n",
       " 'inspetor',\n",
       " 'quarteirão',\n",
       " 'eloqüência',\n",
       " 'feiticeira',\n",
       " 'tesa',\n",
       " 'engomada',\n",
       " 'NAQUELE',\n",
       " 'DIA',\n",
       " 'Nasci',\n",
       " 'Pascoela',\n",
       " 'parteira',\n",
       " 'minhota',\n",
       " 'gabava',\n",
       " 'geração',\n",
       " 'fidalgos',\n",
       " 'paterno',\n",
       " 'induziu',\n",
       " 'gratificá',\n",
       " 'meias',\n",
       " 'Lavado',\n",
       " 'enfaixado',\n",
       " 'prognosticava',\n",
       " 'quadrava',\n",
       " 'náuseas',\n",
       " 'farejava',\n",
       " 'admiraria',\n",
       " 'destinasse',\n",
       " 'Bento',\n",
       " 'alçava',\n",
       " 'intentasse',\n",
       " 'narrar',\n",
       " 'ignoro',\n",
       " 'pormenores',\n",
       " 'cumprimentar',\n",
       " 'recém',\n",
       " 'trabalhasse',\n",
       " 'aventou',\n",
       " 'calção',\n",
       " 'bênçãos',\n",
       " 'acabá',\n",
       " 'batizado',\n",
       " 'referiram',\n",
       " 'galhardas',\n",
       " '1806',\n",
       " 'batizei',\n",
       " 'Domingos',\n",
       " 'padrinhos',\n",
       " 'descendiam',\n",
       " 'famílias',\n",
       " 'honravam',\n",
       " 'derramado',\n",
       " 'obrigassem',\n",
       " 'recitá',\n",
       " 'Excelentíssimo',\n",
       " 'Vaz',\n",
       " 'Andrade',\n",
       " 'madrinha',\n",
       " 'Excelentíssima',\n",
       " 'Luísa',\n",
       " 'Resende',\n",
       " 'exclamavam',\n",
       " 'ouvintes',\n",
       " 'concordava',\n",
       " 'babavam',\n",
       " 'espalmava',\n",
       " 'apressar',\n",
       " 'obrigavam',\n",
       " 'pegavam',\n",
       " 'carrinhos',\n",
       " 'atraído',\n",
       " 'lata',\n",
       " 'acolá',\n",
       " 'MENINO',\n",
       " 'PAI',\n",
       " 'Cresci',\n",
       " 'cresci',\n",
       " 'matreiros',\n",
       " 'lineamentos',\n",
       " 'merecera',\n",
       " 'alcunha',\n",
       " 'malignos',\n",
       " 'voluntarioso',\n",
       " 'quebrei',\n",
       " 'negara',\n",
       " 'cinza',\n",
       " 'estragara',\n",
       " 'pirraça',\n",
       " 'cordel',\n",
       " 'queixos',\n",
       " 'guisa',\n",
       " 'trepava',\n",
       " 'dorso',\n",
       " 'varinha',\n",
       " 'fustigava',\n",
       " 'Esconder',\n",
       " 'rabos',\n",
       " 'matronas',\n",
       " 'façanhas',\n",
       " 'jaez',\n",
       " 'indócil',\n",
       " 'expressões',\n",
       " 'robusto',\n",
       " 'repreendia',\n",
       " 'conclua',\n",
       " 'opiniático',\n",
       " 'algo',\n",
       " 'contemptor',\n",
       " 'Outrossim',\n",
       " 'afeiçoei',\n",
       " 'injustiça',\n",
       " 'atenuá',\n",
       " 'classifiquei',\n",
       " 'padrão',\n",
       " 'rígido',\n",
       " 'doutrinava',\n",
       " 'decorar',\n",
       " 'governavam',\n",
       " 'regra',\n",
       " 'mingau',\n",
       " 'devedores',\n",
       " 'maldade',\n",
       " 'exclamava',\n",
       " 'fraca',\n",
       " 'crédula',\n",
       " 'abastada',\n",
       " 'temente',\n",
       " 'deus',\n",
       " 'colaboração',\n",
       " 'viciosa',\n",
       " 'incompleta',\n",
       " 'reparos',\n",
       " 'ensino',\n",
       " 'emenda',\n",
       " 'aplicava',\n",
       " 'usado',\n",
       " 'confundir',\n",
       " 'iludia',\n",
       " 'envolta',\n",
       " 'picaresca',\n",
       " 'admitir',\n",
       " 'reais',\n",
       " 'eivadas',\n",
       " 'obscenidade',\n",
       " 'imundície',\n",
       " 'adolescência',\n",
       " 'enveredava',\n",
       " 'escabroso',\n",
       " 'palestrar',\n",
       " 'escravas',\n",
       " 'ditos',\n",
       " 'perguntas',\n",
       " 'risadas',\n",
       " 'tanga',\n",
       " 'arregaçar',\n",
       " 'palmo',\n",
       " 'vestidos',\n",
       " 'inclinadas',\n",
       " 'batê',\n",
       " 'ensaboá',\n",
       " 'torcê',\n",
       " 'redargüindo',\n",
       " 'pilhérias',\n",
       " 'comentá',\n",
       " 'Cruz',\n",
       " 'pureza',\n",
       " 'dotes',\n",
       " 'realçavam',\n",
       " 'compensavam',\n",
       " 'substancial',\n",
       " 'externo',\n",
       " 'hierarquia',\n",
       " 'preeminências',\n",
       " 'sobrepelizes',\n",
       " 'circunflexões',\n",
       " 'altar',\n",
       " 'lacuna',\n",
       " 'excitava',\n",
       " 'mandamentos',\n",
       " 'trecho',\n",
       " 'Tertuliano',\n",
       " 'Nicéia',\n",
       " 'cantadas',\n",
       " 'oficiante',\n",
       " 'aspirar',\n",
       " 'Piedoso',\n",
       " 'observância',\n",
       " 'regras',\n",
       " 'subalterno',\n",
       " 'carecia',\n",
       " 'incutir',\n",
       " 'impor',\n",
       " 'materna',\n",
       " 'diferençava',\n",
       " 'viveu',\n",
       " 'Outros',\n",
       " 'merecem',\n",
       " 'citados',\n",
       " 'intermitente',\n",
       " 'claros',\n",
       " 'indicada',\n",
       " 'frouxidão',\n",
       " 'XII',\n",
       " 'EPISÓDIO',\n",
       " 'granjeara',\n",
       " 'acabara',\n",
       " 'persuadindo',\n",
       " 'renhidas',\n",
       " 'contendas',\n",
       " 'déspota',\n",
       " 'corso',\n",
       " 'dividiam',\n",
       " 'controvérsias',\n",
       " 'rusgas',\n",
       " 'chasco',\n",
       " 'remoque',\n",
       " 'vencidos',\n",
       " 'julgaram',\n",
       " 'decoroso',\n",
       " 'bateram',\n",
       " 'população',\n",
       " 'regateou',\n",
       " 'afeto',\n",
       " 'iluminações',\n",
       " 'salvas',\n",
       " 'Figurei',\n",
       " 'nesses',\n",
       " 'Antônio',\n",
       " 'rumorosa',\n",
       " 'arrancavam',\n",
       " 'ecoava',\n",
       " 'experimentado',\n",
       " 'cuidas',\n",
       " 'contentou',\n",
       " 'quinhão',\n",
       " 'celebrar',\n",
       " 'destituição',\n",
       " 'ruído',\n",
       " 'avô',\n",
       " 'toalhas',\n",
       " 'Flandres',\n",
       " 'capado',\n",
       " 'encomendaram',\n",
       " 'madres',\n",
       " 'Ajuda',\n",
       " 'marmeladas',\n",
       " 'lavaram',\n",
       " 'arearam',\n",
       " 'poliram',\n",
       " 'castiçais',\n",
       " 'arandelas',\n",
       " 'vastas',\n",
       " 'luxo',\n",
       " 'clássico',\n",
       " 'Dada',\n",
       " 'reunida',\n",
       " 'seleta',\n",
       " 'oficiais',\n",
       " 'militares',\n",
       " 'funcionários',\n",
       " 'administração',\n",
       " 'comungando',\n",
       " 'atolar',\n",
       " 'papo',\n",
       " 'peru',\n",
       " 'acepipe',\n",
       " 'esmeralda',\n",
       " 'repetido',\n",
       " 'cravar',\n",
       " 'alçar',\n",
       " 'índice',\n",
       " 'glosado',\n",
       " 'deuses',\n",
       " 'Pedia',\n",
       " 'glosava',\n",
       " 'botequim',\n",
       " 'Nicola',\n",
       " 'glosarmos',\n",
       " 'bravos',\n",
       " 'Imenso',\n",
       " 'Duquesa',\n",
       " 'expressas',\n",
       " 'ênfase',\n",
       " 'produziram',\n",
       " 'assembléia',\n",
       " 'frêmito',\n",
       " 'pleitear',\n",
       " 'discreteava',\n",
       " 'duquesas',\n",
       " 'sentiam',\n",
       " 'superfinas',\n",
       " 'incredulidade',\n",
       " 'acumular',\n",
       " 'rimas',\n",
       " 'tirano',\n",
       " 'usurpador',\n",
       " 'palavrear',\n",
       " 'estômagos',\n",
       " 'satisfeitos',\n",
       " 'moles',\n",
       " 'espreguiçavam',\n",
       " 'saltitavam',\n",
       " 'atulhada',\n",
       " 'frutas',\n",
       " 'ananás',\n",
       " 'fatias',\n",
       " 'melão',\n",
       " 'compoteiras',\n",
       " 'cristal',\n",
       " 'ralado',\n",
       " 'gema',\n",
       " 'melado',\n",
       " 'cará',\n",
       " 'amplo',\n",
       " 'modinhas',\n",
       " 'cravo',\n",
       " 'matrona',\n",
       " 'prometesse',\n",
       " 'oitavado',\n",
       " 'compasso',\n",
       " 'folgara',\n",
       " 'Loanda',\n",
       " 'sobrinho',\n",
       " 'negociado',\n",
       " 'afiançava',\n",
       " 'cento',\n",
       " 'Trás',\n",
       " 'cessava',\n",
       " 'súbito',\n",
       " 'estacado',\n",
       " 'voltavam',\n",
       " 'aconcheava',\n",
       " 'cândido',\n",
       " 'solitário',\n",
       " 'deslembrado',\n",
       " 'esperando',\n",
       " 'intata',\n",
       " 'extensos',\n",
       " 'mirava',\n",
       " 'carões',\n",
       " 'deliciava',\n",
       " 'familiaridade',\n",
       " 'travada',\n",
       " 'distantes',\n",
       " ...]"
      ]
     },
     "execution_count": 29,
     "metadata": {},
     "output_type": "execute_result"
    }
   ],
   "source": [
    "fd.hapaxes()"
   ]
  },
  {
   "cell_type": "code",
   "execution_count": 34,
   "metadata": {},
   "outputs": [],
   "source": [
    "from nltk.corpus import floresta"
   ]
  },
  {
   "cell_type": "code",
   "execution_count": 35,
   "metadata": {},
   "outputs": [
    {
     "name": "stdout",
     "output_type": "stream",
     "text": [
      "Portuguese Treebank\n",
      "\n",
      "Projecto Floresta Sinta(c)tica -- http://www.linguateca.pt/Floresta/\n",
      "Version 7.4  Distributed with permission.\n",
      "\n",
      "Penn Treebank format, available from http://linguateca.di.uminho.pt/FS/fs.html\n",
      "\n",
      "Key to tags (http://visl.sdu.dk/visl/pt/portsymbol.html)\n",
      "\n",
      "<ACC          direct object\n",
      "<ACC-PASS     passive use of pronoun 'se'\n",
      "<ADVS, <ADVO  adverbial argument\n",
      "<ADVL         adjunct adverbial\n",
      "<DAT          dative (indirect) object\n",
      "<FOC          focus marker (or right focus bracket)\n",
      "<OC           object complement\n",
      "<PASS         agent of passive\n",
      "<PIV          prepositional object\n",
      "<PRED         free (subject) predicative, right of main verb\n",
      "<SC           subject complement\n",
      "<SUBJ         subject\n",
      ">A            adverbial pre-adject (intensifier before adjective, adverb, pronoun or participle)\n",
      ">N            prenominal modifier\n",
      ">P            modifier of prepositional phrase (intensifier, operator or focus adverb)\n",
      ">S            modifier of clause (intensifier, operator or focus adverb)\n",
      "A<            adverbial post-adject (modifier or argument of adjective, adverb or participle)\n",
      "A<ADV         adverbial argument of attributive participle\n",
      "A<ADVL        adverbial adjunct of attributive participle\n",
      "A<PASS        agent of passive after attributive participle\n",
      "A<PIV         prepositional object of attributive participle\n",
      "A<SC          subject complement of attributive participle\n",
      "ACC>          accusative (direct) object\n",
      "ACC>-PASS     passive use of pronoun 'se'\n",
      "ACC>>         double-fronted accusative (direct) object before matrix verb\n",
      "ADVS>, ADVO>  adverbial argument\n",
      "ADVL          top node adverbial\n",
      "ADVL>         adjunct adverbial\n",
      "ADVL>A        adjunct adverbial before attributive participle\n",
      "ADVL>AS<      adjunct adverbial in averbal clause\n",
      "APP           identifying apposition\n",
      "AS<           clause body of averbal clause\n",
      "CO            co-ordinator\n",
      "COM           comparator (heading averbal clause)\n",
      "DAT>          dative (intransitive) object\n",
      "FAUX          finite auxiliary\n",
      "FMV           finite main verb\n",
      "FOC>          focus marker (or left focus bracket)\n",
      "IAUX          non-finite auxiliary\n",
      "IMV           non-finite main verb\n",
      "KOMP<         argument of comparative hook\n",
      "N<            postnominal modifier or argument\n",
      "N<PRED        postnominal (in-group) predicative (or non-identifying apposition)\n",
      "NPHR          top node noun phrase\n",
      "NUM<          second part of numeral chain\n",
      "OC>           object complement\n",
      "P<            argument of preposition\n",
      "PIV>          prepositional object\n",
      "PRD           predicator (heading averbal clause)\n",
      "PRED>         free (subject) predicative, left of main verb\n",
      "PREF          prefix (category being phased out)\n",
      "PRT-AUX<      auxiliary particle\n",
      "S<            statement predicative (sentence apposition)\n",
      "SC>           subject complement\n",
      "SUB           subordinator\n",
      "SUBJ>         subject\n",
      "SUBJ>>        double-fronted subject, with interfering matrix og quoting verb\n",
      "TOP           topic constituent\n",
      "VOK           vocative constituent\n",
      "\n",
      "\n",
      "\n"
     ]
    }
   ],
   "source": [
    "print (floresta.readme())"
   ]
  },
  {
   "cell_type": "code",
   "execution_count": 36,
   "metadata": {},
   "outputs": [],
   "source": [
    "from nltk.corpus import mac_morpho"
   ]
  },
  {
   "cell_type": "code",
   "execution_count": 37,
   "metadata": {},
   "outputs": [
    {
     "name": "stdout",
     "output_type": "stream",
     "text": [
      "MAC-MORPHO: Brazilian Portuguese news text with part-of-speech tags\n",
      "\n",
      "1,167,183 words of journalistic texts extracted from ten sections of\n",
      "the daily newspaper Folha de Sau Paulo, 1994.  (Version for training taggers.)\n",
      "\n",
      "http://www.nilc.icmc.usp.br/lacioweb/\n",
      "\n",
      "Distributed with permission of\n",
      "NÃºcleo Interinstitucional de LingÃ¼Ã­stica Computacional (NILC),\n",
      "Universidade de SÃ£o Paulo (USP) in SÃ£o Carlos,\n",
      "Universidade Federal de SÃ£o Carlos (UFSCar),\n",
      "Universidade Estadual Paulista (UNESP) of Araraquara.\n",
      "\n"
     ]
    }
   ],
   "source": [
    "print(mac_morpho.readme())"
   ]
  },
  {
   "cell_type": "markdown",
   "metadata": {},
   "source": [
    "### Ngrams"
   ]
  },
  {
   "cell_type": "code",
   "execution_count": 38,
   "metadata": {},
   "outputs": [],
   "source": [
    "from nltk import ngrams"
   ]
  },
  {
   "cell_type": "code",
   "execution_count": 39,
   "metadata": {},
   "outputs": [
    {
     "data": {
      "text/plain": [
       "[('De', 'Brás'),\n",
       " ('Brás', 'Cubas'),\n",
       " ('Cubas', 'se'),\n",
       " ('se', 'pode'),\n",
       " ('pode', 'dizer'),\n",
       " ('dizer', 'que'),\n",
       " ('que', 'viajou'),\n",
       " ('viajou', 'à'),\n",
       " ('à', 'roda'),\n",
       " ('roda', 'da'),\n",
       " ('da', 'vida')]"
      ]
     },
     "execution_count": 39,
     "metadata": {},
     "output_type": "execute_result"
    }
   ],
   "source": [
    "list(ngrams(['De', 'Brás', 'Cubas', 'se', 'pode', 'dizer', 'que', 'viajou', 'à', 'roda', 'da', 'vida'], 2))"
   ]
  },
  {
   "cell_type": "code",
   "execution_count": 41,
   "metadata": {},
   "outputs": [
    {
     "data": {
      "text/plain": [
       "[(('.', 'A', 'beleza', 'de', 'Virgília'), 2),\n",
       " (('à', 'casa', 'de', 'Virgília', '.'), 2),\n",
       " (('importa', 'saber', 'é', 'que', 'Virgília'), 1),\n",
       " (('saber', 'é', 'que', 'Virgília', '\\x97'), 1),\n",
       " (('é', 'que', 'Virgília', '\\x97', 'chamava'), 1)]"
      ]
     },
     "execution_count": 41,
     "metadata": {},
     "output_type": "execute_result"
    }
   ],
   "source": [
    "FreqDist(ngram for ngram in ngrams(mpbc_words, 5) if 'Virgília' in ngram).most_common(5)"
   ]
  },
  {
   "cell_type": "code",
   "execution_count": 42,
   "metadata": {},
   "outputs": [],
   "source": [
    "from nltk.probability import ConditionalFreqDist"
   ]
  },
  {
   "cell_type": "code",
   "execution_count": 46,
   "metadata": {},
   "outputs": [],
   "source": [
    "cdf = ConditionalFreqDist(ngrams(mpbc_words_clean, 2))"
   ]
  },
  {
   "cell_type": "code",
   "execution_count": 50,
   "metadata": {},
   "outputs": [
    {
     "data": {
      "text/plain": [
       "[('arrependo', 1),\n",
       " ('alguma', 1),\n",
       " ('Naturalmente', 1),\n",
       " ('detivera', 1),\n",
       " ('outro', 1)]"
      ]
     },
     "execution_count": 50,
     "metadata": {},
     "output_type": "execute_result"
    }
   ],
   "source": [
    "cdf['amigo'].most_common(5)"
   ]
  },
  {
   "cell_type": "markdown",
   "metadata": {},
   "source": [
    "### Tokenização (nltk.tokenize)\n",
    "\n",
    "#### Sentenças"
   ]
  },
  {
   "cell_type": "code",
   "execution_count": 40,
   "metadata": {},
   "outputs": [
    {
     "name": "stdout",
     "output_type": "stream",
     "text": [
      "Capistrano de Abreu, noticiando a publicação do livro, perguntava: As Memórias Póstumas de Brás Cubas são um romance? Macedo Soares, em carta que me escreveu por esse tempo, recordava amigamente as Viagens na minha terra. Ao primeiro respondia já o defunto Brás Cubas (como o leitor viu e verá no prólogo dele que vai adiante) que sim e que não, que era romance para uns e não o era para outros. Quanto ao segundo, assim se explicou o finado: Trata-se de uma obra difusa, na qual eu, Brás Cubas, se adotei a forma livre de um Sterne ou de um Xavier de Maistre, não sei se lhe meti algumas rabugens de pessimismo. Toda essa gente viajou: Xavier de Maistre à roda do quarto, Garret na terra dele, Sterne na terra dos outros. De Brás Cubas se pode dizer que viajou à roda da vida.\n",
      "\n",
      "<< Capistrano de Abreu, noticiando a publicação do livro, perguntava: As Memórias Póstumas de Brás Cubas são um romance? >>\n",
      "<< Macedo Soares, em carta que me escreveu por esse tempo, recordava amigamente as Viagens na minha terra. >>\n",
      "<< Ao primeiro respondia já o defunto Brás Cubas (como o leitor viu e verá no prólogo dele que vai adiante) que sim e que não, que era romance para uns e não o era para outros. >>\n",
      "<< Quanto ao segundo, assim se explicou o finado: Trata-se de uma obra difusa, na qual eu, Brás Cubas, se adotei a forma livre de um Sterne ou de um Xavier de Maistre, não sei se lhe meti algumas rabugens de pessimismo. >>\n",
      "<< Toda essa gente viajou: Xavier de Maistre à roda do quarto, Garret na terra dele, Sterne na terra dos outros. >>\n",
      "<< De Brás Cubas se pode dizer que viajou à roda da vida. >>\n"
     ]
    }
   ],
   "source": [
    "sent_tokenizer = nltk.data.load('tokenizers/punkt/portuguese.pickle')\n",
    "\n",
    "paragrafo = \"Capistrano de Abreu, noticiando a publicação do livro, perguntava: As Memórias Póstumas de Brás Cubas são um romance? Macedo Soares, em carta que me escreveu por esse tempo, recordava amigamente as Viagens na minha terra. Ao primeiro respondia já o defunto Brás Cubas (como o leitor viu e verá no prólogo dele que vai adiante) que sim e que não, que era romance para uns e não o era para outros. Quanto ao segundo, assim se explicou o finado: Trata-se de uma obra difusa, na qual eu, Brás Cubas, se adotei a forma livre de um Sterne ou de um Xavier de Maistre, não sei se lhe meti algumas rabugens de pessimismo. Toda essa gente viajou: Xavier de Maistre à roda do quarto, Garret na terra dele, Sterne na terra dos outros. De Brás Cubas se pode dizer que viajou à roda da vida.\"\n",
    "\n",
    "sentences = sent_tokenizer.tokenize(paragrafo)\n",
    "print (paragrafo)\n",
    "print()\n",
    "for sent in sentences:\n",
    "    print(\"<<\", sent, \">>\")"
   ]
  },
  {
   "cell_type": "markdown",
   "metadata": {},
   "source": [
    "#### Palavras"
   ]
  },
  {
   "cell_type": "code",
   "execution_count": 108,
   "metadata": {},
   "outputs": [
    {
     "name": "stdout",
     "output_type": "stream",
     "text": [
      "Quanto ao segundo, assim se explicou o finado: Trata-se de uma obra difusa, na qual eu, Brás Cubas, se adotei a forma livre de um Sterne ou de um Xavier de Maistre, não sei se lhe meti algumas rabugens de pessimismo.\n",
      "\n",
      "['Quanto', 'ao', 'segundo', ',', 'assim', 'se', 'explicou', 'o', 'finado', ':', 'Trata-se', 'de', 'uma', 'obra', 'difusa', ',', 'na', 'qual', 'eu', ',', 'Brás', 'Cubas', ',', 'se', 'adotei', 'a', 'forma', 'livre', 'de', 'um', 'Sterne', 'ou', 'de', 'um', 'Xavier', 'de', 'Maistre', ',', 'não', 'sei', 'se', 'lhe', 'meti', 'algumas', 'rabugens', 'de', 'pessimismo', '.']\n"
     ]
    }
   ],
   "source": [
    "sent = \"Quanto ao segundo, assim se explicou o finado: Trata-se de uma obra difusa, na qual eu, Brás Cubas, se adotei a forma livre de um Sterne ou de um Xavier de Maistre, não sei se lhe meti algumas rabugens de pessimismo.\"\n",
    "\n",
    "print (sent)\n",
    "print ()\n",
    "print (nltk.word_tokenize(sent, language='portuguese'))"
   ]
  },
  {
   "cell_type": "code",
   "execution_count": 33,
   "metadata": {},
   "outputs": [
    {
     "data": {
      "text/plain": [
       "[\"d'água\"]"
      ]
     },
     "execution_count": 33,
     "metadata": {},
     "output_type": "execute_result"
    }
   ],
   "source": [
    "nltk.word_tokenize(\"d'água\", language='portuguese')"
   ]
  },
  {
   "cell_type": "markdown",
   "metadata": {},
   "source": [
    "### Lematização/Radiciação (nltk.stem)"
   ]
  },
  {
   "cell_type": "markdown",
   "metadata": {},
   "source": [
    "RSLP = Removedor de Sufixo da Língua Portuguesa (http://www.inf.ufrgs.br/~viviane/rslp/index.htm)"
   ]
  },
  {
   "cell_type": "code",
   "execution_count": 56,
   "metadata": {},
   "outputs": [],
   "source": [
    "from nltk.stem import RSLPStemmer, SnowballStemmer"
   ]
  },
  {
   "cell_type": "code",
   "execution_count": 57,
   "metadata": {},
   "outputs": [
    {
     "data": {
      "text/plain": [
       "'copi'"
      ]
     },
     "execution_count": 57,
     "metadata": {},
     "output_type": "execute_result"
    }
   ],
   "source": [
    "stemmer = nltk.stem.RSLPStemmer()\n",
    "stemmer.stem(\"copiar\")"
   ]
  },
  {
   "cell_type": "code",
   "execution_count": 58,
   "metadata": {},
   "outputs": [
    {
     "data": {
      "text/plain": [
       "'pais'"
      ]
     },
     "execution_count": 58,
     "metadata": {},
     "output_type": "execute_result"
    }
   ],
   "source": [
    "stemmer.stem(\"paisagem\")"
   ]
  },
  {
   "cell_type": "code",
   "execution_count": 59,
   "metadata": {},
   "outputs": [
    {
     "data": {
      "text/plain": [
       "('copi', 'paisag')"
      ]
     },
     "execution_count": 59,
     "metadata": {},
     "output_type": "execute_result"
    }
   ],
   "source": [
    "stemmer = nltk.stem.SnowballStemmer(language='portuguese')\n",
    "stemmer.stem(\"copiar\"), stemmer.stem(\"paisagem\")"
   ]
  },
  {
   "cell_type": "markdown",
   "metadata": {},
   "source": [
    "Comparando os stemmers"
   ]
  },
  {
   "cell_type": "code",
   "execution_count": 60,
   "metadata": {},
   "outputs": [
    {
     "name": "stdout",
     "output_type": "stream",
     "text": [
      "Brás brá brás\n",
      "Brás brá brás\n",
      "Obra obr obra\n",
      "Assis assil assis\n",
      "Janeiro jan janeir\n",
      "Editora edit editor\n",
      "originalmente orig original\n",
      "folhetins folhetim folhetins\n",
      "março març marc\n",
      "Brasileira brasil brasileir\n",
      "primeiro prim primeir\n"
     ]
    }
   ],
   "source": [
    "rslp_stemmer = nltk.stem.RSLPStemmer()\n",
    "snow_stemmer = SnowballStemmer(language='portuguese')\n",
    "\n",
    "counter = 0\n",
    "for w in mpbc_words_clean:\n",
    "    if rslp_stemmer.stem(w) != snow_stemmer.stem(w):\n",
    "        print (w, rslp_stemmer.stem(w), snow_stemmer.stem(w))\n",
    "        counter += 1\n",
    "    if counter > 10:\n",
    "        break"
   ]
  },
  {
   "cell_type": "markdown",
   "metadata": {},
   "source": [
    "Objetivo Stemming/Lemmatization: redução de dimensionalidade."
   ]
  },
  {
   "cell_type": "code",
   "execution_count": 62,
   "metadata": {},
   "outputs": [
    {
     "name": "stdout",
     "output_type": "stream",
     "text": [
      "77098 palavras\n",
      "10544 palavras únicas\n",
      "5089 radicais únicos (RSLP)\n",
      "5614 radicais únicos (Snowball)\n"
     ]
    }
   ],
   "source": [
    "print ('%d palavras' % len(mpbc_words))\n",
    "\n",
    "print ('%d palavras únicas' % len(set(mpbc_words_clean)))\n",
    "\n",
    "print ('%d radicais únicos (RSLP)' % len(set([rslp_stemmer.stem(w) for w in mpbc_words_clean])))\n",
    "\n",
    "print ('%d radicais únicos (Snowball)' % len(set([snow_stemmer.stem(w) for w in mpbc_words_clean])))"
   ]
  },
  {
   "cell_type": "code",
   "execution_count": 63,
   "metadata": {},
   "outputs": [
    {
     "data": {
      "text/plain": [
       "('copiar', 'amando')"
      ]
     },
     "execution_count": 63,
     "metadata": {},
     "output_type": "execute_result"
    }
   ],
   "source": [
    "from nltk.stem import WordNetLemmatizer\n",
    "\n",
    "wnl = WordNetLemmatizer()\n",
    "\n",
    "wnl.lemmatize('copiar'), wnl.lemmatize('amando')"
   ]
  },
  {
   "cell_type": "markdown",
   "metadata": {},
   "source": [
    "### Collocations (nltk.collocations) \n",
    "\n",
    "Uma `collocation` é uma sequência de palavras que aparecem frequentemente juntas. Por ex.: vinho tinto, Rio de Janeiro, ... Collocations são ngramas frequentes."
   ]
  },
  {
   "cell_type": "code",
   "execution_count": 59,
   "metadata": {},
   "outputs": [
    {
     "name": "stdout",
     "output_type": "stream",
     "text": [
      "Quincas Borba; Lobo Neves; alguma coisa; Brás Cubas; meu pai; que não;\n",
      "dia seguinte; não sei; Com efeito; que era; Meu pai; alguns instantes;\n",
      "outra vez; outra coisa; por exemplo; que ele; mim mesmo; coisa\n",
      "nenhuma; mesma coisa; não era\n"
     ]
    }
   ],
   "source": [
    "mpbc.collocations()"
   ]
  },
  {
   "cell_type": "code",
   "execution_count": 60,
   "metadata": {},
   "outputs": [
    {
     "data": {
      "text/plain": [
       "[(('Quincas', 'Borba'), 65),\n",
       " (('D', 'Plácida'), 56),\n",
       " (('Lobo', 'Neves'), 51),\n",
       " (('alguma', 'coisa'), 44),\n",
       " (('Brás', 'Cubas'), 29),\n",
       " (('outra', 'coisa'), 22),\n",
       " (('D', 'Eusébia'), 21),\n",
       " (('dia', 'seguinte'), 21),\n",
       " (('outra', 'vez'), 21),\n",
       " (('disse', '\\x97'), 18)]"
      ]
     },
     "execution_count": 60,
     "metadata": {},
     "output_type": "execute_result"
    }
   ],
   "source": [
    "FreqDist(ngram for ngram in ngrams(mpbc_words_clean, 2)).most_common(10)"
   ]
  },
  {
   "cell_type": "code",
   "execution_count": 61,
   "metadata": {},
   "outputs": [],
   "source": [
    "from nltk.collocations import BigramAssocMeasures, BigramCollocationFinder, TrigramAssocMeasures, TrigramCollocationFinder"
   ]
  },
  {
   "cell_type": "markdown",
   "metadata": {},
   "source": [
    "PMI = Pointwise mutual information.\n",
    "\n",
    "pmi(x,y) = log p(x,y) / p(x)p(y); sendo x e y resultados de duas variáveis aleatórias X e Y, a PMI mede a discrepância entre a sua probabilidade conjunta e suas distribuições individuais, assumindo independência.\n",
    "\n",
    "PMI é um conceito recorrente em NLP. Tipicamente o texto é fracionado em janelas e a probabilidade conjunta representa o número de vezes em que as palavras x e y co-ocorreram na janela, enquanto as probabilidades p(x) e p(y) representam as ocorrências individuais dos termos. Dessa forma, essa medida incorpora o contexto em que as palavras estão inseridas."
   ]
  },
  {
   "cell_type": "code",
   "execution_count": 63,
   "metadata": {},
   "outputs": [
    {
     "data": {
      "text/plain": [
       "[('***,', 'exerci'),\n",
       " ('.............................',\n",
       "  '..........!..............................!...........................!'),\n",
       " ('..................................................',\n",
       "  '.......................................................'),\n",
       " ('..............................................................................................',\n",
       "  '.............................'),\n",
       " ('................................................................................................',\n",
       "  '........................................................'),\n",
       " ('..........................................................................................................................................................?',\n",
       "  '..................................................'),\n",
       " ('7', '):'),\n",
       " ('ABRAÇO', 'Cuidei'),\n",
       " ('ALMA', 'SENSÍVEL'),\n",
       " ('AOS', 'DEZENOVE')]"
      ]
     },
     "execution_count": 63,
     "metadata": {},
     "output_type": "execute_result"
    }
   ],
   "source": [
    "bigram_measures = BigramAssocMeasures()\n",
    "finder = BigramCollocationFinder.from_words(mpbc_words)\n",
    "finder.nbest(bigram_measures.pmi, 10)"
   ]
  },
  {
   "cell_type": "code",
   "execution_count": 64,
   "metadata": {},
   "outputs": [
    {
     "data": {
      "text/plain": [
       "[('Passeio', 'Público'),\n",
       " ('Nossa', 'Senhora'),\n",
       " ('Virgem', 'Nossa'),\n",
       " ('Memórias', 'Póstumas'),\n",
       " ('BRÁS', 'CUBAS'),\n",
       " ('arma', 'virumque'),\n",
       " ('virumque', 'cano'),\n",
       " ('guarda', 'nacional'),\n",
       " ('Sem', 'filhos'),\n",
       " ('d', \"'\")]"
      ]
     },
     "execution_count": 64,
     "metadata": {},
     "output_type": "execute_result"
    }
   ],
   "source": [
    "finder.apply_freq_filter(3)\n",
    "finder.nbest(bigram_measures.pmi, 10)"
   ]
  },
  {
   "cell_type": "code",
   "execution_count": 66,
   "metadata": {},
   "outputs": [
    {
     "data": {
      "text/plain": [
       "[('Virgem', 'Nossa', 'Senhora'),\n",
       " ('arma', 'virumque', 'cano'),\n",
       " ('Virgílio', 'Virgílio', 'Virgílio'),\n",
       " ('*', '*', '*'),\n",
       " ('Câmara', 'dos', 'Deputados'),\n",
       " ('Meu', 'tio', 'cônego'),\n",
       " ('no', 'Passeio', 'Público'),\n",
       " ('caro', 'Brás', 'Cubas'),\n",
       " ('sacristão', 'da', 'Sé'),\n",
       " ('Sem', 'filhos', '!')]"
      ]
     },
     "execution_count": 66,
     "metadata": {},
     "output_type": "execute_result"
    }
   ],
   "source": [
    "bigram_measures = TrigramAssocMeasures()\n",
    "finder = TrigramCollocationFinder.from_words(mpbc_words)\n",
    "finder.apply_freq_filter(3)\n",
    "finder.nbest(bigram_measures.pmi, 10)"
   ]
  },
  {
   "cell_type": "markdown",
   "metadata": {},
   "source": [
    "### Part-of-Speech (POS) Tagging (nltk.tag) "
   ]
  },
  {
   "cell_type": "code",
   "execution_count": 67,
   "metadata": {},
   "outputs": [
    {
     "data": {
      "text/plain": [
       "[('Um', '>N+art'), ('revivalismo', 'H+n'), ('refrescante', 'N<+adj')]"
      ]
     },
     "execution_count": 67,
     "metadata": {},
     "output_type": "execute_result"
    }
   ],
   "source": [
    "tsents = floresta.tagged_sents()\n",
    "tsents[0]"
   ]
  },
  {
   "cell_type": "code",
   "execution_count": 68,
   "metadata": {},
   "outputs": [
    {
     "data": {
      "text/plain": [
       "('Um', '>N+art')"
      ]
     },
     "execution_count": 68,
     "metadata": {},
     "output_type": "execute_result"
    }
   ],
   "source": [
    "twords = floresta.tagged_words()\n",
    "twords[0]"
   ]
  },
  {
   "cell_type": "code",
   "execution_count": 69,
   "metadata": {},
   "outputs": [],
   "source": [
    "def simplify_tag(*args):\n",
    "    w, t = args[0]\n",
    "    if \"+\" in t:\n",
    "        return w, t[t.index(\"+\") + 1:].upper()\n",
    "    return w, t.upper()\n",
    "def simplify_sent(s):\n",
    "    return [simplify_tag(t) for t in s]"
   ]
  },
  {
   "cell_type": "code",
   "execution_count": 73,
   "metadata": {},
   "outputs": [
    {
     "data": {
      "text/plain": [
       "[('Um', 'ART'), ('revivalismo', 'N'), ('refrescante', 'ADJ')]"
      ]
     },
     "execution_count": 73,
     "metadata": {},
     "output_type": "execute_result"
    }
   ],
   "source": [
    "simplify_sent(tsents[0])"
   ]
  },
  {
   "cell_type": "code",
   "execution_count": 74,
   "metadata": {},
   "outputs": [
    {
     "data": {
      "text/plain": [
       "('Um', 'ART')"
      ]
     },
     "execution_count": 74,
     "metadata": {},
     "output_type": "execute_result"
    }
   ],
   "source": [
    "simplify_tag(twords[0])"
   ]
  },
  {
   "cell_type": "code",
   "execution_count": 75,
   "metadata": {},
   "outputs": [],
   "source": [
    "floresta_text = Text(floresta.words(), name='Floresta corpus')"
   ]
  },
  {
   "cell_type": "code",
   "execution_count": 76,
   "metadata": {},
   "outputs": [
    {
     "name": "stdout",
     "output_type": "stream",
     "text": [
      "Displaying 25 of 35 matches:\n",
      "mal , mas muito mal , pois marido e mulher agora só partilhavam uma filha , um\n",
      "cto , dava a impressão que marido e mulher , em esta última fase de o casament\n",
      "e Josette que torturava ratos , uma mulher casada , um marido e um amante , e \n",
      "ondenado a 15 anos por a morte de a mulher , ter cumprido apenas seis . Fala e\n",
      "nhora patinagem » Katarina_Witt , a mulher que explicou o facto de ser « sexy \n",
      " meses mais tarde , a imagem de uma mulher chorando a perda de os seus oito fi\n",
      "- la e abraça- la . Subitamente , a mulher empoada recolhe todo_o seu afecto e\n",
      "seu « antigo amigo e camarada » . A mulher de Honecker , Margot , abandonou on\n",
      "o de moda , está a dormir com a sua mulher , Elle_MacPherson , « top_model » a\n",
      "or a mãe natural e criada por outra mulher que reconhece como mãe . A primeira\n",
      "nse é a razão que teria levado esta mulher doente Wendi tem esclerose múltipla\n",
      "tidas ? Nunca forçar a decisão de a mulher « Qualquer tentativa de forçar a mu\n",
      "er « Qualquer tentativa de forçar a mulher , quer a continuar a sua gravidez ,\n",
      "pa e tentou consumar a violação . A mulher ofereceu resistência e , alguns min\n",
      "ção colectiva . Vi o cadáver de uma mulher com o seu filho em o ventre . Eram \n",
      "idade , mas em a sua frente via uma mulher . » Depois , continua , « disse que\n",
      "o_que eu esperava » , comentava uma mulher em o elevador , acerca_de o Show_de\n",
      "va a aquela praia acompanhado por a mulher e por o filho , em a tarde de quint\n",
      " 25 % de esta receita . Papa indica mulher para secretaria O papa João_Paulo_2\n",
      " primeira vez que o papa indica uma mulher para um cargo de esse nível em a Ig\n",
      " informações sobre as questões de a mulher . Em plantão especial , funcionário\n",
      "ex-presidente Fernando_Collor , sua mulher Rosane e o secretário Luís_Carlos_C\n",
      " de São_Paulo , Mário_Covas , e sua mulher Lila chegaram para o jantar . Covas\n",
      "al » , onde expõe sua visão sobre a mulher . Reproduzo uma frase ; « A gente n\n",
      " A gente não pode pensar em jogar a mulher em o mercado de trabalho enquanto h\n"
     ]
    }
   ],
   "source": [
    "floresta_text.concordance('mulher')"
   ]
  },
  {
   "cell_type": "code",
   "execution_count": 77,
   "metadata": {},
   "outputs": [],
   "source": [
    "tagged_words_pairs = list(ngrams([simplify_tag(t) for t in floresta.tagged_words()], 2))"
   ]
  },
  {
   "cell_type": "code",
   "execution_count": 78,
   "metadata": {},
   "outputs": [
    {
     "data": {
      "text/plain": [
       "(('Um', 'ART'), ('revivalismo', 'N'))"
      ]
     },
     "execution_count": 78,
     "metadata": {},
     "output_type": "execute_result"
    }
   ],
   "source": [
    "list(tagged_words_pairs)[0]"
   ]
  },
  {
   "cell_type": "code",
   "execution_count": 81,
   "metadata": {},
   "outputs": [
    {
     "name": "stdout",
     "output_type": "stream",
     "text": [
      "NN: noun, common, singular or mass\n",
      "    common-carrier cabbage knuckle-duster Casino afghan shed thermostat\n",
      "    investment slide humour falloff slick wind hyena override subhumanity\n",
      "    machinist ...\n",
      "NNP: noun, proper, singular\n",
      "    Motown Venneboerger Czestochwa Ranzer Conchita Trumplane Christos\n",
      "    Oceanside Escobar Kreisler Sawyer Cougar Yvette Ervin ODI Darryl CTCA\n",
      "    Shannon A.K.C. Meltex Liverpool ...\n",
      "NNPS: noun, proper, plural\n",
      "    Americans Americas Amharas Amityvilles Amusements Anarcho-Syndicalists\n",
      "    Andalusians Andes Andruses Angels Animals Anthony Antilles Antiques\n",
      "    Apache Apaches Apocrypha ...\n",
      "NNS: noun, common, plural\n",
      "    undergraduates scotches bric-a-brac products bodyguards facets coasts\n",
      "    divestitures storehouses designs clubs fragrances averages\n",
      "    subjectivists apprehensions muses factory-jobs ...\n"
     ]
    }
   ],
   "source": [
    "nltk.help.upenn_tagset('N')"
   ]
  },
  {
   "cell_type": "code",
   "execution_count": 82,
   "metadata": {},
   "outputs": [
    {
     "data": {
      "text/plain": [
       "[(('mulher', 'N'), ('doente', 'ADJ'))]"
      ]
     },
     "execution_count": 82,
     "metadata": {},
     "output_type": "execute_result"
    }
   ],
   "source": [
    "[\n",
    "    bigram_tagged for bigram_tagged in tagged_words_pairs \n",
    "    if \n",
    "        'mulher' == bigram_tagged[0][0]\n",
    "    and \n",
    "        bigram_tagged[1][1] == 'ADJ'\n",
    "]"
   ]
  },
  {
   "cell_type": "code",
   "execution_count": 83,
   "metadata": {},
   "outputs": [
    {
     "data": {
      "text/plain": [
       "[(('homem', 'N'), ('simpático', 'ADJ')),\n",
       " (('homem', 'N'), ('impassível', 'ADJ')),\n",
       " (('homem', 'N'), ('alto', 'ADJ')),\n",
       " (('homem', 'N'), ('rico', 'ADJ'))]"
      ]
     },
     "execution_count": 83,
     "metadata": {},
     "output_type": "execute_result"
    }
   ],
   "source": [
    "[\n",
    "    bigram_tagged for bigram_tagged in tagged_words_pairs \n",
    "    if \n",
    "        'homem' == bigram_tagged[0][0]\n",
    "    and \n",
    "        bigram_tagged[1][1] == 'ADJ'\n",
    "]"
   ]
  },
  {
   "cell_type": "code",
   "execution_count": 84,
   "metadata": {},
   "outputs": [],
   "source": [
    "cfd_tagged = ConditionalFreqDist([simplify_tag(t) for t in floresta.tagged_words()])"
   ]
  },
  {
   "cell_type": "code",
   "execution_count": 85,
   "metadata": {},
   "outputs": [
    {
     "data": {
      "text/plain": [
       "FreqDist({'V-FIN': 16, 'N': 12})"
      ]
     },
     "execution_count": 85,
     "metadata": {},
     "output_type": "execute_result"
    }
   ],
   "source": [
    "cfd_tagged['espera']"
   ]
  },
  {
   "cell_type": "code",
   "execution_count": 86,
   "metadata": {},
   "outputs": [],
   "source": [
    "cfd_tagged_reverse = ConditionalFreqDist([simplify_tag(t)[::-1] for t in floresta.tagged_words()])"
   ]
  },
  {
   "cell_type": "code",
   "execution_count": 87,
   "metadata": {},
   "outputs": [
    {
     "data": {
      "text/plain": [
       "dict_keys(['ART', 'N', 'ADJ', 'PROP', 'V-FIN', 'PRP', '.', 'NUM', 'ADV', ',', 'V-PCP', 'PRON-INDP', 'V-INF', 'CONJ-C', '«', 'PRON-DET', 'PRON-PERS', 'CONJ-S', '?', 'PP', 'V-GER', '{', '}', ';', '»', '!', 'IN', '[', ']', \"'\", 'EC', '/', '\"', '-', 'PRP-', '*', \"N<{'185/60_R_14'}\", 'VP', '2]+ADV'])"
      ]
     },
     "execution_count": 87,
     "metadata": {},
     "output_type": "execute_result"
    }
   ],
   "source": [
    "cfd_tagged_reverse.keys()"
   ]
  },
  {
   "cell_type": "code",
   "execution_count": 88,
   "metadata": {},
   "outputs": [
    {
     "data": {
      "text/plain": [
       "FreqDist({'o': 9689, 'a': 9012, 'os': 3122, 'as': 2115, 'um': 1551, 'uma': 1386, 'O': 1070, 'A': 808, 'Os': 304, 'As': 148, ...})"
      ]
     },
     "execution_count": 88,
     "metadata": {},
     "output_type": "execute_result"
    }
   ],
   "source": [
    "cfd_tagged_reverse['ART']"
   ]
  },
  {
   "cell_type": "code",
   "execution_count": 89,
   "metadata": {},
   "outputs": [
    {
     "data": {
      "text/plain": [
       "FreqDist({'anos': 299, 'milhões': 195, 'ano': 190, 'dia': 180, '%': 179, 'país': 147, 'US$': 146, 'pessoas': 144, 'contos': 131, 'por_cento': 131, ...})"
      ]
     },
     "execution_count": 89,
     "metadata": {},
     "output_type": "execute_result"
    }
   ],
   "source": [
    "cfd_tagged_reverse['N']"
   ]
  },
  {
   "cell_type": "code",
   "execution_count": 90,
   "metadata": {},
   "outputs": [
    {
     "data": {
      "text/plain": [
       "FreqDist({'maior': 128, 'primeiro': 125, 'primeira': 108, 'novo': 105, 'grande': 105, 'nova': 90, 'grandes': 68, 'melhor': 68, 'nacional': 59, 'último': 57, ...})"
      ]
     },
     "execution_count": 90,
     "metadata": {},
     "output_type": "execute_result"
    }
   ],
   "source": [
    "cfd_tagged_reverse['ADJ']"
   ]
  },
  {
   "cell_type": "code",
   "execution_count": 91,
   "metadata": {},
   "outputs": [
    {
     "data": {
      "text/plain": [
       "FreqDist({'não': 1207, 'mais': 557, 'como': 538, 'também': 281, 'ontem': 271, 'já': 269, 'ainda': 264, 'só': 185, 'muito': 173, 'onde': 168, ...})"
      ]
     },
     "execution_count": 91,
     "metadata": {},
     "output_type": "execute_result"
    }
   ],
   "source": [
    "cfd_tagged_reverse['ADV']"
   ]
  },
  {
   "cell_type": "code",
   "execution_count": 92,
   "metadata": {},
   "outputs": [
    {
     "data": {
      "text/plain": [
       "FreqDist({'sendo': 40, 'tendo': 39, 'passando': 16, 'fazendo': 12, 'incluindo': 12, 'ganhando': 11, 'dando': 11, 'estando': 10, 'dizendo': 8, 'Sendo': 7, ...})"
      ]
     },
     "execution_count": 92,
     "metadata": {},
     "output_type": "execute_result"
    }
   ],
   "source": [
    "cfd_tagged_reverse['V-GER']"
   ]
  },
  {
   "cell_type": "markdown",
   "metadata": {},
   "source": [
    "#### Link externo: Treinamento de POS tagger para pt-BR\n",
    "\n",
    "Referência: https://github.com/inoueMashuu/POS-tagger-portuguese-nltk/blob/master/treinamento_POS_taggers.ipynb"
   ]
  },
  {
   "cell_type": "code",
   "execution_count": 68,
   "metadata": {},
   "outputs": [],
   "source": [
    "import numpy as np"
   ]
  },
  {
   "cell_type": "markdown",
   "metadata": {},
   "source": [
    "O NLTK conta com dois corpora com POS tagging para língua portuguesa: Floresta e Mac Morpho. O segundo é composto exclusivamente por notícias publicadas na Folha de São Paulo e por isso temos apenas o pt-BR presente. Vamos trabalhar com ele para este modelo."
   ]
  },
  {
   "cell_type": "code",
   "execution_count": 64,
   "metadata": {},
   "outputs": [],
   "source": [
    "dataset = list(nltk.corpus.mac_morpho.tagged_sents())"
   ]
  },
  {
   "cell_type": "code",
   "execution_count": 66,
   "metadata": {},
   "outputs": [
    {
     "data": {
      "text/plain": [
       "[('Jersei', 'N'),\n",
       " ('atinge', 'V'),\n",
       " ('média', 'N'),\n",
       " ('de', 'PREP'),\n",
       " ('Cr$', 'CUR'),\n",
       " ('1,4', 'NUM'),\n",
       " ('milhão', 'N'),\n",
       " ('em', 'PREP|+'),\n",
       " ('a', 'ART'),\n",
       " ('venda', 'N'),\n",
       " ('de', 'PREP|+'),\n",
       " ('a', 'ART'),\n",
       " ('Pinhal', 'NPROP'),\n",
       " ('em', 'PREP'),\n",
       " ('São', 'NPROP'),\n",
       " ('Paulo', 'NPROP')]"
      ]
     },
     "execution_count": 66,
     "metadata": {},
     "output_type": "execute_result"
    }
   ],
   "source": [
    "dataset[0]"
   ]
  },
  {
   "cell_type": "markdown",
   "metadata": {},
   "source": [
    "A primeira etapa é a divisão do dataset em dados de treino (80%) e teste (20%)"
   ]
  },
  {
   "cell_type": "code",
   "execution_count": 70,
   "metadata": {},
   "outputs": [
    {
     "name": "stdout",
     "output_type": "stream",
     "text": [
      "41118 10279\n"
     ]
    }
   ],
   "source": [
    "tshld = int(np.ceil(len(dataset)*.8))\n",
    "\n",
    "train_data = dataset[:tshld]\n",
    "test_data = dataset[tshld:]\n",
    "\n",
    "print (len(train_data), len(test_data))"
   ]
  },
  {
   "cell_type": "markdown",
   "metadata": {},
   "source": [
    "Vamos criar um modelo de baseline para termos um critério de comparação. O DefaultTagger classifica todas as palavras como substantivo."
   ]
  },
  {
   "cell_type": "code",
   "execution_count": 77,
   "metadata": {},
   "outputs": [
    {
     "name": "stdout",
     "output_type": "stream",
     "text": [
      "Acurácia Default Tagger: 19.68%\n"
     ]
    }
   ],
   "source": [
    "t_def = nltk.DefaultTagger('N')\n",
    "\n",
    "print('''Acurácia Default Tagger: {:.2f}%'''.format(t_def.evaluate(test_data) * 100))"
   ]
  },
  {
   "cell_type": "markdown",
   "metadata": {},
   "source": [
    "Um tagger mais sofisticado é o UnigramTagger, onde apenas o token é considerado para decidir sua função sintática. Ele funciona atribuindo a tag mais frequente ao token. "
   ]
  },
  {
   "cell_type": "code",
   "execution_count": 86,
   "metadata": {},
   "outputs": [],
   "source": [
    "t_uni = nltk.UnigramTagger(train_data)"
   ]
  },
  {
   "cell_type": "markdown",
   "metadata": {},
   "source": [
    "Primeiro observamos o comportamento do tagger para palavras não existentes nos dados de treinamento. Repare que o tagger não é capaz de atribuir nenhuma classificação nesse caso. "
   ]
  },
  {
   "cell_type": "code",
   "execution_count": 84,
   "metadata": {},
   "outputs": [
    {
     "data": {
      "text/plain": [
       "False"
      ]
     },
     "execution_count": 84,
     "metadata": {},
     "output_type": "execute_result"
    }
   ],
   "source": [
    "'probema' in nltk.corpus.mac_morpho.words()"
   ]
  },
  {
   "cell_type": "code",
   "execution_count": 87,
   "metadata": {},
   "outputs": [
    {
     "data": {
      "text/plain": [
       "[('probema', None)]"
      ]
     },
     "execution_count": 87,
     "metadata": {},
     "output_type": "execute_result"
    }
   ],
   "source": [
    "t_uni.tag(['probema'])"
   ]
  },
  {
   "cell_type": "markdown",
   "metadata": {},
   "source": [
    "Pelo motivo acima, usamos o artifício do backoff, um tagger a ser utilizado nesse tipo de situação."
   ]
  },
  {
   "cell_type": "code",
   "execution_count": 80,
   "metadata": {},
   "outputs": [
    {
     "name": "stdout",
     "output_type": "stream",
     "text": [
      "Acurácia Unigram Tagger: 81.52%\n"
     ]
    }
   ],
   "source": [
    "t_uni = nltk.UnigramTagger(train_data, backoff=t_def)\n",
    "\n",
    "print('''Acurácia Unigram Tagger: {:.2f}%'''.format(t_uni.evaluate(test_data) * 100))"
   ]
  },
  {
   "cell_type": "markdown",
   "metadata": {},
   "source": [
    "Ao contrário do UnigramTagger, os NgramTagger utilizam o contexto em que a palavra está inserida. O TrigramTagger, por exemplo, considera as duas palavras anteriores à palavra que deseja-se classificar."
   ]
  },
  {
   "cell_type": "code",
   "execution_count": 81,
   "metadata": {},
   "outputs": [
    {
     "name": "stdout",
     "output_type": "stream",
     "text": [
      "Acurácia Bigram Tagger: 82.96%\n",
      "Acurácia Trigram Tagger: 82.96%\n"
     ]
    }
   ],
   "source": [
    "t_bi = nltk.BigramTagger(train_data, backoff=t_uni)\n",
    "t_tri = nltk.TrigramTagger(train_data, backoff=t_bi)\n",
    "\n",
    "print('''Acurácia Bigram Tagger: {:.2f}%'''.format(t_bi.evaluate(test_data) * 100))\n",
    "print('''Acurácia Trigram Tagger: {:.2f}%'''.format(t_tri.evaluate(test_data) * 100))"
   ]
  },
  {
   "cell_type": "markdown",
   "metadata": {},
   "source": [
    "Como o o bigram e o trigram tiveram o mesmo desempenho, vamos salvar o modelo mais simples."
   ]
  },
  {
   "cell_type": "code",
   "execution_count": 82,
   "metadata": {},
   "outputs": [
    {
     "data": {
      "text/plain": [
       "['out/POS_tagger_pt.pkl']"
      ]
     },
     "execution_count": 82,
     "metadata": {},
     "output_type": "execute_result"
    }
   ],
   "source": [
    "import joblib\n",
    "joblib.dump(t_bi, 'out/POS_tagger_pt.pkl')"
   ]
  },
  {
   "cell_type": "markdown",
   "metadata": {},
   "source": [
    "Testando"
   ]
  },
  {
   "cell_type": "code",
   "execution_count": 83,
   "metadata": {},
   "outputs": [
    {
     "data": {
      "text/plain": [
       "[('Esta', 'PROADJ'),\n",
       " ('é', 'V'),\n",
       " ('uma', 'ART'),\n",
       " ('frase', 'N'),\n",
       " ('de', 'PREP'),\n",
       " ('teste', 'N'),\n",
       " ('da', 'N'),\n",
       " ('aula', 'N'),\n",
       " ('de', 'PREP'),\n",
       " ('NLP', 'N'),\n",
       " ('.', '.')]"
      ]
     },
     "execution_count": 83,
     "metadata": {},
     "output_type": "execute_result"
    }
   ],
   "source": [
    "pt_tagger = joblib.load('out/POS_tagger_pt.pkl')\n",
    "\n",
    "pt_tagger.tag(nltk.word_tokenize('Esta é uma frase de teste da aula de NLP.'))"
   ]
  },
  {
   "cell_type": "markdown",
   "metadata": {},
   "source": [
    "### Classificação de Textos (nltk.classify, nltk.cluster, nltk.tbl)"
   ]
  },
  {
   "cell_type": "markdown",
   "metadata": {},
   "source": [
    "Classificação: consiste em associar o rótulo correto a uma determinada entrada.\n",
    "- Supervisionada: é quando os dados de treinamento associam determinada entrada a uma classe. Ex.: classificação de spam, classificação de documentos\n",
    "\n",
    "Pré-requisito desta seção: Teorema de Bayes"
   ]
  },
  {
   "cell_type": "markdown",
   "metadata": {},
   "source": [
    "#### Link externo: Spelling Corrector (Peter Norvig)\n",
    "\n",
    "Referência: https://norvig.com/spell-correct.html\n",
    "\n",
    "Dicionário pt-BR: https://github.com/pythonprobr/palavras"
   ]
  },
  {
   "cell_type": "markdown",
   "metadata": {},
   "source": [
    "**Passo 1:** cálculo de P(c)"
   ]
  },
  {
   "cell_type": "code",
   "execution_count": 91,
   "metadata": {},
   "outputs": [],
   "source": [
    "import re\n",
    "from collections import Counter\n",
    "\n",
    "def words(text): return re.findall(r'\\w+', text.lower())\n",
    "\n",
    "WORDS = Counter(words(open('in/palavras.txt').read()))\n",
    "\n",
    "def P(word, N=sum(WORDS.values())): \n",
    "    \"Probability of `word`.\"\n",
    "    return WORDS[word] / N"
   ]
  },
  {
   "cell_type": "code",
   "execution_count": 93,
   "metadata": {},
   "outputs": [
    {
     "data": {
      "text/plain": [
       "[('de', 8035), ('do', 4225), ('da', 2745), ('dos', 729), ('pau', 642)]"
      ]
     },
     "execution_count": 93,
     "metadata": {},
     "output_type": "execute_result"
    }
   ],
   "source": [
    "WORDS.most_common(5)"
   ]
  },
  {
   "cell_type": "code",
   "execution_count": 94,
   "metadata": {},
   "outputs": [
    {
     "data": {
      "text/plain": [
       "0.02051980090557827"
      ]
     },
     "execution_count": 94,
     "metadata": {},
     "output_type": "execute_result"
    }
   ],
   "source": [
    "P('de')"
   ]
  },
  {
   "cell_type": "markdown",
   "metadata": {},
   "source": [
    "**Passo 2:** gerar candidatos"
   ]
  },
  {
   "cell_type": "code",
   "execution_count": null,
   "metadata": {},
   "outputs": [],
   "source": [
    "def edits1(word):\n",
    "    \"All edits that are one edit away from `word`.\"\n",
    "    letters    = 'abcdefghijklmnopqrstuvwxyz'\n",
    "    splits     = [(word[:i], word[i:])    for i in range(len(word) + 1)]\n",
    "    deletes    = [L + R[1:]               for L, R in splits if R]\n",
    "    transposes = [L + R[1] + R[0] + R[2:] for L, R in splits if len(R)>1]\n",
    "    replaces   = [L + c + R[1:]           for L, R in splits if R for c in letters]\n",
    "    inserts    = [L + c + R               for L, R in splits for c in letters]\n",
    "    return set(deletes + transposes + replaces + inserts)\n",
    "\n",
    "def edits2(word): \n",
    "    \"All edits that are two edits away from `word`.\"\n",
    "    return (e2 for e1 in edits1(word) for e2 in edits1(e1))"
   ]
  },
  {
   "cell_type": "code",
   "execution_count": 95,
   "metadata": {},
   "outputs": [
    {
     "data": {
      "text/plain": [
       "{'aproblema',\n",
       " 'aroblema',\n",
       " 'bproblema',\n",
       " 'broblema',\n",
       " 'cproblema',\n",
       " 'croblema',\n",
       " 'dproblema',\n",
       " 'droblema',\n",
       " 'eproblema',\n",
       " 'eroblema',\n",
       " 'fproblema',\n",
       " 'froblema',\n",
       " 'gproblema',\n",
       " 'groblema',\n",
       " 'hproblema',\n",
       " 'hroblema',\n",
       " 'iproblema',\n",
       " 'iroblema',\n",
       " 'jproblema',\n",
       " 'jroblema',\n",
       " 'kproblema',\n",
       " 'kroblema',\n",
       " 'lproblema',\n",
       " 'lroblema',\n",
       " 'mproblema',\n",
       " 'mroblema',\n",
       " 'nproblema',\n",
       " 'nroblema',\n",
       " 'oproblema',\n",
       " 'oroblema',\n",
       " 'paoblema',\n",
       " 'paroblema',\n",
       " 'pboblema',\n",
       " 'pbroblema',\n",
       " 'pcoblema',\n",
       " 'pcroblema',\n",
       " 'pdoblema',\n",
       " 'pdroblema',\n",
       " 'peoblema',\n",
       " 'peroblema',\n",
       " 'pfoblema',\n",
       " 'pfroblema',\n",
       " 'pgoblema',\n",
       " 'pgroblema',\n",
       " 'phoblema',\n",
       " 'phroblema',\n",
       " 'pioblema',\n",
       " 'piroblema',\n",
       " 'pjoblema',\n",
       " 'pjroblema',\n",
       " 'pkoblema',\n",
       " 'pkroblema',\n",
       " 'ploblema',\n",
       " 'plroblema',\n",
       " 'pmoblema',\n",
       " 'pmroblema',\n",
       " 'pnoblema',\n",
       " 'pnroblema',\n",
       " 'poblema',\n",
       " 'pooblema',\n",
       " 'porblema',\n",
       " 'poroblema',\n",
       " 'ppoblema',\n",
       " 'pproblema',\n",
       " 'pqoblema',\n",
       " 'pqroblema',\n",
       " 'prablema',\n",
       " 'praoblema',\n",
       " 'prbblema',\n",
       " 'prblema',\n",
       " 'prboblema',\n",
       " 'prbolema',\n",
       " 'prcblema',\n",
       " 'prcoblema',\n",
       " 'prdblema',\n",
       " 'prdoblema',\n",
       " 'preblema',\n",
       " 'preoblema',\n",
       " 'prfblema',\n",
       " 'prfoblema',\n",
       " 'prgblema',\n",
       " 'prgoblema',\n",
       " 'prhblema',\n",
       " 'prhoblema',\n",
       " 'priblema',\n",
       " 'prioblema',\n",
       " 'prjblema',\n",
       " 'prjoblema',\n",
       " 'prkblema',\n",
       " 'prkoblema',\n",
       " 'prlblema',\n",
       " 'prloblema',\n",
       " 'prmblema',\n",
       " 'prmoblema',\n",
       " 'prnblema',\n",
       " 'prnoblema',\n",
       " 'proablema',\n",
       " 'proalema',\n",
       " 'probaema',\n",
       " 'probalema',\n",
       " 'probbema',\n",
       " 'probblema',\n",
       " 'probcema',\n",
       " 'probclema',\n",
       " 'probdema',\n",
       " 'probdlema',\n",
       " 'probeema',\n",
       " 'probelema',\n",
       " 'probelma',\n",
       " 'probema',\n",
       " 'probfema',\n",
       " 'probflema',\n",
       " 'probgema',\n",
       " 'probglema',\n",
       " 'probhema',\n",
       " 'probhlema',\n",
       " 'probiema',\n",
       " 'probilema',\n",
       " 'probjema',\n",
       " 'probjlema',\n",
       " 'probkema',\n",
       " 'probklema',\n",
       " 'problaema',\n",
       " 'problama',\n",
       " 'problbema',\n",
       " 'problbma',\n",
       " 'problcema',\n",
       " 'problcma',\n",
       " 'probldema',\n",
       " 'probldma',\n",
       " 'problea',\n",
       " 'probleaa',\n",
       " 'probleam',\n",
       " 'probleama',\n",
       " 'probleba',\n",
       " 'problebma',\n",
       " 'probleca',\n",
       " 'problecma',\n",
       " 'probleda',\n",
       " 'probledma',\n",
       " 'probleea',\n",
       " 'probleema',\n",
       " 'problefa',\n",
       " 'problefma',\n",
       " 'problega',\n",
       " 'problegma',\n",
       " 'probleha',\n",
       " 'problehma',\n",
       " 'probleia',\n",
       " 'probleima',\n",
       " 'probleja',\n",
       " 'problejma',\n",
       " 'probleka',\n",
       " 'problekma',\n",
       " 'problela',\n",
       " 'problelma',\n",
       " 'problem',\n",
       " 'problema',\n",
       " 'problemaa',\n",
       " 'problemab',\n",
       " 'problemac',\n",
       " 'problemad',\n",
       " 'problemae',\n",
       " 'problemaf',\n",
       " 'problemag',\n",
       " 'problemah',\n",
       " 'problemai',\n",
       " 'problemaj',\n",
       " 'problemak',\n",
       " 'problemal',\n",
       " 'problemam',\n",
       " 'probleman',\n",
       " 'problemao',\n",
       " 'problemap',\n",
       " 'problemaq',\n",
       " 'problemar',\n",
       " 'problemas',\n",
       " 'problemat',\n",
       " 'problemau',\n",
       " 'problemav',\n",
       " 'problemaw',\n",
       " 'problemax',\n",
       " 'problemay',\n",
       " 'problemaz',\n",
       " 'problemb',\n",
       " 'problemba',\n",
       " 'problemc',\n",
       " 'problemca',\n",
       " 'problemd',\n",
       " 'problemda',\n",
       " 'probleme',\n",
       " 'problemea',\n",
       " 'problemf',\n",
       " 'problemfa',\n",
       " 'problemg',\n",
       " 'problemga',\n",
       " 'problemh',\n",
       " 'problemha',\n",
       " 'problemi',\n",
       " 'problemia',\n",
       " 'problemj',\n",
       " 'problemja',\n",
       " 'problemk',\n",
       " 'problemka',\n",
       " 'probleml',\n",
       " 'problemla',\n",
       " 'problemm',\n",
       " 'problemma',\n",
       " 'problemn',\n",
       " 'problemna',\n",
       " 'problemo',\n",
       " 'problemoa',\n",
       " 'problemp',\n",
       " 'problempa',\n",
       " 'problemq',\n",
       " 'problemqa',\n",
       " 'problemr',\n",
       " 'problemra',\n",
       " 'problems',\n",
       " 'problemsa',\n",
       " 'problemt',\n",
       " 'problemta',\n",
       " 'problemu',\n",
       " 'problemua',\n",
       " 'problemv',\n",
       " 'problemva',\n",
       " 'problemw',\n",
       " 'problemwa',\n",
       " 'problemx',\n",
       " 'problemxa',\n",
       " 'problemy',\n",
       " 'problemya',\n",
       " 'problemz',\n",
       " 'problemza',\n",
       " 'problena',\n",
       " 'problenma',\n",
       " 'probleoa',\n",
       " 'probleoma',\n",
       " 'problepa',\n",
       " 'problepma',\n",
       " 'probleqa',\n",
       " 'probleqma',\n",
       " 'problera',\n",
       " 'problerma',\n",
       " 'problesa',\n",
       " 'problesma',\n",
       " 'probleta',\n",
       " 'probletma',\n",
       " 'probleua',\n",
       " 'probleuma',\n",
       " 'probleva',\n",
       " 'problevma',\n",
       " 'problewa',\n",
       " 'problewma',\n",
       " 'problexa',\n",
       " 'problexma',\n",
       " 'probleya',\n",
       " 'probleyma',\n",
       " 'probleza',\n",
       " 'problezma',\n",
       " 'problfema',\n",
       " 'problfma',\n",
       " 'problgema',\n",
       " 'problgma',\n",
       " 'problhema',\n",
       " 'problhma',\n",
       " 'probliema',\n",
       " 'problima',\n",
       " 'probljema',\n",
       " 'probljma',\n",
       " 'problkema',\n",
       " 'problkma',\n",
       " 'probllema',\n",
       " 'probllma',\n",
       " 'problma',\n",
       " 'problmea',\n",
       " 'problmema',\n",
       " 'problmma',\n",
       " 'problnema',\n",
       " 'problnma',\n",
       " 'probloema',\n",
       " 'probloma',\n",
       " 'problpema',\n",
       " 'problpma',\n",
       " 'problqema',\n",
       " 'problqma',\n",
       " 'problrema',\n",
       " 'problrma',\n",
       " 'problsema',\n",
       " 'problsma',\n",
       " 'probltema',\n",
       " 'probltma',\n",
       " 'probluema',\n",
       " 'probluma',\n",
       " 'problvema',\n",
       " 'problvma',\n",
       " 'problwema',\n",
       " 'problwma',\n",
       " 'problxema',\n",
       " 'problxma',\n",
       " 'problyema',\n",
       " 'problyma',\n",
       " 'problzema',\n",
       " 'problzma',\n",
       " 'probmema',\n",
       " 'probmlema',\n",
       " 'probnema',\n",
       " 'probnlema',\n",
       " 'proboema',\n",
       " 'probolema',\n",
       " 'probpema',\n",
       " 'probplema',\n",
       " 'probqema',\n",
       " 'probqlema',\n",
       " 'probrema',\n",
       " 'probrlema',\n",
       " 'probsema',\n",
       " 'probslema',\n",
       " 'probtema',\n",
       " 'probtlema',\n",
       " 'probuema',\n",
       " 'probulema',\n",
       " 'probvema',\n",
       " 'probvlema',\n",
       " 'probwema',\n",
       " 'probwlema',\n",
       " 'probxema',\n",
       " 'probxlema',\n",
       " 'probyema',\n",
       " 'probylema',\n",
       " 'probzema',\n",
       " 'probzlema',\n",
       " 'procblema',\n",
       " 'proclema',\n",
       " 'prodblema',\n",
       " 'prodlema',\n",
       " 'proeblema',\n",
       " 'proelema',\n",
       " 'profblema',\n",
       " 'proflema',\n",
       " 'progblema',\n",
       " 'proglema',\n",
       " 'prohblema',\n",
       " 'prohlema',\n",
       " 'proiblema',\n",
       " 'proilema',\n",
       " 'projblema',\n",
       " 'projlema',\n",
       " 'prokblema',\n",
       " 'proklema',\n",
       " 'prolbema',\n",
       " 'prolblema',\n",
       " 'prolema',\n",
       " 'prollema',\n",
       " 'promblema',\n",
       " 'promlema',\n",
       " 'pronblema',\n",
       " 'pronlema',\n",
       " 'prooblema',\n",
       " 'proolema',\n",
       " 'propblema',\n",
       " 'proplema',\n",
       " 'proqblema',\n",
       " 'proqlema',\n",
       " 'prorblema',\n",
       " 'prorlema',\n",
       " 'prosblema',\n",
       " 'proslema',\n",
       " 'protblema',\n",
       " 'protlema',\n",
       " 'proublema',\n",
       " 'proulema',\n",
       " 'provblema',\n",
       " 'provlema',\n",
       " 'prowblema',\n",
       " 'prowlema',\n",
       " 'proxblema',\n",
       " 'proxlema',\n",
       " 'proyblema',\n",
       " 'proylema',\n",
       " 'prozblema',\n",
       " 'prozlema',\n",
       " 'prpblema',\n",
       " 'prpoblema',\n",
       " 'prqblema',\n",
       " 'prqoblema',\n",
       " 'prrblema',\n",
       " 'prroblema',\n",
       " 'prsblema',\n",
       " 'prsoblema',\n",
       " 'prtblema',\n",
       " 'prtoblema',\n",
       " 'prublema',\n",
       " 'pruoblema',\n",
       " 'prvblema',\n",
       " 'prvoblema',\n",
       " 'prwblema',\n",
       " 'prwoblema',\n",
       " 'prxblema',\n",
       " 'prxoblema',\n",
       " 'pryblema',\n",
       " 'pryoblema',\n",
       " 'przblema',\n",
       " 'przoblema',\n",
       " 'psoblema',\n",
       " 'psroblema',\n",
       " 'ptoblema',\n",
       " 'ptroblema',\n",
       " 'puoblema',\n",
       " 'puroblema',\n",
       " 'pvoblema',\n",
       " 'pvroblema',\n",
       " 'pwoblema',\n",
       " 'pwroblema',\n",
       " 'pxoblema',\n",
       " 'pxroblema',\n",
       " 'pyoblema',\n",
       " 'pyroblema',\n",
       " 'pzoblema',\n",
       " 'pzroblema',\n",
       " 'qproblema',\n",
       " 'qroblema',\n",
       " 'roblema',\n",
       " 'rpoblema',\n",
       " 'rproblema',\n",
       " 'rroblema',\n",
       " 'sproblema',\n",
       " 'sroblema',\n",
       " 'tproblema',\n",
       " 'troblema',\n",
       " 'uproblema',\n",
       " 'uroblema',\n",
       " 'vproblema',\n",
       " 'vroblema',\n",
       " 'wproblema',\n",
       " 'wroblema',\n",
       " 'xproblema',\n",
       " 'xroblema',\n",
       " 'yproblema',\n",
       " 'yroblema',\n",
       " 'zproblema',\n",
       " 'zroblema'}"
      ]
     },
     "execution_count": 95,
     "metadata": {},
     "output_type": "execute_result"
    }
   ],
   "source": [
    "edits1('problema')"
   ]
  },
  {
   "cell_type": "code",
   "execution_count": null,
   "metadata": {},
   "outputs": [],
   "source": [
    "def known(words): \n",
    "    \"The subset of `words` that appear in the dictionary of WORDS.\"\n",
    "    return set(w for w in words if w in WORDS)\n",
    "\n",
    "def candidates(word): \n",
    "    \"Generate possible spelling corrections for word.\"\n",
    "    return (known([word]) or known(edits1(word)) or known(edits2(word)) or [word])"
   ]
  },
  {
   "cell_type": "code",
   "execution_count": 99,
   "metadata": {},
   "outputs": [
    {
     "data": {
      "text/plain": [
       "{'problema', 'prolema', 'proxema'}"
      ]
     },
     "execution_count": 99,
     "metadata": {},
     "output_type": "execute_result"
    }
   ],
   "source": [
    "known(edits1('probema'))"
   ]
  },
  {
   "cell_type": "markdown",
   "metadata": {},
   "source": [
    "**Passo 3:** escolher a correção mais provável"
   ]
  },
  {
   "cell_type": "code",
   "execution_count": null,
   "metadata": {},
   "outputs": [],
   "source": [
    "def correction(word): \n",
    "    \"Most probable spelling correction for word.\"\n",
    "    return max(candidates(word), key=P)"
   ]
  },
  {
   "cell_type": "code",
   "execution_count": 98,
   "metadata": {},
   "outputs": [
    {
     "data": {
      "text/plain": [
       "{'problema', 'prolema', 'proxema'}"
      ]
     },
     "execution_count": 98,
     "metadata": {},
     "output_type": "execute_result"
    }
   ],
   "source": [
    "candidates('probema')"
   ]
  },
  {
   "cell_type": "code",
   "execution_count": 101,
   "metadata": {},
   "outputs": [
    {
     "data": {
      "text/plain": [
       "(1.787661559913477e-05, 2.5538022284478247e-06, 2.5538022284478247e-06)"
      ]
     },
     "execution_count": 101,
     "metadata": {},
     "output_type": "execute_result"
    }
   ],
   "source": [
    "P('problema'), P('prolema'), P('proxema')"
   ]
  },
  {
   "cell_type": "code",
   "execution_count": 102,
   "metadata": {},
   "outputs": [
    {
     "data": {
      "text/plain": [
       "'problema'"
      ]
     },
     "execution_count": 102,
     "metadata": {},
     "output_type": "execute_result"
    }
   ],
   "source": [
    "correction('probema')"
   ]
  },
  {
   "cell_type": "code",
   "execution_count": 104,
   "metadata": {},
   "outputs": [
    {
     "data": {
      "text/plain": [
       "'baxado'"
      ]
     },
     "execution_count": 104,
     "metadata": {},
     "output_type": "execute_result"
    }
   ],
   "source": [
    "correction('maxado')"
   ]
  },
  {
   "cell_type": "markdown",
   "metadata": {},
   "source": [
    "#### Spam"
   ]
  },
  {
   "cell_type": "code",
   "execution_count": null,
   "metadata": {},
   "outputs": [],
   "source": [
    "def extract_features(message):\n",
    "    features = {}\n",
    "    features['message_length'] = len(message)\n",
    "    return features"
   ]
  },
  {
   "cell_type": "code",
   "execution_count": null,
   "metadata": {},
   "outputs": [],
   "source": [
    "from nltk.classify import apply_features\n",
    "train_set = apply_features(gender_features, names[500:])\n",
    "test_set = apply_features(gender_features, names[:500])"
   ]
  },
  {
   "cell_type": "code",
   "execution_count": null,
   "metadata": {},
   "outputs": [],
   "source": [
    "classifier = nltk.NaiveBayesClassifier.train(train_set)\n",
    "\n",
    "classifier.classify(gender_features('Neo'))\n",
    "\n",
    "nltk.classify.accuracy(classifier, test_set) \n",
    "\n",
    "classifier.show_most_informative_features(5)"
   ]
  }
 ],
 "metadata": {
  "kernelspec": {
   "display_name": "Python 3",
   "language": "python",
   "name": "python3"
  },
  "language_info": {
   "codemirror_mode": {
    "name": "ipython",
    "version": 3
   },
   "file_extension": ".py",
   "mimetype": "text/x-python",
   "name": "python",
   "nbconvert_exporter": "python",
   "pygments_lexer": "ipython3",
   "version": "3.6.10"
  }
 },
 "nbformat": 4,
 "nbformat_minor": 4
}
