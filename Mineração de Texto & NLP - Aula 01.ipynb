{
 "cells": [
  {
   "cell_type": "markdown",
   "metadata": {},
   "source": [
    "# Aula 01 - Mineração de Textos\n",
    "\n",
    "Professor: Luiz Frias \n",
    "- Email: l.frias@poli.ufrj.br\n",
    "- Linkedin: in/luizfrias/\n",
    "- Twitter: @lfdefrias\n",
    "\n",
    "#### O que? \n",
    "Mineração de Textos é o processo de extração de informação de fontes de dados escritas com o uso de um computador.\n",
    "\n",
    "#### Para que? \n",
    "\n",
    "São muitas as bases textuais relevantes: notícias jornalísticas e seu impacto na sociedade, depoimentos de consumidores de marcas em mídias sociais, entre outras. \n",
    "\n",
    "#### Como? \n",
    "\n",
    "Algumas fontes de dados disponibizam os dados através de Interface de Programação de Aplicações (API). As APIs representam a forma mais cômoda de extrair os dados e devem ser utilizadas sempre que possível.\n",
    "\n",
    "Há casos em que isso não ocorre, como nos portais de notícias. Assim, a maneira de extrair o conteúdo das notícias publicadas é tipicamente através de uma técnica conhecida como web scraping, onde a estrutura da página web (DOM) é explorada com a finalidade de extrair o texto.\n",
    "\n",
    "Há ainda casos onde os documentos textuais foram digitalizados e são disponibilizados como imagens, situação comum em livros, contratos, e outros documentos. Quando isso ocorre, uma técnica a ser explorada é o Reconhecimento Ótico de Caracteres (OCR).\n",
    "\n",
    "Abaixo vamos estudar como utilizar uma API, um exemplo de web scraping e como extrair dados de uma imagem com o uso de  OCR."
   ]
  },
  {
   "cell_type": "markdown",
   "metadata": {},
   "source": [
    "### API \n",
    "\n",
    "Exemplos do uso de API para recuperar informações textuais.\n",
    "\n",
    "Vamos usar o módulo `requests` para recuperar os dados das APIs e o módulo `pandas` para explorar seus dados. Para instalar: `$ conda install requests pandas`."
   ]
  },
  {
   "cell_type": "code",
   "execution_count": 2,
   "metadata": {},
   "outputs": [],
   "source": [
    "import requests\n",
    "import pandas as pd"
   ]
  },
  {
   "cell_type": "markdown",
   "metadata": {},
   "source": [
    "#### Câmara dos Deputados \n",
    "\n",
    "API: https://dadosabertos.camara.leg.br/swagger/api.html\n",
    "\n",
    "Recomendo que entrem na página e leiam a documentação."
   ]
  },
  {
   "cell_type": "markdown",
   "metadata": {},
   "source": [
    "1. Exemplo de uma requisição\n",
    "\n",
    "Vamos começar utilizando o endpoint `/deputados` e analisando a resposta."
   ]
  },
  {
   "cell_type": "code",
   "execution_count": 3,
   "metadata": {},
   "outputs": [
    {
     "data": {
      "text/plain": [
       "'{\"dados\":[{\"id\":204554,\"uri\":\"https://dadosabertos.camara.leg.br/api/v2/deputados/204554\",\"nome\":\"Ab'"
      ]
     },
     "execution_count": 3,
     "metadata": {},
     "output_type": "execute_result"
    }
   ],
   "source": [
    "response = requests.get(\"https://dadosabertos.camara.leg.br/api/v2/deputados\")\n",
    "response.text[:100]"
   ]
  },
  {
   "cell_type": "code",
   "execution_count": 4,
   "metadata": {},
   "outputs": [
    {
     "data": {
      "text/plain": [
       "'application/json;charset=UTF-8'"
      ]
     },
     "execution_count": 4,
     "metadata": {},
     "output_type": "execute_result"
    }
   ],
   "source": [
    "response.headers['Content-Type']"
   ]
  },
  {
   "cell_type": "markdown",
   "metadata": {},
   "source": [
    "2. Alterando o tipo de resposta\n",
    "\n",
    "Como vimos no exemplo acima, o formato da resposta foi um JSON (https://www.json.org/json-en.html), embora nada tenha sido especificado. Em Python essa costuma ser a escolha pela facilidade de manipulação da estrutura de dados (um JSON é interpretado como um dicionário). Mas em outras situações pode ser mais interessante a manipulação de XML.\n",
    "\n",
    "Cada API possui uma forma de mudar o formato de resposta. Em algumas espera-se que ele seja passado na URL (por ex.: https://dadosabertos.camara.leg.br/api/v2/deputados.json e https://dadosabertos.camara.leg.br/api/v2/deputados.xml). Em outras, espera-se que seja feito o uso do header HTTP de Content-Type (application/json;charset=UTF-8 e application/xml.charset=UTF-8). \n",
    "\n",
    "Já nesta API, espera-se que um header `accept` seja configurado. Vamos alterar a resposta para trabalhar com um XML."
   ]
  },
  {
   "cell_type": "code",
   "execution_count": 5,
   "metadata": {},
   "outputs": [
    {
     "data": {
      "text/plain": [
       "'<xml><dados><deputado_><id>204554</id><uri>https://dadosabertos.camara.leg.br/api/v2/deputados/20455'"
      ]
     },
     "execution_count": 5,
     "metadata": {},
     "output_type": "execute_result"
    }
   ],
   "source": [
    "headers = {'accept': 'application/xml'}\n",
    "response = requests.get(\"https://dadosabertos.camara.leg.br/api/v2/deputados\", headers=headers)\n",
    "response.text[:100]"
   ]
  },
  {
   "cell_type": "code",
   "execution_count": 7,
   "metadata": {},
   "outputs": [
    {
     "data": {
      "text/plain": [
       "'application/xml;charset=UTF-8'"
      ]
     },
     "execution_count": 7,
     "metadata": {},
     "output_type": "execute_result"
    }
   ],
   "source": [
    "response.headers['Content-Type']"
   ]
  },
  {
   "cell_type": "markdown",
   "metadata": {},
   "source": [
    "3. Explorando o resultado\n",
    "\n",
    "Vamos voltar ao formato JSON original. Desta vez especificando que deve ser retornado um JSON para evitar surpresas."
   ]
  },
  {
   "cell_type": "code",
   "execution_count": 8,
   "metadata": {},
   "outputs": [],
   "source": [
    "headers = {'accept': 'application/json'}\n",
    "response = requests.get(\"https://dadosabertos.camara.leg.br/api/v2/deputados\", headers=headers)"
   ]
  },
  {
   "cell_type": "markdown",
   "metadata": {},
   "source": [
    "Podemos manipular esta resposta de duas formas:\n",
    "    \n",
    "    - Passando a variável `response.text` para um parser de json, obtendo assim um dicionário\n",
    "    - Ou utilizando o método `response.json()`, que faz isso automaticamente por nós."
   ]
  },
  {
   "cell_type": "code",
   "execution_count": 12,
   "metadata": {},
   "outputs": [
    {
     "data": {
      "text/plain": [
       "dict_keys(['dados', 'links'])"
      ]
     },
     "execution_count": 12,
     "metadata": {},
     "output_type": "execute_result"
    }
   ],
   "source": [
    "response.json().keys()"
   ]
  },
  {
   "cell_type": "markdown",
   "metadata": {},
   "source": [
    "A seção `links` é útil para paginação dos resultados, possível através da manipulação de parâmetros da API. "
   ]
  },
  {
   "cell_type": "code",
   "execution_count": 13,
   "metadata": {},
   "outputs": [
    {
     "data": {
      "text/plain": [
       "[{'rel': 'self',\n",
       "  'href': 'https://dadosabertos.camara.leg.br/api/v2/deputados'},\n",
       " {'rel': 'first',\n",
       "  'href': 'https://dadosabertos.camara.leg.br/api/v2/deputados?pagina=1&itens=1000'},\n",
       " {'rel': 'last',\n",
       "  'href': 'https://dadosabertos.camara.leg.br/api/v2/deputados?pagina=1&itens=1000'}]"
      ]
     },
     "execution_count": 13,
     "metadata": {},
     "output_type": "execute_result"
    }
   ],
   "source": [
    "response.json()['links']"
   ]
  },
  {
   "cell_type": "markdown",
   "metadata": {},
   "source": [
    "A seção `dados` retorna uma lista de dicionários, com um registro por deputado. Vamos olhar o primeiro."
   ]
  },
  {
   "cell_type": "code",
   "execution_count": 18,
   "metadata": {},
   "outputs": [
    {
     "name": "stdout",
     "output_type": "stream",
     "text": [
      "513 deputados\n"
     ]
    }
   ],
   "source": [
    "print (len(response.json()['dados']), 'deputados')"
   ]
  },
  {
   "cell_type": "code",
   "execution_count": 19,
   "metadata": {},
   "outputs": [
    {
     "data": {
      "text/plain": [
       "{'id': 204554,\n",
       " 'uri': 'https://dadosabertos.camara.leg.br/api/v2/deputados/204554',\n",
       " 'nome': 'Abílio Santana',\n",
       " 'siglaPartido': 'PL',\n",
       " 'uriPartido': 'https://dadosabertos.camara.leg.br/api/v2/partidos/37906',\n",
       " 'siglaUf': 'BA',\n",
       " 'idLegislatura': 56,\n",
       " 'urlFoto': 'https://www.camara.leg.br/internet/deputado/bandep/204554.jpg',\n",
       " 'email': 'dep.abiliosantana@camara.leg.br'}"
      ]
     },
     "execution_count": 19,
     "metadata": {},
     "output_type": "execute_result"
    }
   ],
   "source": [
    "response.json()['dados'][0]"
   ]
  },
  {
   "cell_type": "markdown",
   "metadata": {},
   "source": [
    "Com o auxílio do `pandas` é muito fácil transformar um dicionário em uma tabela para manipular a resposta com mais facilidade. Ao passar uma lista de dicionários no construtor, ele interpreta cada registro da lista como uma linha e cada par usuário/valor do dicionário como uma coluna/valor da célula na tabela criado."
   ]
  },
  {
   "cell_type": "code",
   "execution_count": 22,
   "metadata": {},
   "outputs": [
    {
     "data": {
      "text/html": [
       "<div>\n",
       "<style scoped>\n",
       "    .dataframe tbody tr th:only-of-type {\n",
       "        vertical-align: middle;\n",
       "    }\n",
       "\n",
       "    .dataframe tbody tr th {\n",
       "        vertical-align: top;\n",
       "    }\n",
       "\n",
       "    .dataframe thead th {\n",
       "        text-align: right;\n",
       "    }\n",
       "</style>\n",
       "<table border=\"1\" class=\"dataframe\">\n",
       "  <thead>\n",
       "    <tr style=\"text-align: right;\">\n",
       "      <th></th>\n",
       "      <th>id</th>\n",
       "      <th>uri</th>\n",
       "      <th>nome</th>\n",
       "      <th>siglaPartido</th>\n",
       "      <th>uriPartido</th>\n",
       "      <th>siglaUf</th>\n",
       "      <th>idLegislatura</th>\n",
       "      <th>urlFoto</th>\n",
       "      <th>email</th>\n",
       "    </tr>\n",
       "  </thead>\n",
       "  <tbody>\n",
       "    <tr>\n",
       "      <th>0</th>\n",
       "      <td>204554</td>\n",
       "      <td>https://dadosabertos.camara.leg.br/api/v2/depu...</td>\n",
       "      <td>Abílio Santana</td>\n",
       "      <td>PL</td>\n",
       "      <td>https://dadosabertos.camara.leg.br/api/v2/part...</td>\n",
       "      <td>BA</td>\n",
       "      <td>56</td>\n",
       "      <td>https://www.camara.leg.br/internet/deputado/ba...</td>\n",
       "      <td>dep.abiliosantana@camara.leg.br</td>\n",
       "    </tr>\n",
       "    <tr>\n",
       "      <th>1</th>\n",
       "      <td>204521</td>\n",
       "      <td>https://dadosabertos.camara.leg.br/api/v2/depu...</td>\n",
       "      <td>Abou Anni</td>\n",
       "      <td>PSL</td>\n",
       "      <td>https://dadosabertos.camara.leg.br/api/v2/part...</td>\n",
       "      <td>SP</td>\n",
       "      <td>56</td>\n",
       "      <td>https://www.camara.leg.br/internet/deputado/ba...</td>\n",
       "      <td>dep.abouanni@camara.leg.br</td>\n",
       "    </tr>\n",
       "    <tr>\n",
       "      <th>2</th>\n",
       "      <td>204379</td>\n",
       "      <td>https://dadosabertos.camara.leg.br/api/v2/depu...</td>\n",
       "      <td>Acácio Favacho</td>\n",
       "      <td>PROS</td>\n",
       "      <td>https://dadosabertos.camara.leg.br/api/v2/part...</td>\n",
       "      <td>AP</td>\n",
       "      <td>56</td>\n",
       "      <td>https://www.camara.leg.br/internet/deputado/ba...</td>\n",
       "      <td>dep.acaciofavacho@camara.leg.br</td>\n",
       "    </tr>\n",
       "    <tr>\n",
       "      <th>3</th>\n",
       "      <td>204560</td>\n",
       "      <td>https://dadosabertos.camara.leg.br/api/v2/depu...</td>\n",
       "      <td>Adolfo Viana</td>\n",
       "      <td>PSDB</td>\n",
       "      <td>https://dadosabertos.camara.leg.br/api/v2/part...</td>\n",
       "      <td>BA</td>\n",
       "      <td>56</td>\n",
       "      <td>https://www.camara.leg.br/internet/deputado/ba...</td>\n",
       "      <td>dep.adolfoviana@camara.leg.br</td>\n",
       "    </tr>\n",
       "    <tr>\n",
       "      <th>4</th>\n",
       "      <td>204528</td>\n",
       "      <td>https://dadosabertos.camara.leg.br/api/v2/depu...</td>\n",
       "      <td>Adriana Ventura</td>\n",
       "      <td>NOVO</td>\n",
       "      <td>https://dadosabertos.camara.leg.br/api/v2/part...</td>\n",
       "      <td>SP</td>\n",
       "      <td>56</td>\n",
       "      <td>https://www.camara.leg.br/internet/deputado/ba...</td>\n",
       "      <td>dep.adrianaventura@camara.leg.br</td>\n",
       "    </tr>\n",
       "  </tbody>\n",
       "</table>\n",
       "</div>"
      ],
      "text/plain": [
       "       id                                                uri             nome  \\\n",
       "0  204554  https://dadosabertos.camara.leg.br/api/v2/depu...   Abílio Santana   \n",
       "1  204521  https://dadosabertos.camara.leg.br/api/v2/depu...        Abou Anni   \n",
       "2  204379  https://dadosabertos.camara.leg.br/api/v2/depu...   Acácio Favacho   \n",
       "3  204560  https://dadosabertos.camara.leg.br/api/v2/depu...     Adolfo Viana   \n",
       "4  204528  https://dadosabertos.camara.leg.br/api/v2/depu...  Adriana Ventura   \n",
       "\n",
       "  siglaPartido                                         uriPartido siglaUf  \\\n",
       "0           PL  https://dadosabertos.camara.leg.br/api/v2/part...      BA   \n",
       "1          PSL  https://dadosabertos.camara.leg.br/api/v2/part...      SP   \n",
       "2         PROS  https://dadosabertos.camara.leg.br/api/v2/part...      AP   \n",
       "3         PSDB  https://dadosabertos.camara.leg.br/api/v2/part...      BA   \n",
       "4         NOVO  https://dadosabertos.camara.leg.br/api/v2/part...      SP   \n",
       "\n",
       "   idLegislatura                                            urlFoto  \\\n",
       "0             56  https://www.camara.leg.br/internet/deputado/ba...   \n",
       "1             56  https://www.camara.leg.br/internet/deputado/ba...   \n",
       "2             56  https://www.camara.leg.br/internet/deputado/ba...   \n",
       "3             56  https://www.camara.leg.br/internet/deputado/ba...   \n",
       "4             56  https://www.camara.leg.br/internet/deputado/ba...   \n",
       "\n",
       "                              email  \n",
       "0   dep.abiliosantana@camara.leg.br  \n",
       "1        dep.abouanni@camara.leg.br  \n",
       "2   dep.acaciofavacho@camara.leg.br  \n",
       "3     dep.adolfoviana@camara.leg.br  \n",
       "4  dep.adrianaventura@camara.leg.br  "
      ]
     },
     "execution_count": 22,
     "metadata": {},
     "output_type": "execute_result"
    }
   ],
   "source": [
    "pd.DataFrame(response.json()['dados']).head(5)"
   ]
  },
  {
   "cell_type": "markdown",
   "metadata": {},
   "source": [
    "4. Passando parâmetros\n",
    "\n",
    "Na documentação é possível ver uma lista de parâmetros aceitos pelo endpoint. Vamos explorar seu uso."
   ]
  },
  {
   "cell_type": "code",
   "execution_count": 36,
   "metadata": {},
   "outputs": [
    {
     "data": {
      "text/html": [
       "<div>\n",
       "<style scoped>\n",
       "    .dataframe tbody tr th:only-of-type {\n",
       "        vertical-align: middle;\n",
       "    }\n",
       "\n",
       "    .dataframe tbody tr th {\n",
       "        vertical-align: top;\n",
       "    }\n",
       "\n",
       "    .dataframe thead th {\n",
       "        text-align: right;\n",
       "    }\n",
       "</style>\n",
       "<table border=\"1\" class=\"dataframe\">\n",
       "  <thead>\n",
       "    <tr style=\"text-align: right;\">\n",
       "      <th></th>\n",
       "      <th>id</th>\n",
       "      <th>uri</th>\n",
       "      <th>nome</th>\n",
       "      <th>siglaPartido</th>\n",
       "      <th>uriPartido</th>\n",
       "      <th>siglaUf</th>\n",
       "      <th>idLegislatura</th>\n",
       "      <th>urlFoto</th>\n",
       "      <th>email</th>\n",
       "    </tr>\n",
       "  </thead>\n",
       "  <tbody>\n",
       "    <tr>\n",
       "      <th>0</th>\n",
       "      <td>4237</td>\n",
       "      <td>https://dadosabertos.camara.leg.br/api/v2/depu...</td>\n",
       "      <td>ALCIDES MAIA</td>\n",
       "      <td>None</td>\n",
       "      <td>None</td>\n",
       "      <td>RS</td>\n",
       "      <td>32</td>\n",
       "      <td>https://www.camara.leg.br/internet/deputado/ba...</td>\n",
       "      <td>None</td>\n",
       "    </tr>\n",
       "    <tr>\n",
       "      <th>1</th>\n",
       "      <td>136226</td>\n",
       "      <td>https://dadosabertos.camara.leg.br/api/v2/depu...</td>\n",
       "      <td>ALEXANDRE MAIA</td>\n",
       "      <td>PMDB</td>\n",
       "      <td>https://dadosabertos.camara.leg.br/api/v2/part...</td>\n",
       "      <td>MG</td>\n",
       "      <td>52</td>\n",
       "      <td>https://www.camara.leg.br/internet/deputado/ba...</td>\n",
       "      <td>None</td>\n",
       "    </tr>\n",
       "    <tr>\n",
       "      <th>2</th>\n",
       "      <td>4166</td>\n",
       "      <td>https://dadosabertos.camara.leg.br/api/v2/depu...</td>\n",
       "      <td>ALFREDO DE MAIA</td>\n",
       "      <td>None</td>\n",
       "      <td>None</td>\n",
       "      <td>AL</td>\n",
       "      <td>31</td>\n",
       "      <td>https://www.camara.leg.br/internet/deputado/ba...</td>\n",
       "      <td>None</td>\n",
       "    </tr>\n",
       "    <tr>\n",
       "      <th>3</th>\n",
       "      <td>130300</td>\n",
       "      <td>https://dadosabertos.camara.leg.br/api/v2/depu...</td>\n",
       "      <td>ÁLVARO MAIA</td>\n",
       "      <td>None</td>\n",
       "      <td>None</td>\n",
       "      <td>AM</td>\n",
       "      <td>36</td>\n",
       "      <td>https://www.camara.leg.br/internet/deputado/ba...</td>\n",
       "      <td>None</td>\n",
       "    </tr>\n",
       "    <tr>\n",
       "      <th>4</th>\n",
       "      <td>130526</td>\n",
       "      <td>https://dadosabertos.camara.leg.br/api/v2/depu...</td>\n",
       "      <td>ANTÔNIO MAIA</td>\n",
       "      <td>PSD</td>\n",
       "      <td>https://dadosabertos.camara.leg.br/api/v2/part...</td>\n",
       "      <td>AM</td>\n",
       "      <td>40</td>\n",
       "      <td>https://www.camara.leg.br/internet/deputado/ba...</td>\n",
       "      <td>None</td>\n",
       "    </tr>\n",
       "  </tbody>\n",
       "</table>\n",
       "</div>"
      ],
      "text/plain": [
       "       id                                                uri             nome  \\\n",
       "0    4237  https://dadosabertos.camara.leg.br/api/v2/depu...     ALCIDES MAIA   \n",
       "1  136226  https://dadosabertos.camara.leg.br/api/v2/depu...   ALEXANDRE MAIA   \n",
       "2    4166  https://dadosabertos.camara.leg.br/api/v2/depu...  ALFREDO DE MAIA   \n",
       "3  130300  https://dadosabertos.camara.leg.br/api/v2/depu...      ÁLVARO MAIA   \n",
       "4  130526  https://dadosabertos.camara.leg.br/api/v2/depu...     ANTÔNIO MAIA   \n",
       "\n",
       "  siglaPartido                                         uriPartido siglaUf  \\\n",
       "0         None                                               None      RS   \n",
       "1         PMDB  https://dadosabertos.camara.leg.br/api/v2/part...      MG   \n",
       "2         None                                               None      AL   \n",
       "3         None                                               None      AM   \n",
       "4          PSD  https://dadosabertos.camara.leg.br/api/v2/part...      AM   \n",
       "\n",
       "   idLegislatura                                            urlFoto email  \n",
       "0             32  https://www.camara.leg.br/internet/deputado/ba...  None  \n",
       "1             52  https://www.camara.leg.br/internet/deputado/ba...  None  \n",
       "2             31  https://www.camara.leg.br/internet/deputado/ba...  None  \n",
       "3             36  https://www.camara.leg.br/internet/deputado/ba...  None  \n",
       "4             40  https://www.camara.leg.br/internet/deputado/ba...  None  "
      ]
     },
     "execution_count": 36,
     "metadata": {},
     "output_type": "execute_result"
    }
   ],
   "source": [
    "params = {'nome': 'maia'} # define-se um novo dicionario com os parametros a serem passados\n",
    "\n",
    "headers = {'accept': 'application/json'}\n",
    "response = requests.get(\"https://dadosabertos.camara.leg.br/api/v2/deputados\", headers=headers\n",
    "                        , params=params) # usa-se esse novo dicionario como argumento da funcao\n",
    "pd.DataFrame(response.json()['dados']).head(5)"
   ]
  },
  {
   "cell_type": "markdown",
   "metadata": {},
   "source": [
    "5. Recuperando pronunciamentos\n",
    "\n",
    "Vamos trabalhar com texto agora (finalmente!). Para isso, vamos utilizar o endpoint `/deputados/{id}/discursos` e recuperar o último pronunciamento do deputado Rodrigo Maia.\n",
    "\n",
    "Como o endpoint espera o id do deputado, primeiro vamos descobrir qual é esse identificador."
   ]
  },
  {
   "cell_type": "code",
   "execution_count": 37,
   "metadata": {},
   "outputs": [
    {
     "data": {
      "text/html": [
       "<div>\n",
       "<style scoped>\n",
       "    .dataframe tbody tr th:only-of-type {\n",
       "        vertical-align: middle;\n",
       "    }\n",
       "\n",
       "    .dataframe tbody tr th {\n",
       "        vertical-align: top;\n",
       "    }\n",
       "\n",
       "    .dataframe thead th {\n",
       "        text-align: right;\n",
       "    }\n",
       "</style>\n",
       "<table border=\"1\" class=\"dataframe\">\n",
       "  <thead>\n",
       "    <tr style=\"text-align: right;\">\n",
       "      <th></th>\n",
       "      <th>id</th>\n",
       "      <th>uri</th>\n",
       "      <th>nome</th>\n",
       "      <th>siglaPartido</th>\n",
       "      <th>uriPartido</th>\n",
       "      <th>siglaUf</th>\n",
       "      <th>idLegislatura</th>\n",
       "      <th>urlFoto</th>\n",
       "      <th>email</th>\n",
       "    </tr>\n",
       "  </thead>\n",
       "  <tbody>\n",
       "    <tr>\n",
       "      <th>0</th>\n",
       "      <td>74693</td>\n",
       "      <td>https://dadosabertos.camara.leg.br/api/v2/depu...</td>\n",
       "      <td>Rodrigo Maia</td>\n",
       "      <td>DEM</td>\n",
       "      <td>https://dadosabertos.camara.leg.br/api/v2/part...</td>\n",
       "      <td>RJ</td>\n",
       "      <td>56</td>\n",
       "      <td>https://www.camara.leg.br/internet/deputado/ba...</td>\n",
       "      <td>dep.rodrigomaia@camara.leg.br</td>\n",
       "    </tr>\n",
       "  </tbody>\n",
       "</table>\n",
       "</div>"
      ],
      "text/plain": [
       "      id                                                uri          nome  \\\n",
       "0  74693  https://dadosabertos.camara.leg.br/api/v2/depu...  Rodrigo Maia   \n",
       "\n",
       "  siglaPartido                                         uriPartido siglaUf  \\\n",
       "0          DEM  https://dadosabertos.camara.leg.br/api/v2/part...      RJ   \n",
       "\n",
       "   idLegislatura                                            urlFoto  \\\n",
       "0             56  https://www.camara.leg.br/internet/deputado/ba...   \n",
       "\n",
       "                           email  \n",
       "0  dep.rodrigomaia@camara.leg.br  "
      ]
     },
     "execution_count": 37,
     "metadata": {},
     "output_type": "execute_result"
    }
   ],
   "source": [
    "params = {'nome': 'rodrigo maia'} \n",
    "\n",
    "headers = {'accept': 'application/json'}\n",
    "response = requests.get(\"https://dadosabertos.camara.leg.br/api/v2/deputados\", headers=headers\n",
    "                        , params=params) \n",
    "pd.DataFrame(response.json()['dados']).head(5)"
   ]
  },
  {
   "cell_type": "markdown",
   "metadata": {},
   "source": [
    "De posse do identificador do deputado, vamos estabelecer os parâmetros necessários para trazer apenas o último discurso."
   ]
  },
  {
   "cell_type": "code",
   "execution_count": 28,
   "metadata": {},
   "outputs": [],
   "source": [
    "params = {\n",
    "    'ordenarPor': 'dataHoraInicio', # ordenar por data de início do pronunciamento\n",
    "    'ordem': 'desc', # último discurso primeiro\n",
    "    'itens': 1, # trazer apenas o primeiro da lista\n",
    "    'dataInicio': '2020-01-01' # por padrão o endpoint trabalha apenas com a última semana de dados, vamos ampliar a busca\n",
    "} \n",
    "\n",
    "headers = {'accept': 'application/json;utf-8'}\n",
    "response = requests.get(\n",
    "    \"https://dadosabertos.camara.leg.br/api/v2/deputados/74693/discursos\", # o id do deputado é passado na URL\n",
    "    headers=headers,\n",
    "    params=params) "
   ]
  },
  {
   "cell_type": "markdown",
   "metadata": {},
   "source": [
    "Vamos analisar a resposta da API"
   ]
  },
  {
   "cell_type": "code",
   "execution_count": 29,
   "metadata": {},
   "outputs": [
    {
     "data": {
      "text/plain": [
       "[{'dataHoraInicio': '2020-08-26T11:52',\n",
       "  'dataHoraFim': None,\n",
       "  'uriEvento': '',\n",
       "  'faseEvento': {'titulo': 'Homenagem',\n",
       "   'dataHoraInicio': None,\n",
       "   'dataHoraFim': None},\n",
       "  'tipoDiscurso': 'HOMENAGEM',\n",
       "  'urlTexto': 'http://imagem.camara.leg.br/dc_20b.asp?largura=&altura=&tipoForm=diarios&selCodColecaoCsv=J&Datain=27%2F8%2F2020&txPagina=&txSuplemento=&enviar=Pesquisar',\n",
       "  'urlAudio': None,\n",
       "  'urlVideo': None,\n",
       "  'keywords': 'SESSÃO CONJUNTA, HOMENAGEM, PROMULGAÇÃO, PEC 15/2015, PROPOSTA DE EMENDA À CONSTITUIÇÃO, FUNDO DE MANUTENÇÃO E DESENVOLVIMENTO DA EDUCAÇÃO BÁSICA E DE VALORIZAÇÃO DOS PROFISSIONAIS DA EDUCAÇÃO (FUNDEB), CARÁTER PERMANENTE.',\n",
       "  'sumario': 'Saudações aos Parlamentares presentes e aos participantes na sessão virtual. Importância da promulgação da Emenda Constitucional nº 108, de 2020, sobre a transformação do Fundo de Manutenção e Desenvolvimento da Educação Básica e de Valorização dos Profissionais da Educação - FUNDEB, em instrumento permanente de financiamento da educação básica pública. Avanço do Parlamento brasileiro na votação de proposições destinadas à modernização do Estado brasileiro.',\n",
       "  'transcricao': 'O SR. RODRIGO MAIA (DEM - RJ. Para discursar. Sem revisão do orador.) - Bom dia a todos.\\r\\nCumprimento o Presidente Davi Alcolumbre, a Deputada Professora Dorinha Seabra Rezende e, por meio da Deputada, todas as minhas colegas Deputadas presentes e as que estão acompanhando a sessão virtual; a Deputada Raquel Muniz, autora da PEC; o Senador Eduardo Braga e o Deputado Ricardo Barros, Líderes do Governo; o Senador Weverton; as Sras. Deputadas e os Srs. Deputados, as Sras. Senadoras e os Srs. Senadores, Congressistas.\\r\\nHoje, certamente, é um dia muito especial para o Congresso Nacional, mas principalmente para milhões de brasileiros, que passam a ter, na Constituição Federal, a garantia da priorização da educação pública no País. \\r\\nTodos nós que participamos, ou pelo menos acompanhamos - boa parte de nós -, do início da execução do FUNDEF, que depois virou FUNDEB, e agora é o FUNDEB para a educação básica permanente, sabemos da importância que esse programa teve e certamente terá nos próximos anos para as nossas crianças, para os nossos jovens, com a certeza de que não há e não haverá outro caminho que não seja o da valorização da educação pública no País.\\r\\n Sr. Presidente Davi Alcolumbre, a grande vitória do Congresso Nacional - de forma quase unânime, na Câmara dos Deputados, e de forma unânime, no Senado Federal -, daqueles que votaram essa matéria, é exatamente a certeza de que para o Parlamento brasileiro a educação pública das nossas crianças, que tanto precisam disso, é prioridade. Sabemos que a qualidade da nossa educação já melhorou muito, mas ainda está muito distante da educação privada. Por isso, precisamos trabalhar não apenas com recursos, mas também com a certeza de que a qualidade da educação pública precisa ser igual para todos os brasileiros.\\r\\nNós avançamos bastante. Havia uma proposta inicial de complementação de 40% por parte do Governo Federal. Todo o Parlamento entendeu que isso não era possível. Sabemos de todas as dificuldades por que passa o orçamento público federal, mas chegamos no final a um valor que reafirma a importância do FUNDEB para muitos Estados e Municípios que ainda não recebem a complementação do Governo Federal.\\r\\nTrata-se de emenda fundamental. Caminhamos para 23% de recursos para a educação, mais do que o dobro da participação federal, de forma escalonada, porque sabemos das restrições do Orçamento, destacando a importância da valorização da educação, da melhoria da qualidade da educação, como consta no relatório da Deputada Professora Dorinha Seabra Rezende.\\r\\nTenho certeza de que todos nós, aqueles que apoiaram essa PEC, acompanhamos nos nossos Municípios e nos nossos Estados todo o trabalho dos nossos professores e das nossas professoras para a melhoria da educação. Eu sou do Rio de Janeiro, que tem a maior rede municipal de educação da América Latina, com mais de 1.060 escolas, cidade da qual meu pai teve a oportunidade de ser Prefeito, por três mandatos, sempre valorizando e priorizando a educação, os professores e as professoras, a gestão pública nas escolas. Ainda criança, como falei na Câmara dos Deputados, quando meu pai foi Secretário de Fazenda do Governo Brizola, do qual Darcy Ribeiro foi Secretário Estadual, ele teve a oportunidade de garantir os recursos para a construção dos CIEPs, tão criticados no passado e tão defendidos no presente.\\r\\nCom essa experiência que tenho, que cada um dos senhores aqui têm, que os Deputados e Senadores têm no tema da educação dos nossos Municípios e Estados, é uma alegria muito grande estarmos aqui hoje promulgando essa PEC, sabendo que ela amplia recursos do Governo Federal para a educação básica. Sabemos ainda que todos nós, daqui para frente, teremos novas responsabilidades, não apenas na regulamentação do FUNDEB, que vai ser muito importante - mais uma vez, Presidente Davi Alcolumbre, um trabalho em conjunto da Câmara dos Deputados e do Senado Federal, como foi a relatoria da Deputada Professora Dorinha Seabra Rezende e do Senador Flávio Arns. Vamos precisar trabalhar em conjunto na regulamentação do FUNDEB, mas não são apenas esses os desafios. Quando decidimos que a educação seria prioridade e que precisaria de mais recursos, era uma decisão política colocar mais recursos em determinada área, sabendo que, sem dúvida nenhuma, outras áreas teriam menos prioridade. Essa foi a decisão quase unânime na Câmara dos Deputados e unânime no Senado.\\r\\nPor isso, o Parlamento precisa continuar avançando, votando matérias que modernizem o Estado brasileiro, que garantam a prioridade de melhoria da qualidade não apenas do ensino, mas de todas as suas funções, com a certeza de que o Parlamento tem a responsabilidade e o compromisso com o serviço público de qualidade. Muitos desafios ainda teremos pela frente, como a reforma tributária, a reforma administrativa e tantas outras matérias que serão fundamentais. Para um país que já tem uma carga tributária tão alta, a escolha de prioridades é sempre fundamental. E hoje fizemos uma escolha. Todos nós, em conjunto, na Câmara dos Deputados e no Senado, fizemos a escolha pela educação, pelas nossas crianças.\\r\\nParabenizo as Deputadas e os Deputados, as Senadoras e os Senadores, principalmente na figura do Presidente Davi Alcolumbre, que coordenou esse processo, em conjunto com a Deputada Professora Dorinha Seabra Rezende e o Senador Flávio Arns, de forma muito competente, para que chegássemos neste momento, nesta sessão solene, com todos os partidos unidos e com todos os partidos apoiando, primeiro, a votação e, agora, a promulgação da PEC.\\r\\nParabéns a todos e uma boa tarde a cada um dos senhores!'}]"
      ]
     },
     "execution_count": 29,
     "metadata": {},
     "output_type": "execute_result"
    }
   ],
   "source": [
    "response.json()['dados']"
   ]
  },
  {
   "cell_type": "markdown",
   "metadata": {},
   "source": [
    "O pronunciamento, finalmente."
   ]
  },
  {
   "cell_type": "code",
   "execution_count": 30,
   "metadata": {},
   "outputs": [
    {
     "name": "stdout",
     "output_type": "stream",
     "text": [
      "O SR. RODRIGO MAIA (DEM - RJ. Para discursar. Sem revisão do orador.) - Bom dia a todos.\r\n",
      "Cumprimento o Presidente Davi Alcolumbre, a Deputada Professora Dorinha Seabra Rezende e, por meio da Deputada, todas as minhas colegas Deputadas presentes e as que estão acompanhando a sessão virtual; a Deputada Raquel Muniz, autora da PEC; o Senador Eduardo Braga e o Deputado Ricardo Barros, Líderes do Governo; o Senador Weverton; as Sras. Deputadas e os Srs. Deputados, as Sras. Senadoras e os Srs. Senadores, Congressistas.\r\n",
      "Hoje, certamente, é um dia muito especial para o Congresso Nacional, mas principalmente para milhões de brasileiros, que passam a ter, na Constituição Federal, a garantia da priorização da educação pública no País. \r\n",
      "Todos nós que participamos, ou pelo menos acompanhamos - boa parte de nós -, do início da execução do FUNDEF, que depois virou FUNDEB, e agora é o FUNDEB para a educação básica permanente, sabemos da importância que esse programa teve e certamente terá nos próximos anos para as nossas crianças, para os nossos jovens, com a certeza de que não há e não haverá outro caminho que não seja o da valorização da educação pública no País.\r\n",
      " Sr. Presidente Davi Alcolumbre, a grande vitória do Congresso Nacional - de forma quase unânime, na Câmara dos Deputados, e de forma unânime, no Senado Federal -, daqueles que votaram essa matéria, é exatamente a certeza de que para o Parlamento brasileiro a educação pública das nossas crianças, que tanto precisam disso, é prioridade. Sabemos que a qualidade da nossa educação já melhorou muito, mas ainda está muito distante da educação privada. Por isso, precisamos trabalhar não apenas com recursos, mas também com a certeza de que a qualidade da educação pública precisa ser igual para todos os brasileiros.\r\n",
      "Nós avançamos bastante. Havia uma proposta inicial de complementação de 40% por parte do Governo Federal. Todo o Parlamento entendeu que isso não era possível. Sabemos de todas as dificuldades por que passa o orçamento público federal, mas chegamos no final a um valor que reafirma a importância do FUNDEB para muitos Estados e Municípios que ainda não recebem a complementação do Governo Federal.\r\n",
      "Trata-se de emenda fundamental. Caminhamos para 23% de recursos para a educação, mais do que o dobro da participação federal, de forma escalonada, porque sabemos das restrições do Orçamento, destacando a importância da valorização da educação, da melhoria da qualidade da educação, como consta no relatório da Deputada Professora Dorinha Seabra Rezende.\r\n",
      "Tenho certeza de que todos nós, aqueles que apoiaram essa PEC, acompanhamos nos nossos Municípios e nos nossos Estados todo o trabalho dos nossos professores e das nossas professoras para a melhoria da educação. Eu sou do Rio de Janeiro, que tem a maior rede municipal de educação da América Latina, com mais de 1.060 escolas, cidade da qual meu pai teve a oportunidade de ser Prefeito, por três mandatos, sempre valorizando e priorizando a educação, os professores e as professoras, a gestão pública nas escolas. Ainda criança, como falei na Câmara dos Deputados, quando meu pai foi Secretário de Fazenda do Governo Brizola, do qual Darcy Ribeiro foi Secretário Estadual, ele teve a oportunidade de garantir os recursos para a construção dos CIEPs, tão criticados no passado e tão defendidos no presente.\r\n",
      "Com essa experiência que tenho, que cada um dos senhores aqui têm, que os Deputados e Senadores têm no tema da educação dos nossos Municípios e Estados, é uma alegria muito grande estarmos aqui hoje promulgando essa PEC, sabendo que ela amplia recursos do Governo Federal para a educação básica. Sabemos ainda que todos nós, daqui para frente, teremos novas responsabilidades, não apenas na regulamentação do FUNDEB, que vai ser muito importante - mais uma vez, Presidente Davi Alcolumbre, um trabalho em conjunto da Câmara dos Deputados e do Senado Federal, como foi a relatoria da Deputada Professora Dorinha Seabra Rezende e do Senador Flávio Arns. Vamos precisar trabalhar em conjunto na regulamentação do FUNDEB, mas não são apenas esses os desafios. Quando decidimos que a educação seria prioridade e que precisaria de mais recursos, era uma decisão política colocar mais recursos em determinada área, sabendo que, sem dúvida nenhuma, outras áreas teriam menos prioridade. Essa foi a decisão quase unânime na Câmara dos Deputados e unânime no Senado.\r\n",
      "Por isso, o Parlamento precisa continuar avançando, votando matérias que modernizem o Estado brasileiro, que garantam a prioridade de melhoria da qualidade não apenas do ensino, mas de todas as suas funções, com a certeza de que o Parlamento tem a responsabilidade e o compromisso com o serviço público de qualidade. Muitos desafios ainda teremos pela frente, como a reforma tributária, a reforma administrativa e tantas outras matérias que serão fundamentais. Para um país que já tem uma carga tributária tão alta, a escolha de prioridades é sempre fundamental. E hoje fizemos uma escolha. Todos nós, em conjunto, na Câmara dos Deputados e no Senado, fizemos a escolha pela educação, pelas nossas crianças.\r\n",
      "Parabenizo as Deputadas e os Deputados, as Senadoras e os Senadores, principalmente na figura do Presidente Davi Alcolumbre, que coordenou esse processo, em conjunto com a Deputada Professora Dorinha Seabra Rezende e o Senador Flávio Arns, de forma muito competente, para que chegássemos neste momento, nesta sessão solene, com todos os partidos unidos e com todos os partidos apoiando, primeiro, a votação e, agora, a promulgação da PEC.\r\n",
      "Parabéns a todos e uma boa tarde a cada um dos senhores!\n"
     ]
    }
   ],
   "source": [
    "print ( response.json()['dados'][0]['transcricao'] )"
   ]
  },
  {
   "cell_type": "markdown",
   "metadata": {},
   "source": [
    "### Web Scraping \n",
    "\n",
    "Exemplos de como extrair dados a partir de uma página da web.\n",
    "\n",
    "Vamos usar o módulo `news-please`, implementação de um web crawler genérico. Instale com `$ pip install news-please`."
   ]
  },
  {
   "cell_type": "code",
   "execution_count": 31,
   "metadata": {},
   "outputs": [],
   "source": [
    "url = 'https://economia.uol.com.br/todos-a-bordo/2020/08/16/como-pilotos-e-avioes-se-preparam-para-voltar-a-voar-apos-um-tempo-parados.htm'\n",
    "\n",
    "from newsplease import NewsPlease\n",
    "article = NewsPlease.from_url(url)"
   ]
  },
  {
   "cell_type": "code",
   "execution_count": 32,
   "metadata": {},
   "outputs": [
    {
     "data": {
      "text/plain": [
       "'Pilotos e aviões têm regras especiais para voltar a voar após a pandemia'"
      ]
     },
     "execution_count": 32,
     "metadata": {},
     "output_type": "execute_result"
    }
   ],
   "source": [
    "article.title"
   ]
  },
  {
   "cell_type": "code",
   "execution_count": 33,
   "metadata": {},
   "outputs": [
    {
     "data": {
      "text/plain": [
       "['Alexandre Saconi', 'Colaboração Para O Uol', 'Em São Paulo']"
      ]
     },
     "execution_count": 33,
     "metadata": {},
     "output_type": "execute_result"
    }
   ],
   "source": [
    "article.authors"
   ]
  },
  {
   "cell_type": "code",
   "execution_count": 54,
   "metadata": {},
   "outputs": [
    {
     "name": "stdout",
     "output_type": "stream",
     "text": [
      "A pandemia do novo coronavírus deixou aviões e pilotos sem voar. Quais são os cuidados que os equipamentos e os profissionais exigem durante esse afastamento? Como tem sido o preparo para que todos voltem ao ar em segurança quando houver uma retomada?\n",
      "Um carro não precisa seguir normas rígidas para ficar parado, e o motorista não necessita passar por novo treinamento após ficar meses sem dirigir, mas na aviação é diferente. Os aviões têm de passar por procedimentos especiais durante o tempo em que estão parados (como fechar todos os orifícios, para não entrar insetos ou água) e no seu retorno. Os pilotos têm de treinar de tempos em tempos.\n",
      "Pilotos precisam ter voado nos últimos 90 dias\n",
      "Normas da Anac (Agência Nacional de Aviação Civil) definem que o piloto comercial deve ter experiência recente para poder voar. O piloto precisa ter feito pousos e decolagens em até 90 dias antes do retorno ao trabalho. Tem de ser no mesmo tipo de avião em que vai trabalhar. Isso ficou inviável em diversos casos durante a pandemia.\n",
      "Muitos pilotos acabam passando um período maior sem conseguir alcançar essa exigência de prática recente, e teriam de passar por uma espécie de nova certificação para poder voltar a voar. Para viabilizar o retorno das atividades, desde junho, a Anac flexibilizou essa regra, permitindo que pilotos sem essa vivência recente possam voar, desde que junto a pilotos que cumpram as exigências de experiência recente.\n",
      "Essa regulamentação é inédita e está de acordo com padrões de segurança de órgãos internacionais, segundo a Anac. Ela vale apenas enquanto durar o estado de emergência de saúde pública da pandemia. Além disso, algumas empresas ainda oferecem treinamentos específicos de diversas manobras em simuladores para manter o treinamento das tripulações em dia.\n",
      "Aviões podem ter de \"hibernar\"\n",
      "De acordo com Danilo Andrade, diretor de Segurança Operacional da Gol, existem dois tipos de preservação de um avião para que ele fique por um certo tempo sem voar: uma é a ativa, onde o avião ficará um tempo sem voar, mas costuma ser acionado de tempos em tempos para permanecer operacional; a outra é um tipo de hibernação, que ocorre quando o avião precisa ficar longos períodos sem voar.\n",
      "\"A Gol chegou a ter 92 aviões parados em 11 aeroportos em todo o Brasil e teve de gerenciar os dois tipos de preservação\", disse Andrade.\n",
      "Para voar de novo, não é só dar a partida\n",
      "Para voltar a voar, a aeronave passa pela \"despreservação\", procedimento que segue etapas descritas no manual do fabricante e varia de acordo com o modelo. Segundo Miguel Angelo Rodeguero, diretor de Segurança Operacional da Aopa Brasil (Associação de Pilotos e Proprietários de Aeronaves), \"para reativar o avião, não é só reabastecer e dar a partida. Há um programa de checagem antes da nova partida\".\n",
      "Em linhas gerais, são abertos todos os orifícios do avião que estavam cobertos para evitar a entrada de água, insetos, animais e sujeiras. Seria o equivalente a tirar a capa do carro. \"A partir daí, uma série de testes dos sistemas e dos mecanismos são feitos, visando a garantia da segurança e da aeronavegabilidade\", afirmou Rodeguero.\n",
      "Na sequência, a parte elétrica é reativada, o avião é abastecido com combustível (caso necessário) e os níveis de óleo são completados. Esses procedimentos variam de acordo com cada avião, mas, em linhas gerais, essas são as etapas que costumam ser cumpridas.\n",
      "Outras checagens por sete dias\n",
      "As empresas ainda podem adotar medidas adicionais. \"Mesmo após a liberação para voltar ao voo, feita por equipes treinadas pelo fabricante do avião, são feitos monitoramentos adicionais por mais sete dias\", disse Andrade.\n",
      "Nesse momento, é observada qualquer pequena variação que a aeronave possa apresentar em relação aos parâmetros antes do processo de preservação, como pressão no motor, fluxo de combustível, oscilação na voltagem etc.\n",
      "\"Em todo o pernoite, um grupo de profissionais da empresa realiza uma série de ações e verificações adicionais para garantir a segurança e que os parâmetros de voo estejam de acordo com os padrões estabelecidos\", afirmou Andrade.\n"
     ]
    }
   ],
   "source": [
    "print(article.maintext)"
   ]
  },
  {
   "cell_type": "markdown",
   "metadata": {},
   "source": [
    "### PDF \n",
    "\n",
    "Outra aplicação bastante comum é a extração de texto a partir de arquivos PDF.\n",
    "\n",
    "Uma possibilidade é utilizar módulos que explorem a estrutura deste formato e retornem textos. Um deles é o `pdfminer`, instalado pelo comando `$ pip install pdfminer.six`."
   ]
  },
  {
   "cell_type": "code",
   "execution_count": 56,
   "metadata": {},
   "outputs": [
    {
     "name": "stdout",
     "output_type": "stream",
     "text": [
      " \n",
      "\n",
      "8 \n",
      "\n",
      "Introduction \n",
      "\n",
      " \n",
      "\n",
      " \n",
      " \n",
      "Thank you for reading this book! This has been a long time coming. Over the last several years I \n",
      "have tinkered with the idea of making a book, to help everyone-  from hardcore ramen-lovers to \n",
      "those simply intrigued by interesting food- find an all-inclusive resource of recipes and ideas on \n",
      "how to make ramen. I felt like it would make sense to make this as widely accessible as \n",
      "possible. An e-book format made the most sense, free for anyone to view at any time.  \n",
      " \n",
      "Many of you probably have never had ramen beyond the dry noodle packages found regularly \n",
      "at your local grocery store. This book is not about that kind of ramen, which is more akin to \n",
      "instant noodles. While tasty in its own right, instant noodles aren’t quite the same thing as the \n",
      "dish discussed in this book. Ramen, a dish originating from Japan, is a complex soup that is \n",
      "challenging to make and, even to this day, still has quite a bit of mystery. I’m hoping I can at \n",
      "least break apart the ambiguity a little, primarily through the discussion of appropriate concepts \n",
      "rather than solely relying on recipes.  \n",
      " \n",
      "As for the rest of you, I know what you are thinking. A book on ramen? That sounds awfully \n",
      "specific. Who is this guy? Why should I even care? Why is an American making ramen? Is this a \n",
      "poor man’s Ivan Orkin?  \n",
      " \n",
      "Not exactly.  \n",
      " \n",
      "My name is Mike. I’m a food nerd who lives in Chicago, and I am particularly obsessed with \n",
      "ramen. Most folks know me by the name “Ramen_Lord” on Reddit, which is pretty ostentatious, \n",
      "I know. The username was tongue-in-cheek at first. I thought I might post some of my creations \n",
      "to the ramen subreddit, /r/ramen, have some fun in the process, and learn along the way. I did \n",
      "not, however, expect my posts to catch on at all. And despite this, people started paying \n",
      "attention.  \n",
      " \n",
      "But what sparked this weird obsession? In all sincerity, it was kind of a coincidence. I had been \n",
      "eating ramen with some mild regularity in Chicago. Usually, this involved going out to a local \n",
      "Japanese market called Mitsuwa and splurging on miso ramen. It was cool, but nothing that \n",
      "sparked my interest. It wasn’t until I lived in Japan that I tried the real stuff. I lived in Sapporo as \n",
      "part of a study abroad program at Hokkaido University, and, coincidentally, miso ramen was \n",
      "designed, created, and invented in that city. I thought I ought to get a taste of the real deal.  \n",
      " \n",
      "I tried a few bowls in touristy destinations like Ramen Yokocho. Felt fine. Packed it up. \n",
      " \n",
      "\n",
      "\f",
      "\n"
     ]
    }
   ],
   "source": [
    "from pdfminer.high_level import extract_text\n",
    "\n",
    "text = extract_text('in/The Book of Ramen-p8.pdf')\n",
    "print (text)"
   ]
  },
  {
   "cell_type": "markdown",
   "metadata": {},
   "source": [
    "No entanto, nem todo PDF deriva de um documento digitado. Quando o PDF é resultado de um scanner, o resultado é falho, como pode-se ver abaixo."
   ]
  },
  {
   "cell_type": "code",
   "execution_count": 57,
   "metadata": {},
   "outputs": [
    {
     "name": "stdout",
     "output_type": "stream",
     "text": [
      "(cid:3)(cid:2)(cid:8)\n",
      "\n",
      "(cid:4)(cid:1)(cid:1)(cid:7)(cid:8)\n",
      "\n",
      "(cid:18)(cid:25)\n",
      "\n",
      "(cid:12)(cid:25)\n",
      "(cid:20)(cid:25)\n",
      "\n",
      "(cid:17)(cid:25)\n",
      "(cid:23)(cid:25)\n",
      "(cid:7)(cid:8)(cid:25)\n",
      "\n",
      "(cid:13)(cid:25)\n",
      "(cid:9)(cid:25)\n",
      "\n",
      "(cid:2)(cid:25)\n",
      "(cid:19)(cid:25)\n",
      "(cid:3)(cid:4)(cid:25)\n",
      "\n",
      "(cid:21)(cid:25)\n",
      "\n",
      "(cid:5)(cid:6)(cid:25)\n",
      "(cid:24)(cid:16)(cid:25)\n",
      "\n",
      "(cid:15)(cid:25)\n",
      "\n",
      "(cid:1)(cid:25)\n",
      "\n",
      "(cid:22)(cid:25)\n",
      "(cid:5)(cid:8)\n",
      "(cid:10)(cid:11)(cid:25)\n",
      "(cid:14)(cid:25)\n",
      "\n",
      "(cid:27)(cid:49)(cid:69)(cid:46)(cid:69)(cid:93)(cid:89)(cid:38)(cid:103)(cid:152) (cid:83)(cid:40)(cid:90)(cid:116)(cid:52)(cid:70)(cid:62)(cid:40)(cid:152) (cid:62)(cid:53)(cid:76)(cid:40)(cid:49)(cid:38)(cid:152) (cid:38)(cid:152) (cid:125)(cid:83)(cid:152)\n",
      "\n",
      "(cid:29)(cid:40)(cid:105)(cid:40)(cid:83)(cid:52)(cid:76)(cid:69)(cid:134)(cid:38)(cid:144)(cid:143)(cid:93)(cid:152) (cid:49)(cid:52)(cid:152) (cid:125)(cid:83)(cid:152) (cid:69)(cid:89)(cid:62)(cid:103)(cid:52)(cid:49)(cid:69)(cid:52)(cid:90)(cid:116)(cid:53)(cid:152)\n",
      "\n",
      "(cid:97)(cid:104)(cid:54)(cid:97)(cid:40)(cid:103)(cid:93)(cid:152) (cid:99)(cid:126)(cid:52)(cid:91)(cid:115)(cid:52)(cid:152) (cid:43)(cid:38)(cid:115)(cid:52)(cid:90)(cid:50)(cid:93)(cid:152) (cid:46)(cid:93)(cid:83)(cid:152) (cid:126)(cid:83)(cid:152) (cid:60)(cid:95)(cid:127)(cid:52)(cid:115)(cid:152)\n",
      "\n",
      "(cid:4)(cid:90)(cid:93)(cid:105)(cid:86)(cid:40)(cid:80)(cid:87)(cid:52)(cid:91)(cid:115)(cid:52)(cid:152) (cid:93)(cid:152) (cid:115)(cid:93)(cid:83)(cid:38)(cid:116)(cid:52)(cid:7)(cid:152) (cid:52)(cid:83)(cid:152) (cid:62)(cid:93)(cid:105)(cid:50)(cid:126)(cid:103)(cid:40)(cid:21)(cid:152)\n",
      "\n",
      "(cid:97)(cid:38)(cid:105)(cid:38)(cid:152) (cid:52)(cid:83)(cid:125)(cid:76)(cid:112)(cid:71)(cid:93)(cid:89)(cid:40)(cid:111)(cid:152) (cid:33)(cid:112)(cid:112)(cid:93)(cid:152) (cid:130)(cid:38)(cid:69)(cid:152) (cid:52)(cid:112)(cid:97)(cid:52)(cid:112)(cid:113)(cid:140)(cid:15)(cid:76)(cid:93)(cid:9)(cid:152)(cid:49)(cid:38)(cid:103)(cid:152)\n",
      "\n",
      "(cid:31)(cid:112)(cid:112)(cid:52)(cid:152) (cid:97)(cid:103)(cid:93)(cid:46)(cid:52)(cid:112)(cid:112)(cid:93)(cid:152) (cid:103)(cid:52)(cid:49)(cid:125)(cid:135)(cid:152) (cid:40)(cid:152) (cid:38)(cid:46)(cid:69)(cid:49)(cid:52)(cid:136)(cid:9)(cid:152)(cid:38)(cid:152) (cid:49)(cid:93)(cid:145)(cid:127)(cid:103)(cid:40)(cid:152)\n",
      "\n",
      "(cid:43)(cid:103)(cid:69)(cid:76)(cid:63)(cid:93)(cid:152) (cid:52)(cid:152) (cid:115)(cid:52)(cid:132)(cid:124)(cid:127)(cid:105)(cid:40)(cid:152) (cid:38)(cid:130)(cid:52)(cid:77)(cid:126)(cid:49)(cid:38)(cid:49)(cid:40)(cid:17)(cid:152) (cid:6)(cid:8) (cid:97)(cid:103)(cid:52)(cid:96)(cid:40)(cid:105)(cid:93)(cid:152)\n",
      "\n",
      "(cid:93)(cid:126)(cid:152) (cid:93)(cid:152) (cid:40)(cid:83)(cid:38)(cid:103)(cid:62)(cid:93)(cid:103)(cid:152) (cid:52)(cid:131)(cid:46)(cid:52)(cid:112)(cid:112)(cid:69)(cid:130)(cid:93)(cid:152) (cid:99)(cid:126)(cid:52)(cid:152) (cid:97)(cid:93)(cid:50)(cid:52)(cid:152) (cid:40)(cid:57)(cid:53)(cid:116)(cid:38)(cid:103)(cid:152)\n",
      "\n",
      "(cid:91)(cid:141)(cid:93)(cid:152) (cid:97)(cid:93)(cid:50)(cid:52)(cid:152) (cid:55)(cid:52)(cid:103)(cid:130)(cid:52)(cid:109)(cid:25)(cid:152)\n",
      "\n",
      "(cid:93)(cid:152) (cid:103)(cid:52)(cid:112)(cid:127)(cid:76)(cid:116)(cid:40)(cid:50)(cid:93)(cid:152) (cid:59)(cid:69)(cid:91)(cid:38)(cid:76)(cid:152) (cid:49)(cid:52)(cid:152) (cid:127)(cid:88)(cid:152) (cid:87)(cid:93)(cid:76)(cid:63)(cid:93)(cid:22)(cid:152)\n",
      "\n",
      "(cid:30)(cid:112)(cid:112)(cid:52)(cid:152) (cid:116)(cid:52)(cid:105)(cid:83)(cid:93)(cid:152) (cid:112)(cid:53)(cid:152) (cid:103)(cid:52)(cid:56)(cid:52)(cid:103)(cid:52)(cid:152) (cid:1)(cid:2) (cid:46)(cid:93)(cid:90)(cid:112)(cid:69)(cid:112)(cid:120)(cid:147)(cid:92)(cid:46)(cid:69)(cid:40)(cid:152)\n",
      "\n",
      "(cid:35)(cid:93)(cid:89)(cid:116)(cid:93)(cid:152) (cid:52)(cid:83)(cid:152) (cid:100)(cid:125)(cid:52)(cid:152) (cid:40)(cid:152) (cid:86)(cid:38)(cid:89)(cid:116)(cid:52)(cid:69)(cid:62)(cid:40)(cid:152) (cid:59)(cid:69)(cid:47)(cid:38)(cid:152) (cid:52)(cid:83)(cid:152)\n",
      "\n",
      "(cid:49)(cid:52)(cid:152) (cid:128)(cid:84)(cid:152) (cid:83)(cid:93)(cid:76)(cid:64)(cid:93)(cid:18)(cid:152)(cid:36)(cid:128)(cid:40)(cid:89)(cid:49)(cid:93)(cid:152) (cid:53)(cid:114)(cid:121)(cid:52)(cid:152) (cid:103)(cid:52)(cid:46)(cid:93)(cid:44)(cid:106)(cid:52)(cid:152) (cid:40)(cid:112)(cid:152)\n",
      "\n",
      "(cid:46)(cid:93)(cid:89)(cid:112)(cid:69)(cid:112)(cid:116)(cid:147)(cid:90)(cid:46)(cid:69)(cid:38)(cid:152) (cid:49)(cid:52)(cid:152) (cid:97)(cid:93)(cid:86)(cid:38)(cid:49)(cid:38)(cid:152) (cid:5)(cid:101)(cid:128)(cid:40)(cid:89)(cid:49)(cid:93)(cid:152)\n",
      "\n",
      "(cid:48)(cid:93)(cid:112)(cid:121)(cid:40)(cid:112)(cid:152) (cid:49)(cid:52)(cid:152) (cid:127)(cid:83)(cid:38)(cid:152) (cid:46)(cid:93)(cid:76)(cid:63)(cid:52)(cid:105)(cid:152) (cid:46)(cid:93)(cid:83)(cid:152) (cid:126)(cid:83)(cid:38)(cid:152) (cid:46)(cid:39)(cid:83)(cid:38)(cid:49)(cid:38)(cid:152)\n",
      "\n",
      "(cid:49)(cid:52)(cid:72)(cid:132)(cid:38)(cid:49)(cid:40)(cid:152) (cid:52)(cid:86)(cid:152) (cid:116)(cid:52)(cid:83)(cid:97)(cid:52)(cid:105)(cid:38)(cid:115)(cid:127)(cid:105)(cid:38)(cid:152) (cid:40)(cid:83)(cid:45)(cid:69)(cid:52)(cid:90)(cid:115)(cid:52)(cid:8)(cid:17)(cid:152)\n",
      "\n",
      "(cid:61)(cid:90)(cid:38)(cid:152) (cid:52)(cid:152) (cid:116)(cid:103)(cid:40)(cid:90)(cid:112)(cid:76)(cid:150)(cid:46)(cid:69)(cid:49)(cid:40)(cid:152) (cid:3)(cid:83)(cid:93)(cid:78)(cid:65)(cid:93)(cid:152) (cid:130)(cid:52)(cid:76)(cid:93)(cid:127)(cid:117)(cid:146)(cid:9)(cid:152)\n",
      "\n",
      "(cid:47)(cid:103)(cid:52)(cid:83)(cid:52)(cid:152) (cid:69)(cid:91)(cid:62)(cid:76)(cid:147)(cid:112)(cid:6)(cid:19)(cid:152)\n",
      "\n",
      "(cid:28)(cid:93)(cid:105)(cid:116)(cid:52)(cid:152) (cid:116)(cid:105)(cid:38)(cid:89)(cid:112)(cid:130)(cid:52)(cid:103)(cid:112)(cid:40)(cid:76)(cid:152) (cid:52)(cid:152) (cid:76)(cid:40)(cid:105)(cid:62)(cid:93)(cid:152) (cid:52)(cid:112)(cid:97)(cid:52)(cid:46)(cid:148)(cid:58)(cid:69)(cid:46)(cid:93)(cid:152)\n",
      "\n",
      "(cid:107)(cid:52)(cid:112)(cid:152) (cid:151)(cid:83)(cid:69)(cid:49)(cid:40)(cid:112)(cid:19)(cid:152) (cid:34)(cid:93)(cid:152) (cid:97)(cid:105)(cid:93)(cid:46)(cid:52)(cid:112)(cid:112)(cid:93)(cid:9)(cid:152) (cid:93)(cid:152) (cid:105)(cid:52)(cid:46)(cid:67)(cid:52)(cid:73)(cid:93)(cid:152)\n",
      "\n",
      "(cid:97)(cid:38)(cid:103)(cid:40)(cid:152) (cid:130)(cid:52)(cid:62)(cid:52)(cid:116)(cid:38)(cid:69)(cid:112)(cid:152) (cid:50)(cid:52)(cid:152) (cid:57)(cid:93)(cid:105)(cid:83)(cid:38)(cid:116)(cid:93)(cid:152) (cid:46)(cid:69)(cid:79)(cid:148)(cid:91)(cid:49)(cid:103)(cid:71)(cid:46)(cid:93)(cid:20)(cid:152)\n",
      "\n",
      "(cid:146)(cid:152)(cid:1)(cid:97)(cid:38)(cid:112)(cid:112)(cid:40)(cid:49)(cid:93)(cid:2)(cid:152)(cid:49)(cid:52)(cid:152) (cid:127)(cid:83)(cid:40)(cid:152) (cid:46)(cid:93)(cid:76)(cid:63)(cid:52)(cid:103)(cid:152) (cid:40)(cid:152) (cid:93)(cid:126)(cid:122)(cid:103)(cid:38)(cid:9)(cid:152)\n",
      "\n",
      "(cid:32)(cid:93)(cid:105)(cid:83)(cid:38)(cid:116)(cid:93)(cid:152) (cid:50)(cid:38)(cid:50)(cid:93)(cid:152) (cid:40)(cid:152) (cid:97)(cid:38)(cid:113)(cid:115)(cid:38)(cid:112)(cid:13)(cid:152)(cid:83)(cid:93)(cid:127)(cid:112)(cid:112)(cid:52)(cid:81)(cid:71)(cid:90)(cid:52)(cid:112)(cid:152)\n",
      "\n",
      "(cid:93)(cid:125)(cid:152)(cid:103)(cid:52)(cid:46)(cid:65)(cid:52)(cid:69)(cid:93)(cid:112)(cid:152) (cid:46)(cid:93)(cid:84)(cid:152) (cid:93)(cid:152) (cid:128)(cid:112)(cid:93)(cid:152) (cid:49)(cid:53)(cid:152) (cid:51)(cid:128)(cid:42)(cid:112)(cid:152) (cid:46)(cid:93)(cid:76)(cid:63)(cid:52)(cid:138)\n",
      "\n",
      "(cid:103)(cid:52)(cid:112)(cid:128)(cid:82)(cid:116)(cid:40)(cid:90)(cid:49)(cid:93)(cid:152) (cid:38)(cid:112)(cid:112)(cid:69)(cid:83)(cid:152) (cid:90)(cid:128)(cid:83)(cid:152) (cid:59)(cid:95)(cid:103)(cid:84)(cid:40)(cid:116)(cid:93)(cid:152) (cid:52)(cid:82)(cid:149)(cid:97)(cid:116)(cid:69)(cid:46)(cid:93)(cid:23)(cid:152)\n",
      "\n",
      "(cid:6)(cid:8) (cid:116)(cid:38)(cid:83)(cid:40)(cid:91)(cid:68)(cid:93)(cid:152) (cid:59)(cid:69)(cid:91)(cid:38)(cid:76)(cid:152) (cid:49)(cid:40)(cid:152) (cid:102)(cid:126)(cid:52)(cid:91)(cid:53)(cid:76)(cid:76)(cid:53)(cid:152) (cid:49)(cid:52)(cid:97)(cid:52)(cid:91)(cid:49)(cid:52)(cid:152)\n",
      "\n",
      "(cid:32)(cid:103)(cid:129)(cid:116)(cid:93)(cid:112)(cid:10)(cid:152)(cid:112)(cid:52)(cid:83)(cid:52)(cid:89)(cid:116)(cid:52)(cid:112)(cid:152) (cid:52)(cid:152) (cid:76)(cid:53)(cid:62)(cid:128)(cid:84)(cid:69)(cid:90)(cid:93)(cid:112)(cid:40)(cid:112)(cid:152) (cid:103)(cid:69)(cid:46)(cid:93)(cid:112)(cid:152)\n",
      "\n",
      "(cid:49)(cid:93)(cid:152) (cid:116)(cid:40)(cid:83)(cid:40)(cid:90)(cid:65)(cid:93)(cid:152) (cid:49)(cid:40)(cid:152) (cid:46)(cid:93)(cid:76)(cid:65)(cid:52)(cid:103)(cid:152) (cid:128)(cid:116)(cid:69)(cid:76)(cid:69)(cid:137)(cid:40)(cid:49)(cid:40)(cid:19)(cid:152)\n",
      "\n",
      "(cid:52)(cid:83)(cid:152)(cid:62)(cid:93)(cid:103)(cid:49)(cid:125)(cid:103)(cid:38)(cid:112)(cid:152) (cid:3)(cid:40)(cid:83)(cid:147)(cid:91)(cid:49)(cid:93)(cid:38)(cid:12)(cid:152) (cid:40)(cid:83)(cid:52)(cid:90)(cid:49)(cid:93)(cid:69)(cid:85)(cid:9)(cid:152)\n",
      "\n",
      "(cid:38)(cid:130)(cid:52)(cid:79)(cid:142)(cid:11)(cid:152) (cid:46)(cid:38)(cid:112)(cid:122)(cid:38)(cid:89)(cid:63)(cid:38)(cid:152) (cid:50)(cid:52)(cid:152) (cid:46)(cid:38)(cid:75)(cid:127)(cid:12)(cid:152)(cid:46)(cid:40)(cid:114)(cid:123)(cid:40)(cid:91)(cid:66)(cid:38)(cid:16)(cid:49)(cid:94)(cid:16)(cid:97)(cid:38)(cid:105)(cid:140)(cid:12)(cid:152)\n",
      "\n",
      "(cid:89)(cid:93)(cid:133)(cid:52)(cid:112)(cid:152) (cid:52)(cid:118)(cid:46)(cid:26)(cid:6)(cid:19)(cid:152)\n",
      "\n",
      "(cid:37)(cid:52)(cid:46)(cid:69)(cid:97)(cid:69)(cid:53)(cid:90)(cid:119)(cid:52)(cid:152) (cid:49)(cid:52)(cid:152) (cid:98)(cid:93)(cid:108)(cid:47)(cid:52)(cid:76)(cid:40)(cid:90)(cid:40)(cid:12)(cid:152)(cid:116)(cid:108)(cid:40)(cid:49)(cid:74)(cid:46)(cid:69)(cid:93)(cid:90)(cid:40)(cid:76)(cid:139)\n",
      "\n",
      "(cid:86)(cid:52)(cid:91)(cid:116)(cid:52)(cid:152) (cid:45)(cid:110)(cid:41)(cid:90)(cid:46)(cid:93)(cid:14)(cid:152)(cid:46)(cid:40)(cid:90)(cid:53)(cid:76)(cid:38)(cid:50)(cid:93)(cid:12)(cid:152)(cid:127)(cid:112)(cid:40)(cid:49)(cid:93)(cid:152) (cid:97)(cid:40)(cid:103)(cid:38)(cid:152) (cid:112)(cid:125)(cid:59)(cid:76)(cid:147)(cid:112)(cid:24)(cid:152)\n",
      "\n",
      "\f",
      "\n"
     ]
    }
   ],
   "source": [
    "from pdfminer.high_level import extract_text\n",
    "\n",
    "text = extract_text('in/400g-p36.pdf')\n",
    "print (text)"
   ]
  },
  {
   "cell_type": "markdown",
   "metadata": {},
   "source": [
    "Nesses casos, a melhor alternativa é recorrer a módulos de OCR (reconhecimento ótico de caracteres). Para este exemploo, vamos utilizar o `pytesseract`. As instruções de instalação podem ser encontradas em https://github.com/madmaze/pytesseract#installation"
   ]
  },
  {
   "cell_type": "code",
   "execution_count": 59,
   "metadata": {},
   "outputs": [
    {
     "name": "stdout",
     "output_type": "stream",
     "text": [
      "ik\n",
      "\n",
      "inha\n",
      "\n",
      "coz\n",
      "\n",
      "té\n",
      "\n",
      "4009\n",
      "\n",
      "1 termos e técnicas de cozinha |\n",
      "\n",
      "Adicionar manteiga gelada a um\n",
      "Preparo quente batendo com um fouet\n",
      "para emulsionar. Isso vai espessd-lo, dar\n",
      "brilho e textura aveludada. O preparo\n",
      "nao pode ferver.\n",
      "\n",
      "Esse termo se refere & consisténcia\n",
      "de um molho. Quando este recobre as\n",
      "costas de uma colher com uma camada\n",
      "fina e translicida (molho velouté,\n",
      "creme inglés).\n",
      "\n",
      "Corte transversal e largo especifico\n",
      "para vegetais de formato cilindrico,\n",
      "\n",
      "LEAGINO\n",
      "\n",
      "Frutos, sementes e leguminosas ricos\n",
      "em gorduras (améndoa, amendoim,\n",
      "avela, castanha de caju, castanha-do-para,\n",
      "nozes etc.).\n",
      "\n",
      "Caramelizagdo de um ingrediente\n",
      "(normalmente o tomate) em gordura.\n",
      "Esse processo reduz a acidez, a docura\n",
      "Ou O amargor excessivo que pode afetar\n",
      "o resultado final de um molho.\n",
      "\n",
      "POMI\n",
      "Ponto em que a manteiga fica em\n",
      "\n",
      "consisténcia de pomada (quando\n",
      "\n",
      "deixada em temperatura ambiente).\n",
      "\n",
      "Formato dado a pastas, mousselines\n",
      "ou recheios com o uso de duas colhe-\n",
      "res umidas. No processo, 0 recheio\n",
      "é \"passado\" de uma colher a outra,\n",
      "resultando assim num formato eliptico.\n",
      "© tamanho final da quenelle depende\n",
      "do tamanho da colher utilizada.\n",
      "\n",
      "MEQUIM\n",
      "\n",
      " \n",
      "\n",
      "Recipiente de porcelana, tradicional-\n",
      "mente branco, canelado, usado para suflés.\n",
      "\n",
      " \n",
      "\f",
      "\n"
     ]
    }
   ],
   "source": [
    "import pytesseract\n",
    "\n",
    "print(pytesseract.image_to_string('in/400g-p36.png'))"
   ]
  },
  {
   "cell_type": "markdown",
   "metadata": {},
   "source": [
    "### Projeto \n",
    "\n",
    "Vamos agora montar uma base de dados para utilizarmos no restante do curso."
   ]
  }
 ],
 "metadata": {
  "kernelspec": {
   "display_name": "Python 3",
   "language": "python",
   "name": "python3"
  },
  "language_info": {
   "codemirror_mode": {
    "name": "ipython",
    "version": 3
   },
   "file_extension": ".py",
   "mimetype": "text/x-python",
   "name": "python",
   "nbconvert_exporter": "python",
   "pygments_lexer": "ipython3",
   "version": "3.6.10"
  }
 },
 "nbformat": 4,
 "nbformat_minor": 4
}
