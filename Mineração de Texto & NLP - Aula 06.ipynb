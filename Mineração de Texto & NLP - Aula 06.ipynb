{
 "cells": [
  {
   "cell_type": "markdown",
   "metadata": {},
   "source": [
    "# Aula 06 - NER\n",
    "\n",
    "Professor: Luiz Frias \n",
    "- Email: l.frias@poli.ufrj.br\n",
    "- Linkedin: in/luizfrias/\n",
    "- Twitter: @lfdefrias\n",
    "\n",
    "**Objetivo:** entendimento de como identificar entididades com o Spacy."
   ]
  },
  {
   "cell_type": "code",
   "execution_count": 1,
   "metadata": {},
   "outputs": [],
   "source": [
    "import spacy\n",
    "from spacy import displacy\n",
    "\n",
    "import pandas as pd\n",
    "\n",
    "from newsplease import NewsPlease"
   ]
  },
  {
   "cell_type": "code",
   "execution_count": 2,
   "metadata": {},
   "outputs": [],
   "source": [
    "nlp = spacy.load(\"pt_core_news_md\")"
   ]
  },
  {
   "cell_type": "markdown",
   "metadata": {},
   "source": [
    "Vamos usar uma notícia de exemplo para identificar as entidades "
   ]
  },
  {
   "cell_type": "code",
   "execution_count": 129,
   "metadata": {},
   "outputs": [],
   "source": [
    "article = NewsPlease.from_url(\"https://economia.uol.com.br/colunas/carla-araujo/2020/09/21/tst-julgamento-fim-greve-correios-manter-parte-direitos-reajuste.htm\")"
   ]
  },
  {
   "cell_type": "code",
   "execution_count": 75,
   "metadata": {},
   "outputs": [
    {
     "name": "stdout",
     "output_type": "stream",
     "text": [
      "Jornalista formada em 2003 pela FIAM, com pós-graduação na Fundação Cásper Líbero e MBA em finanças, começou a carreira repórter de agronegócio e colaborou com revistas segmentadas. Na Agência Estado/Broadcast foi repórter de tempo real por dez anos em São Paulo e também em Brasília, desde 2015. Foi pelo grupo Estado que cobriu o impeachment da presidente Dilma Rousseff. No Valor Econômico, acompanhou como setorista do Palácio do Planalto o fim do governo Michel Temer e a chegada de Jair Bolsonaro à Presidência.\n",
      "O Tribunal Superior do Trabalho decidiu, em julgamento realizado nesta segunda-feira, encerrar a greve dos funcionários dos Correios, que acontece desde 17 de agosto. De acordo com a decisão, os empregados devem voltar ao trabalho amanhã, sob pena de multa de R$ 100 mil por dia.\n",
      "A empresa comemorou a decisão. Já o sindicato rejeitou o acordo e recomendou que os funcionários mantenham a greve. Devem ser feitas assembleias hoje e amanhã para votação.\n",
      "A decisão de hoje representou também uma derrota parcial à estatal, já que ficou mantida a cláusula que prevê a correção monetária de 2,6% dos salários. Os trabalhadores, no entanto, pediam uma reposição salarial de 5%.\n",
      "A Corte considerou que o movimento grevista não foi abusivo. Por outro lado, os ministros decidiram seguir a jurisprudência trabalhista e haverá um desconto salarial referente à metade dos dias de greve; nos demais dias, haverá compensação.\n",
      "O fim da greve era defendido pelo ministro das Comunicações, Fabio Faria, e pelo presidente dos Correios, general Floriano Peixoto. Ambos afirmaram que a retirada dos benefícios era necessária para manter a sustentabilidade da empresa.\n",
      "Cláusulas sociais mantidas\n",
      "O principal imbróglio do julgamento foi em relação à manutenção dos benefícios dos trabalhadores. A estatal pretendia retirar mais de 70 itens concedidos historicamente aos funcionários.\n",
      "A relatora do caso, ministra Kátia Arruda, votou para que todos os benefícios fossem mantidos, mas acabou parcialmente vencida. Prevaleceu a tese divergente apresentada pelo ministro Ives Gandra Filho, que conta com a simpatia do presidente Jair Bolsonaro.\n",
      "Em um voto com mais de 100 páginas, a ministra destacou que, em seus anos de Corte trabalhista, essa foi a primeira vez que viu uma empresa propor a retirada de todas as cláusulas e direitos.\n",
      "A ministra disse, ainda, que apesar de os Correios alegarem problemas econômicos com a manutenção dos direitos, há informações da própria estatal que mostram que houve aumento da procura durante a pandemia.\n",
      "Ives Gandra, ao apresentar a divergência, propôs que fossem mantidas nove cláusulas, que a empresa já havia aceitado, e mais 20 cláusulas que tratam de benefícios sociais, que não representam impacto financeiro para a estatal.\n",
      "Houve uma alteração no texto da cláusula que trata do plano de saúde e vale alimentação. A relatora defendeu mudar o verbo de que a empresa \"pode\" oferecer o benefício para que a estatal \"deve\" garanti-lo.\n",
      "Adicional de férias e licença-maternidade como de CLT\n",
      "Entre os benefícios que serão alterados está a remuneração das férias. Atualmente, os funcionários recebem 2/3 de adicional ao salário. A CLT garante ao trabalhador 1/3 de incentivo no período de descanso. Segundo os Correios, a economia prevista com a revisão será de mais de R$ 600 milhões ao ano.\n",
      "A licença-maternidade também vai mudar. Atualmente, a licença é de 180 dias, e a proposta com a retirada da cláusula é passar para 120 dias, como trabalhadores do regime CLT.\n",
      "Empresa não quis negociar, diz relatora\n",
      "Em seu voto, a ministra Kátia Arruda destacou a intransigência dos Correios em aceitar os acordos anteriormente propostos pela Justiça do Trabalho.\n",
      "\"Não houve uma negociação coletiva, já que a postura da empresa desde o início, incluindo nas esferas extrajudiciais, foi de absoluta resistência\", declarou. No último dia 11, a magistrada propôs um acordo. Os funcionários sinalizaram disposição em negociar, mas a estatal não.\n",
      "\"Houve uma patente conduta negativista para negociar por parte da empresa, eu com 30 anos na Justiça do Trabalho jamais tinha vivenciado uma conduta assim\", afirmou.\n",
      "Justificativa da estatal\n",
      "Em entrevista à coluna na semana passada, o presidente dos Correios, general Floriano Peixoto, afirmou que a proposta feita pela estatal —de extinção de mais de 70 benefícios— estimava uma economia na ordem de R$ 800 milhões por ano.\n",
      "Questionado se essa economia é necessária, já que a empresa vem registrando lucro nos últimos anos, Floriano afirmou que, apesar dos números positivos nos últimos anos, há um passivo de R$ 2,4 bilhões a ser saldado. \"Os resultados positivos recentes têm reduzido esse déficit, e a nossa expectativa é a de acelerar esse processo\", disse.\n",
      "Floriano destacou, ainda, que os benefícios que a empresa queria extinguir foram concedidos em momentos diferentes do atual, tanto para a empresa como para o Brasil. \"Para os Correios é inviável, hoje, manter em patamar tão elevado suas despesas com pessoal, pois a transformação do mercado e dos hábitos de consumo da sociedade demanda investimentos que a empresa não tem realizado a contento\", disse.\n"
     ]
    }
   ],
   "source": [
    "print (article.maintext)"
   ]
  },
  {
   "cell_type": "markdown",
   "metadata": {},
   "source": [
    "### Rule-based matcher\n",
    "\n",
    "O Spacy possibilita encontrar pedaços de texto com base em regras. São duas as classes: PhraseMatcher, que encontra pedaços exatos de texto; Matcher, que encontra trechos do documento através de padrões específicos. \n",
    "\n",
    "#### Phrase Matcher\n",
    "\n",
    "Vamos utilizar o PhraseMatcher para encontrar estados e municípios no texto."
   ]
  },
  {
   "cell_type": "code",
   "execution_count": 5,
   "metadata": {},
   "outputs": [
    {
     "data": {
      "text/html": [
       "<div>\n",
       "<style scoped>\n",
       "    .dataframe tbody tr th:only-of-type {\n",
       "        vertical-align: middle;\n",
       "    }\n",
       "\n",
       "    .dataframe tbody tr th {\n",
       "        vertical-align: top;\n",
       "    }\n",
       "\n",
       "    .dataframe thead th {\n",
       "        text-align: right;\n",
       "    }\n",
       "</style>\n",
       "<table border=\"1\" class=\"dataframe\">\n",
       "  <thead>\n",
       "    <tr style=\"text-align: right;\">\n",
       "      <th></th>\n",
       "      <th>codigo_uf</th>\n",
       "      <th>uf</th>\n",
       "      <th>nome</th>\n",
       "      <th>latitude</th>\n",
       "      <th>longitude</th>\n",
       "    </tr>\n",
       "  </thead>\n",
       "  <tbody>\n",
       "    <tr>\n",
       "      <th>0</th>\n",
       "      <td>11</td>\n",
       "      <td>RO</td>\n",
       "      <td>Rondônia</td>\n",
       "      <td>-10.83</td>\n",
       "      <td>-63.34</td>\n",
       "    </tr>\n",
       "  </tbody>\n",
       "</table>\n",
       "</div>"
      ],
      "text/plain": [
       "   codigo_uf  uf      nome  latitude  longitude\n",
       "0         11  RO  Rondônia    -10.83     -63.34"
      ]
     },
     "execution_count": 5,
     "metadata": {},
     "output_type": "execute_result"
    }
   ],
   "source": [
    "estados = pd.read_csv('in/estados.csv')\n",
    "estados.head(1)"
   ]
  },
  {
   "cell_type": "code",
   "execution_count": 6,
   "metadata": {},
   "outputs": [
    {
     "data": {
      "text/html": [
       "<div>\n",
       "<style scoped>\n",
       "    .dataframe tbody tr th:only-of-type {\n",
       "        vertical-align: middle;\n",
       "    }\n",
       "\n",
       "    .dataframe tbody tr th {\n",
       "        vertical-align: top;\n",
       "    }\n",
       "\n",
       "    .dataframe thead th {\n",
       "        text-align: right;\n",
       "    }\n",
       "</style>\n",
       "<table border=\"1\" class=\"dataframe\">\n",
       "  <thead>\n",
       "    <tr style=\"text-align: right;\">\n",
       "      <th></th>\n",
       "      <th>codigo_ibge</th>\n",
       "      <th>nome</th>\n",
       "      <th>latitude</th>\n",
       "      <th>longitude</th>\n",
       "      <th>capital</th>\n",
       "      <th>codigo_uf</th>\n",
       "    </tr>\n",
       "  </thead>\n",
       "  <tbody>\n",
       "    <tr>\n",
       "      <th>0</th>\n",
       "      <td>5200050</td>\n",
       "      <td>Abadia de Goiás</td>\n",
       "      <td>-16.7573</td>\n",
       "      <td>-49.4412</td>\n",
       "      <td>0</td>\n",
       "      <td>52</td>\n",
       "    </tr>\n",
       "  </tbody>\n",
       "</table>\n",
       "</div>"
      ],
      "text/plain": [
       "   codigo_ibge             nome  latitude  longitude  capital  codigo_uf\n",
       "0      5200050  Abadia de Goiás  -16.7573   -49.4412        0         52"
      ]
     },
     "execution_count": 6,
     "metadata": {},
     "output_type": "execute_result"
    }
   ],
   "source": [
    "municipios = pd.read_csv('in/municipios.csv')\n",
    "municipios.head(1)"
   ]
  },
  {
   "cell_type": "code",
   "execution_count": 7,
   "metadata": {},
   "outputs": [
    {
     "name": "stdout",
     "output_type": "stream",
     "text": [
      "ESTADO_NOME 44 46 São Paulo\n",
      "MUNICIPIO_NOME 44 46 São Paulo\n",
      "MUNICIPIO_NOME 49 50 Brasília\n",
      "MUNICIPIO_NOME 77 78 Planalto\n",
      "MUNICIPIO_NOME 288 289 Floriano\n",
      "MUNICIPIO_NOME 288 290 Floriano Peixoto\n",
      "MUNICIPIO_NOME 788 789 Floriano\n",
      "MUNICIPIO_NOME 788 790 Floriano Peixoto\n",
      "MUNICIPIO_NOME 838 839 Floriano\n",
      "MUNICIPIO_NOME 886 887 Floriano\n"
     ]
    }
   ],
   "source": [
    "from spacy.matcher import PhraseMatcher\n",
    "\n",
    "matcher = PhraseMatcher(nlp.vocab)\n",
    "\n",
    "estados_uf_pattern = [nlp(estado) for estado in estados.uf.tolist()]\n",
    "estados_name_pattern = [nlp(estado) for estado in estados.nome.tolist()]\n",
    "municipios_name_pattern = [nlp(city) for city in municipios.nome.tolist()]\n",
    "\n",
    "matcher.add(\"ESTADO_UF\", estados_uf_pattern)\n",
    "matcher.add(\"ESTADO_NOME\", estados_name_pattern)\n",
    "matcher.add(\"MUNICIPIO_NOME\", municipios_name_pattern)\n",
    "\n",
    "doc = nlp(article.maintext)\n",
    "\n",
    "for match_id, start, end in matcher(doc):\n",
    "    span = doc[start:end]\n",
    "    print(nlp.vocab.strings[match_id], start, end, span.text)"
   ]
  },
  {
   "cell_type": "markdown",
   "metadata": {},
   "source": [
    "Podemos ver todos os estados/munípios encontrados. Como o PhraseMatcher não é um modelo probabilístico, o contexto em que a palavra aparece não influencia no resultado. Assim, Floriano, Floriano Peixoto e Planalto são encontradas, mesmo que no texto original elas não representem localidades."
   ]
  },
  {
   "cell_type": "code",
   "execution_count": 17,
   "metadata": {},
   "outputs": [
    {
     "data": {
      "text/html": [
       "<div>\n",
       "<style scoped>\n",
       "    .dataframe tbody tr th:only-of-type {\n",
       "        vertical-align: middle;\n",
       "    }\n",
       "\n",
       "    .dataframe tbody tr th {\n",
       "        vertical-align: top;\n",
       "    }\n",
       "\n",
       "    .dataframe thead th {\n",
       "        text-align: right;\n",
       "    }\n",
       "</style>\n",
       "<table border=\"1\" class=\"dataframe\">\n",
       "  <thead>\n",
       "    <tr style=\"text-align: right;\">\n",
       "      <th></th>\n",
       "      <th>codigo_uf</th>\n",
       "      <th>uf</th>\n",
       "      <th>nome_x</th>\n",
       "      <th>latitude_x</th>\n",
       "      <th>longitude_x</th>\n",
       "      <th>codigo_ibge</th>\n",
       "      <th>nome_y</th>\n",
       "      <th>latitude_y</th>\n",
       "      <th>longitude_y</th>\n",
       "      <th>capital</th>\n",
       "    </tr>\n",
       "  </thead>\n",
       "  <tbody>\n",
       "    <tr>\n",
       "      <th>0</th>\n",
       "      <td>29</td>\n",
       "      <td>BA</td>\n",
       "      <td>Bahia</td>\n",
       "      <td>-13.29</td>\n",
       "      <td>-41.71</td>\n",
       "      <td>2925006</td>\n",
       "      <td>Planalto</td>\n",
       "      <td>-14.6654</td>\n",
       "      <td>-40.4718</td>\n",
       "      <td>0</td>\n",
       "    </tr>\n",
       "    <tr>\n",
       "      <th>1</th>\n",
       "      <td>35</td>\n",
       "      <td>SP</td>\n",
       "      <td>São Paulo</td>\n",
       "      <td>-22.19</td>\n",
       "      <td>-48.79</td>\n",
       "      <td>3539608</td>\n",
       "      <td>Planalto</td>\n",
       "      <td>-21.0342</td>\n",
       "      <td>-49.9330</td>\n",
       "      <td>0</td>\n",
       "    </tr>\n",
       "    <tr>\n",
       "      <th>2</th>\n",
       "      <td>41</td>\n",
       "      <td>PR</td>\n",
       "      <td>Paraná</td>\n",
       "      <td>-24.89</td>\n",
       "      <td>-51.55</td>\n",
       "      <td>4119806</td>\n",
       "      <td>Planalto</td>\n",
       "      <td>-25.7211</td>\n",
       "      <td>-53.7642</td>\n",
       "      <td>0</td>\n",
       "    </tr>\n",
       "    <tr>\n",
       "      <th>3</th>\n",
       "      <td>42</td>\n",
       "      <td>SC</td>\n",
       "      <td>Santa Catarina</td>\n",
       "      <td>-27.45</td>\n",
       "      <td>-50.95</td>\n",
       "      <td>4213153</td>\n",
       "      <td>Planalto Alegre</td>\n",
       "      <td>-27.0704</td>\n",
       "      <td>-52.8670</td>\n",
       "      <td>0</td>\n",
       "    </tr>\n",
       "    <tr>\n",
       "      <th>4</th>\n",
       "      <td>43</td>\n",
       "      <td>RS</td>\n",
       "      <td>Rio Grande do Sul</td>\n",
       "      <td>-30.17</td>\n",
       "      <td>-53.50</td>\n",
       "      <td>4314704</td>\n",
       "      <td>Planalto</td>\n",
       "      <td>-27.3297</td>\n",
       "      <td>-53.0575</td>\n",
       "      <td>0</td>\n",
       "    </tr>\n",
       "    <tr>\n",
       "      <th>5</th>\n",
       "      <td>43</td>\n",
       "      <td>RS</td>\n",
       "      <td>Rio Grande do Sul</td>\n",
       "      <td>-30.17</td>\n",
       "      <td>-53.50</td>\n",
       "      <td>4317756</td>\n",
       "      <td>Santo Antônio do Planalto</td>\n",
       "      <td>-28.4030</td>\n",
       "      <td>-52.6992</td>\n",
       "      <td>0</td>\n",
       "    </tr>\n",
       "    <tr>\n",
       "      <th>6</th>\n",
       "      <td>51</td>\n",
       "      <td>MT</td>\n",
       "      <td>Mato Grosso</td>\n",
       "      <td>-12.64</td>\n",
       "      <td>-55.42</td>\n",
       "      <td>5106455</td>\n",
       "      <td>Planalto da Serra</td>\n",
       "      <td>-14.6518</td>\n",
       "      <td>-54.7819</td>\n",
       "      <td>0</td>\n",
       "    </tr>\n",
       "    <tr>\n",
       "      <th>7</th>\n",
       "      <td>52</td>\n",
       "      <td>GO</td>\n",
       "      <td>Goiás</td>\n",
       "      <td>-15.98</td>\n",
       "      <td>-49.86</td>\n",
       "      <td>5215256</td>\n",
       "      <td>Novo Planalto</td>\n",
       "      <td>-13.2424</td>\n",
       "      <td>-49.5060</td>\n",
       "      <td>0</td>\n",
       "    </tr>\n",
       "  </tbody>\n",
       "</table>\n",
       "</div>"
      ],
      "text/plain": [
       "   codigo_uf  uf             nome_x  latitude_x  longitude_x  codigo_ibge  \\\n",
       "0         29  BA              Bahia      -13.29       -41.71      2925006   \n",
       "1         35  SP          São Paulo      -22.19       -48.79      3539608   \n",
       "2         41  PR             Paraná      -24.89       -51.55      4119806   \n",
       "3         42  SC     Santa Catarina      -27.45       -50.95      4213153   \n",
       "4         43  RS  Rio Grande do Sul      -30.17       -53.50      4314704   \n",
       "5         43  RS  Rio Grande do Sul      -30.17       -53.50      4317756   \n",
       "6         51  MT        Mato Grosso      -12.64       -55.42      5106455   \n",
       "7         52  GO              Goiás      -15.98       -49.86      5215256   \n",
       "\n",
       "                      nome_y  latitude_y  longitude_y  capital  \n",
       "0                   Planalto    -14.6654     -40.4718        0  \n",
       "1                   Planalto    -21.0342     -49.9330        0  \n",
       "2                   Planalto    -25.7211     -53.7642        0  \n",
       "3            Planalto Alegre    -27.0704     -52.8670        0  \n",
       "4                   Planalto    -27.3297     -53.0575        0  \n",
       "5  Santo Antônio do Planalto    -28.4030     -52.6992        0  \n",
       "6          Planalto da Serra    -14.6518     -54.7819        0  \n",
       "7              Novo Planalto    -13.2424     -49.5060        0  "
      ]
     },
     "execution_count": 17,
     "metadata": {},
     "output_type": "execute_result"
    }
   ],
   "source": [
    "pd.merge(\n",
    "    estados,\n",
    "    municipios[municipios.nome.str.contains('Planalto')],\n",
    "    on='codigo_uf'\n",
    ")"
   ]
  },
  {
   "cell_type": "code",
   "execution_count": 16,
   "metadata": {},
   "outputs": [
    {
     "data": {
      "text/html": [
       "<div>\n",
       "<style scoped>\n",
       "    .dataframe tbody tr th:only-of-type {\n",
       "        vertical-align: middle;\n",
       "    }\n",
       "\n",
       "    .dataframe tbody tr th {\n",
       "        vertical-align: top;\n",
       "    }\n",
       "\n",
       "    .dataframe thead th {\n",
       "        text-align: right;\n",
       "    }\n",
       "</style>\n",
       "<table border=\"1\" class=\"dataframe\">\n",
       "  <thead>\n",
       "    <tr style=\"text-align: right;\">\n",
       "      <th></th>\n",
       "      <th>codigo_uf</th>\n",
       "      <th>uf</th>\n",
       "      <th>nome_x</th>\n",
       "      <th>latitude_x</th>\n",
       "      <th>longitude_x</th>\n",
       "      <th>codigo_ibge</th>\n",
       "      <th>nome_y</th>\n",
       "      <th>latitude_y</th>\n",
       "      <th>longitude_y</th>\n",
       "      <th>capital</th>\n",
       "    </tr>\n",
       "  </thead>\n",
       "  <tbody>\n",
       "    <tr>\n",
       "      <th>0</th>\n",
       "      <td>22</td>\n",
       "      <td>PI</td>\n",
       "      <td>Piauí</td>\n",
       "      <td>-6.60</td>\n",
       "      <td>-42.28</td>\n",
       "      <td>2203909</td>\n",
       "      <td>Floriano</td>\n",
       "      <td>-6.77182</td>\n",
       "      <td>-43.0241</td>\n",
       "      <td>0</td>\n",
       "    </tr>\n",
       "    <tr>\n",
       "      <th>1</th>\n",
       "      <td>32</td>\n",
       "      <td>ES</td>\n",
       "      <td>Espírito Santo</td>\n",
       "      <td>-19.19</td>\n",
       "      <td>-40.34</td>\n",
       "      <td>3203346</td>\n",
       "      <td>Marechal Floriano</td>\n",
       "      <td>-20.41590</td>\n",
       "      <td>-40.6700</td>\n",
       "      <td>0</td>\n",
       "    </tr>\n",
       "    <tr>\n",
       "      <th>2</th>\n",
       "      <td>43</td>\n",
       "      <td>RS</td>\n",
       "      <td>Rio Grande do Sul</td>\n",
       "      <td>-30.17</td>\n",
       "      <td>-53.50</td>\n",
       "      <td>4308250</td>\n",
       "      <td>Floriano Peixoto</td>\n",
       "      <td>-27.86140</td>\n",
       "      <td>-52.0838</td>\n",
       "      <td>0</td>\n",
       "    </tr>\n",
       "  </tbody>\n",
       "</table>\n",
       "</div>"
      ],
      "text/plain": [
       "   codigo_uf  uf             nome_x  latitude_x  longitude_x  codigo_ibge  \\\n",
       "0         22  PI              Piauí       -6.60       -42.28      2203909   \n",
       "1         32  ES     Espírito Santo      -19.19       -40.34      3203346   \n",
       "2         43  RS  Rio Grande do Sul      -30.17       -53.50      4308250   \n",
       "\n",
       "              nome_y  latitude_y  longitude_y  capital  \n",
       "0           Floriano    -6.77182     -43.0241        0  \n",
       "1  Marechal Floriano   -20.41590     -40.6700        0  \n",
       "2   Floriano Peixoto   -27.86140     -52.0838        0  "
      ]
     },
     "execution_count": 16,
     "metadata": {},
     "output_type": "execute_result"
    }
   ],
   "source": [
    "pd.merge(\n",
    "    estados,\n",
    "    municipios[municipios.nome.str.contains('Floriano')],\n",
    "    on='codigo_uf'\n",
    ")"
   ]
  },
  {
   "cell_type": "markdown",
   "metadata": {},
   "source": [
    "#### Matcher\n",
    "\n",
    "O Matcher é uma classe que oferece funcionalidades mais genéricas. Abaixo podemos ver todas as ocorrências para cada um dos padrões montados."
   ]
  },
  {
   "cell_type": "code",
   "execution_count": 8,
   "metadata": {
    "scrolled": true
   },
   "outputs": [
    {
     "name": "stdout",
     "output_type": "stream",
     "text": [
      "FIAM\n",
      "Fundação\n",
      "Fundação Cásper\n",
      "Cásper\n",
      "Fundação Cásper Líbero\n",
      "Cásper Líbero\n",
      "Líbero\n",
      "MBA\n",
      "Agência\n",
      "Agência Estado\n",
      "Estado\n",
      "Broadcast\n",
      "São\n",
      "São Paulo\n",
      "Paulo\n",
      "Brasília\n",
      "Dilma\n",
      "Dilma Rousseff\n",
      "Rousseff\n",
      "Valor\n",
      "Valor Econômico\n",
      "Econômico\n",
      "Palácio\n",
      "Michel\n",
      "Michel Temer\n",
      "Temer\n",
      "Jair\n",
      "Jair Bolsonaro\n",
      "Bolsonaro\n",
      "Tribunal\n",
      "Tribunal Superior\n",
      "Superior\n",
      "Superior do Trabalho\n",
      "Trabalho\n",
      "Comunicações\n",
      "Fabio\n",
      "Fabio Faria\n",
      "Faria\n",
      "Floriano\n",
      "Floriano Peixoto\n",
      "Peixoto\n",
      "Kátia\n",
      "Kátia Arruda\n",
      "Arruda\n",
      "Ives\n",
      "Ives Gandra\n",
      "Gandra\n",
      "Ives Gandra Filho\n",
      "Gandra Filho\n",
      "Filho\n",
      "Jair\n",
      "Jair Bolsonaro\n",
      "Bolsonaro\n",
      "Ives\n",
      "Ives Gandra\n",
      "Gandra\n",
      "estatal\n",
      "CLT\n",
      "CLT\n",
      "CLT\n",
      "Kátia\n",
      "Kátia Arruda\n",
      "Arruda\n",
      "Justiça\n",
      "Justiça do Trabalho\n",
      "Trabalho\n",
      "Justiça\n",
      "Justiça do Trabalho\n",
      "Trabalho\n",
      "estatal\n",
      "Floriano\n",
      "Floriano Peixoto\n",
      "Peixoto\n",
      "Floriano\n",
      "Floriano\n",
      "Brasil\n"
     ]
    }
   ],
   "source": [
    "from spacy.matcher import Matcher\n",
    "\n",
    "matcher = Matcher(nlp.vocab)\n",
    "\n",
    "matcher.add(\"Unigrama Proprio\", [[{'POS': 'PROPN'}]])\n",
    "matcher.add(\"Bigrama Proprio\", [[{'POS': 'PROPN'}, {'POS': 'PROPN'}]])\n",
    "matcher.add(\"Trigrama Proprio\", [[{'POS': 'PROPN'}, {'POS': 'PROPN'}, {'POS': 'PROPN'}]])\n",
    "matcher.add(\"Trigrama Proprio - Variacao\", [[{'POS': 'PROPN'}, {'POS': 'DET'}, {'POS': 'PROPN'}]])\n",
    "\n",
    "doc = nlp(article.maintext)\n",
    "\n",
    "for match_id, start, end in matcher(doc):\n",
    "    span = doc[start:end]\n",
    "    print(span.text)"
   ]
  },
  {
   "cell_type": "markdown",
   "metadata": {},
   "source": [
    "Acima usamos apenas o uso atributo POS, ver todas possibildades de uso em: https://spacy.io/usage/rule-based-matching#adding-patterns-attributes\n",
    "\n",
    "Um outro elemento do Matcher é o `op`, que determina o número de ocorrências para cada padrão. Dessa forma, todos os padrões acima, podemos ser resumidos em um só padrão, como o abaixo."
   ]
  },
  {
   "cell_type": "code",
   "execution_count": 9,
   "metadata": {
    "scrolled": true
   },
   "outputs": [
    {
     "name": "stdout",
     "output_type": "stream",
     "text": [
      "10 12 Fundação Cásper\n",
      "10 13 Fundação Cásper Líbero\n",
      "11 13 Cásper Líbero\n",
      "31 33 Agência Estado\n",
      "44 46 São Paulo\n",
      "64 66 Dilma Rousseff\n",
      "68 70 Valor Econômico\n",
      "82 84 Michel Temer\n",
      "88 90 Jair Bolsonaro\n",
      "95 97 Tribunal Superior\n",
      "96 99 Superior do Trabalho\n",
      "95 99 Tribunal Superior do Trabalho\n",
      "278 280 Fabio Faria\n",
      "288 290 Floriano Peixoto\n",
      "347 349 Kátia Arruda\n",
      "371 373 Ives Gandra\n",
      "371 374 Ives Gandra Filho\n",
      "372 374 Gandra Filho\n",
      "382 384 Jair Bolsonaro\n",
      "464 466 Ives Gandra\n",
      "665 667 Kátia Arruda\n",
      "679 682 Justiça do Trabalho\n",
      "756 759 Justiça do Trabalho\n",
      "788 790 Floriano Peixoto\n"
     ]
    }
   ],
   "source": [
    "matcher = Matcher(nlp.vocab)\n",
    "\n",
    "matcher.add(\"Entidade Matcher\", [[\n",
    "    {'POS': 'PROPN', 'op': '+'}, \n",
    "    {'POS': 'DET', 'op': '?'}, \n",
    "    {'POS': 'PROPN', 'op': '?'},\n",
    "    {'POS': 'DET', 'op': '?'}, \n",
    "    {'POS': 'PROPN', 'op': '?'},\n",
    "    {'POS': 'DET', 'op': '?'}, \n",
    "    {'POS': 'PROPN', 'op': '+'}\n",
    "]])\n",
    "\n",
    "doc = nlp(article.maintext)\n",
    "\n",
    "for match_id, start, end in matcher(doc):\n",
    "    span = doc[start:end]\n",
    "    print(start, end, span.text)"
   ]
  },
  {
   "cell_type": "markdown",
   "metadata": {},
   "source": [
    "Outra possibilidade de atributo é o SHAPE, que pode ser utilizado para recuperar os números de 4 dígitos, por exemplo."
   ]
  },
  {
   "cell_type": "code",
   "execution_count": 10,
   "metadata": {},
   "outputs": [
    {
     "name": "stdout",
     "output_type": "stream",
     "text": [
      "2003\n",
      "2015\n"
     ]
    }
   ],
   "source": [
    "matcher = Matcher(nlp.vocab)\n",
    "\n",
    "matcher.add(\"Ano Matcher\", [[\n",
    "    {'SHAPE': 'dddd'}, \n",
    "]])\n",
    "\n",
    "doc = nlp(article.maintext)\n",
    "\n",
    "for match_id, start, end in matcher(doc):\n",
    "    span = doc[start:end]\n",
    "    print(span.text)"
   ]
  },
  {
   "cell_type": "markdown",
   "metadata": {},
   "source": [
    "O Matcher espera uma função de callback, que serve para modificar os atributos do documento. Um possível uso para ela é modificar as entidades encontradas no documento com novos padrões, como no exemplo abaixo."
   ]
  },
  {
   "cell_type": "code",
   "execution_count": 11,
   "metadata": {},
   "outputs": [
    {
     "name": "stdout",
     "output_type": "stream",
     "text": [
      "(2003, FIAM, Fundação Cásper Líbero, MBA, Agência Estado, Broadcast, São Paulo, Brasília, 2015, Estado, Dilma Rousseff, Valor Econômico, Palácio do Planalto, Michel Temer, Jair Bolsonaro, Presidência, Tribunal Superior do Trabalho, Correios, Corte, Comunicações, Fabio Faria, Correios, Floriano Peixoto, Kátia Arruda, Ives Gandra Filho, Jair Bolsonaro, Corte, Correios, Ives Gandra, CLT, CLT, Correios, CLT, Kátia Arruda, Correios, Justiça do Trabalho, Justiça do Trabalho, Correios, Floriano Peixoto, Floriano, Floriano, Brasil, Correios)\n"
     ]
    }
   ],
   "source": [
    "from spacy.tokens import Span\n",
    "\n",
    "def on_match(matcher, doc, i, matches):\n",
    "    match_id, start, end = matches[i]\n",
    "    entity = Span(doc, start, end, label=\"ANO\")\n",
    "    doc.ents += (entity,)\n",
    "\n",
    "matcher = Matcher(nlp.vocab)\n",
    "\n",
    "matcher.add(\"Ano Matcher\", on_match, [\n",
    "    {'SHAPE': 'dddd'}, \n",
    "])\n",
    "\n",
    "doc = nlp(article.maintext)\n",
    "\n",
    "for match_id, start, end in matcher(doc):\n",
    "    span = doc[start:end]\n",
    "\n",
    "print (doc.ents)"
   ]
  },
  {
   "cell_type": "markdown",
   "metadata": {},
   "source": [
    "### Named Entity Recognition (NER)\n",
    "\n",
    "Apesar das classes acima identificarem certos padrões no texto, o contexto em que eles aparecem não é levado em consideração. Por esse motivo, vemos algumas falhas, como a identificação de palavras que não deveriam ter sido identificadas em primeiro lugar (como os nomes de munícipio no exemplo acima neste caderno).\n",
    "\n",
    "O Spacy conta com um modelo de identificação de entidades que pode funcionar melhor em muitos casos. A seguir vamos explorar seu funcionamento.\n",
    "\n",
    "Por padrão, o pipeline de processo feito pelo Spacy a partir do uso do objeto `nlp` faz a identificação de entidades, divididas em LOC, ORG, PER e MISC. Abaixo ainda utilizamos o nosso `matcher` para modificar as entidades do documento e adicionar todos os números de 4 dígitos à entidade ANO."
   ]
  },
  {
   "cell_type": "code",
   "execution_count": 12,
   "metadata": {},
   "outputs": [],
   "source": [
    "doc = nlp(article.maintext)\n",
    "matcher(doc);"
   ]
  },
  {
   "cell_type": "code",
   "execution_count": 13,
   "metadata": {},
   "outputs": [
    {
     "data": {
      "text/html": [
       "<span class=\"tex2jax_ignore\"><div class=\"entities\" style=\"line-height: 2.5; direction: ltr\">Jornalista formada em \n",
       "<mark class=\"entity\" style=\"background: #ddd; padding: 0.45em 0.6em; margin: 0 0.25em; line-height: 1; border-radius: 0.35em;\">\n",
       "    2003\n",
       "    <span style=\"font-size: 0.8em; font-weight: bold; line-height: 1; border-radius: 0.35em; text-transform: uppercase; vertical-align: middle; margin-left: 0.5rem\">ANO</span>\n",
       "</mark>\n",
       " pela \n",
       "<mark class=\"entity\" style=\"background: #7aecec; padding: 0.45em 0.6em; margin: 0 0.25em; line-height: 1; border-radius: 0.35em;\">\n",
       "    FIAM\n",
       "    <span style=\"font-size: 0.8em; font-weight: bold; line-height: 1; border-radius: 0.35em; text-transform: uppercase; vertical-align: middle; margin-left: 0.5rem\">ORG</span>\n",
       "</mark>\n",
       ", com pós-graduação na \n",
       "<mark class=\"entity\" style=\"background: #7aecec; padding: 0.45em 0.6em; margin: 0 0.25em; line-height: 1; border-radius: 0.35em;\">\n",
       "    Fundação Cásper Líbero\n",
       "    <span style=\"font-size: 0.8em; font-weight: bold; line-height: 1; border-radius: 0.35em; text-transform: uppercase; vertical-align: middle; margin-left: 0.5rem\">ORG</span>\n",
       "</mark>\n",
       " e \n",
       "<mark class=\"entity\" style=\"background: #ddd; padding: 0.45em 0.6em; margin: 0 0.25em; line-height: 1; border-radius: 0.35em;\">\n",
       "    MBA\n",
       "    <span style=\"font-size: 0.8em; font-weight: bold; line-height: 1; border-radius: 0.35em; text-transform: uppercase; vertical-align: middle; margin-left: 0.5rem\">MISC</span>\n",
       "</mark>\n",
       " em finanças, começou a carreira repórter de agronegócio e colaborou com revistas segmentadas. Na \n",
       "<mark class=\"entity\" style=\"background: #7aecec; padding: 0.45em 0.6em; margin: 0 0.25em; line-height: 1; border-radius: 0.35em;\">\n",
       "    Agência Estado\n",
       "    <span style=\"font-size: 0.8em; font-weight: bold; line-height: 1; border-radius: 0.35em; text-transform: uppercase; vertical-align: middle; margin-left: 0.5rem\">ORG</span>\n",
       "</mark>\n",
       "/\n",
       "<mark class=\"entity\" style=\"background: #7aecec; padding: 0.45em 0.6em; margin: 0 0.25em; line-height: 1; border-radius: 0.35em;\">\n",
       "    Broadcast\n",
       "    <span style=\"font-size: 0.8em; font-weight: bold; line-height: 1; border-radius: 0.35em; text-transform: uppercase; vertical-align: middle; margin-left: 0.5rem\">ORG</span>\n",
       "</mark>\n",
       " foi repórter de tempo real por dez anos em \n",
       "<mark class=\"entity\" style=\"background: #ff9561; padding: 0.45em 0.6em; margin: 0 0.25em; line-height: 1; border-radius: 0.35em;\">\n",
       "    São Paulo\n",
       "    <span style=\"font-size: 0.8em; font-weight: bold; line-height: 1; border-radius: 0.35em; text-transform: uppercase; vertical-align: middle; margin-left: 0.5rem\">LOC</span>\n",
       "</mark>\n",
       " e também em \n",
       "<mark class=\"entity\" style=\"background: #ff9561; padding: 0.45em 0.6em; margin: 0 0.25em; line-height: 1; border-radius: 0.35em;\">\n",
       "    Brasília\n",
       "    <span style=\"font-size: 0.8em; font-weight: bold; line-height: 1; border-radius: 0.35em; text-transform: uppercase; vertical-align: middle; margin-left: 0.5rem\">LOC</span>\n",
       "</mark>\n",
       ", desde \n",
       "<mark class=\"entity\" style=\"background: #ddd; padding: 0.45em 0.6em; margin: 0 0.25em; line-height: 1; border-radius: 0.35em;\">\n",
       "    2015\n",
       "    <span style=\"font-size: 0.8em; font-weight: bold; line-height: 1; border-radius: 0.35em; text-transform: uppercase; vertical-align: middle; margin-left: 0.5rem\">ANO</span>\n",
       "</mark>\n",
       ". Foi pelo grupo \n",
       "<mark class=\"entity\" style=\"background: #ff9561; padding: 0.45em 0.6em; margin: 0 0.25em; line-height: 1; border-radius: 0.35em;\">\n",
       "    Estado\n",
       "    <span style=\"font-size: 0.8em; font-weight: bold; line-height: 1; border-radius: 0.35em; text-transform: uppercase; vertical-align: middle; margin-left: 0.5rem\">LOC</span>\n",
       "</mark>\n",
       " que cobriu o impeachment da presidente \n",
       "<mark class=\"entity\" style=\"background: #ddd; padding: 0.45em 0.6em; margin: 0 0.25em; line-height: 1; border-radius: 0.35em;\">\n",
       "    Dilma Rousseff\n",
       "    <span style=\"font-size: 0.8em; font-weight: bold; line-height: 1; border-radius: 0.35em; text-transform: uppercase; vertical-align: middle; margin-left: 0.5rem\">PER</span>\n",
       "</mark>\n",
       ". No \n",
       "<mark class=\"entity\" style=\"background: #7aecec; padding: 0.45em 0.6em; margin: 0 0.25em; line-height: 1; border-radius: 0.35em;\">\n",
       "    Valor Econômico\n",
       "    <span style=\"font-size: 0.8em; font-weight: bold; line-height: 1; border-radius: 0.35em; text-transform: uppercase; vertical-align: middle; margin-left: 0.5rem\">ORG</span>\n",
       "</mark>\n",
       ", acompanhou como setorista do \n",
       "<mark class=\"entity\" style=\"background: #ff9561; padding: 0.45em 0.6em; margin: 0 0.25em; line-height: 1; border-radius: 0.35em;\">\n",
       "    Palácio do Planalto\n",
       "    <span style=\"font-size: 0.8em; font-weight: bold; line-height: 1; border-radius: 0.35em; text-transform: uppercase; vertical-align: middle; margin-left: 0.5rem\">LOC</span>\n",
       "</mark>\n",
       " o fim do governo \n",
       "<mark class=\"entity\" style=\"background: #ddd; padding: 0.45em 0.6em; margin: 0 0.25em; line-height: 1; border-radius: 0.35em;\">\n",
       "    Michel Temer\n",
       "    <span style=\"font-size: 0.8em; font-weight: bold; line-height: 1; border-radius: 0.35em; text-transform: uppercase; vertical-align: middle; margin-left: 0.5rem\">PER</span>\n",
       "</mark>\n",
       " e a chegada de \n",
       "<mark class=\"entity\" style=\"background: #ddd; padding: 0.45em 0.6em; margin: 0 0.25em; line-height: 1; border-radius: 0.35em;\">\n",
       "    Jair Bolsonaro\n",
       "    <span style=\"font-size: 0.8em; font-weight: bold; line-height: 1; border-radius: 0.35em; text-transform: uppercase; vertical-align: middle; margin-left: 0.5rem\">PER</span>\n",
       "</mark>\n",
       " à \n",
       "<mark class=\"entity\" style=\"background: #ddd; padding: 0.45em 0.6em; margin: 0 0.25em; line-height: 1; border-radius: 0.35em;\">\n",
       "    Presidência\n",
       "    <span style=\"font-size: 0.8em; font-weight: bold; line-height: 1; border-radius: 0.35em; text-transform: uppercase; vertical-align: middle; margin-left: 0.5rem\">MISC</span>\n",
       "</mark>\n",
       ".</br>O \n",
       "<mark class=\"entity\" style=\"background: #7aecec; padding: 0.45em 0.6em; margin: 0 0.25em; line-height: 1; border-radius: 0.35em;\">\n",
       "    Tribunal Superior do Trabalho\n",
       "    <span style=\"font-size: 0.8em; font-weight: bold; line-height: 1; border-radius: 0.35em; text-transform: uppercase; vertical-align: middle; margin-left: 0.5rem\">ORG</span>\n",
       "</mark>\n",
       " decidiu, em julgamento realizado nesta segunda-feira, encerrar a greve dos funcionários dos \n",
       "<mark class=\"entity\" style=\"background: #7aecec; padding: 0.45em 0.6em; margin: 0 0.25em; line-height: 1; border-radius: 0.35em;\">\n",
       "    Correios\n",
       "    <span style=\"font-size: 0.8em; font-weight: bold; line-height: 1; border-radius: 0.35em; text-transform: uppercase; vertical-align: middle; margin-left: 0.5rem\">ORG</span>\n",
       "</mark>\n",
       ", que acontece desde 17 de agosto. De acordo com a decisão, os empregados devem voltar ao trabalho amanhã, sob pena de multa de R$ 100 mil por dia.</br>A empresa comemorou a decisão. Já o sindicato rejeitou o acordo e recomendou que os funcionários mantenham a greve. Devem ser feitas assembleias hoje e amanhã para votação.</br>A decisão de hoje representou também uma derrota parcial à estatal, já que ficou mantida a cláusula que prevê a correção monetária de 2,6% dos salários. Os trabalhadores, no entanto, pediam uma reposição salarial de 5%.</br>A \n",
       "<mark class=\"entity\" style=\"background: #ff9561; padding: 0.45em 0.6em; margin: 0 0.25em; line-height: 1; border-radius: 0.35em;\">\n",
       "    Corte\n",
       "    <span style=\"font-size: 0.8em; font-weight: bold; line-height: 1; border-radius: 0.35em; text-transform: uppercase; vertical-align: middle; margin-left: 0.5rem\">LOC</span>\n",
       "</mark>\n",
       " considerou que o movimento grevista não foi abusivo. Por outro lado, os ministros decidiram seguir a jurisprudência trabalhista e haverá um desconto salarial referente à metade dos dias de greve; nos demais dias, haverá compensação.</br>O fim da greve era defendido pelo ministro das \n",
       "<mark class=\"entity\" style=\"background: #ff9561; padding: 0.45em 0.6em; margin: 0 0.25em; line-height: 1; border-radius: 0.35em;\">\n",
       "    Comunicações\n",
       "    <span style=\"font-size: 0.8em; font-weight: bold; line-height: 1; border-radius: 0.35em; text-transform: uppercase; vertical-align: middle; margin-left: 0.5rem\">LOC</span>\n",
       "</mark>\n",
       ", \n",
       "<mark class=\"entity\" style=\"background: #ddd; padding: 0.45em 0.6em; margin: 0 0.25em; line-height: 1; border-radius: 0.35em;\">\n",
       "    Fabio Faria\n",
       "    <span style=\"font-size: 0.8em; font-weight: bold; line-height: 1; border-radius: 0.35em; text-transform: uppercase; vertical-align: middle; margin-left: 0.5rem\">PER</span>\n",
       "</mark>\n",
       ", e pelo presidente dos \n",
       "<mark class=\"entity\" style=\"background: #7aecec; padding: 0.45em 0.6em; margin: 0 0.25em; line-height: 1; border-radius: 0.35em;\">\n",
       "    Correios\n",
       "    <span style=\"font-size: 0.8em; font-weight: bold; line-height: 1; border-radius: 0.35em; text-transform: uppercase; vertical-align: middle; margin-left: 0.5rem\">ORG</span>\n",
       "</mark>\n",
       ", general \n",
       "<mark class=\"entity\" style=\"background: #ddd; padding: 0.45em 0.6em; margin: 0 0.25em; line-height: 1; border-radius: 0.35em;\">\n",
       "    Floriano Peixoto\n",
       "    <span style=\"font-size: 0.8em; font-weight: bold; line-height: 1; border-radius: 0.35em; text-transform: uppercase; vertical-align: middle; margin-left: 0.5rem\">PER</span>\n",
       "</mark>\n",
       ". Ambos afirmaram que a retirada dos benefícios era necessária para manter a sustentabilidade da empresa.</br>Cláusulas sociais mantidas</br>O principal imbróglio do julgamento foi em relação à manutenção dos benefícios dos trabalhadores. A estatal pretendia retirar mais de 70 itens concedidos historicamente aos funcionários.</br>A relatora do caso, ministra \n",
       "<mark class=\"entity\" style=\"background: #ddd; padding: 0.45em 0.6em; margin: 0 0.25em; line-height: 1; border-radius: 0.35em;\">\n",
       "    Kátia Arruda\n",
       "    <span style=\"font-size: 0.8em; font-weight: bold; line-height: 1; border-radius: 0.35em; text-transform: uppercase; vertical-align: middle; margin-left: 0.5rem\">PER</span>\n",
       "</mark>\n",
       ", votou para que todos os benefícios fossem mantidos, mas acabou parcialmente vencida. Prevaleceu a tese divergente apresentada pelo ministro \n",
       "<mark class=\"entity\" style=\"background: #ddd; padding: 0.45em 0.6em; margin: 0 0.25em; line-height: 1; border-radius: 0.35em;\">\n",
       "    Ives Gandra Filho\n",
       "    <span style=\"font-size: 0.8em; font-weight: bold; line-height: 1; border-radius: 0.35em; text-transform: uppercase; vertical-align: middle; margin-left: 0.5rem\">PER</span>\n",
       "</mark>\n",
       ", que conta com a simpatia do presidente \n",
       "<mark class=\"entity\" style=\"background: #ddd; padding: 0.45em 0.6em; margin: 0 0.25em; line-height: 1; border-radius: 0.35em;\">\n",
       "    Jair Bolsonaro\n",
       "    <span style=\"font-size: 0.8em; font-weight: bold; line-height: 1; border-radius: 0.35em; text-transform: uppercase; vertical-align: middle; margin-left: 0.5rem\">PER</span>\n",
       "</mark>\n",
       ".</br>Em um voto com mais de 100 páginas, a ministra destacou que, em seus anos de \n",
       "<mark class=\"entity\" style=\"background: #ff9561; padding: 0.45em 0.6em; margin: 0 0.25em; line-height: 1; border-radius: 0.35em;\">\n",
       "    Corte\n",
       "    <span style=\"font-size: 0.8em; font-weight: bold; line-height: 1; border-radius: 0.35em; text-transform: uppercase; vertical-align: middle; margin-left: 0.5rem\">LOC</span>\n",
       "</mark>\n",
       " trabalhista, essa foi a primeira vez que viu uma empresa propor a retirada de todas as cláusulas e direitos.</br>A ministra disse, ainda, que apesar de os \n",
       "<mark class=\"entity\" style=\"background: #7aecec; padding: 0.45em 0.6em; margin: 0 0.25em; line-height: 1; border-radius: 0.35em;\">\n",
       "    Correios\n",
       "    <span style=\"font-size: 0.8em; font-weight: bold; line-height: 1; border-radius: 0.35em; text-transform: uppercase; vertical-align: middle; margin-left: 0.5rem\">ORG</span>\n",
       "</mark>\n",
       " alegarem problemas econômicos com a manutenção dos direitos, há informações da própria estatal que mostram que houve aumento da procura durante a pandemia.</br>\n",
       "<mark class=\"entity\" style=\"background: #ddd; padding: 0.45em 0.6em; margin: 0 0.25em; line-height: 1; border-radius: 0.35em;\">\n",
       "    Ives Gandra\n",
       "    <span style=\"font-size: 0.8em; font-weight: bold; line-height: 1; border-radius: 0.35em; text-transform: uppercase; vertical-align: middle; margin-left: 0.5rem\">PER</span>\n",
       "</mark>\n",
       ", ao apresentar a divergência, propôs que fossem mantidas nove cláusulas, que a empresa já havia aceitado, e mais 20 cláusulas que tratam de benefícios sociais, que não representam impacto financeiro para a estatal.</br>Houve uma alteração no texto da cláusula que trata do plano de saúde e vale alimentação. A relatora defendeu mudar o verbo de que a empresa &quot;pode&quot; oferecer o benefício para que a estatal &quot;deve&quot; garanti-lo.</br>Adicional de férias e licença-maternidade como de \n",
       "<mark class=\"entity\" style=\"background: #ddd; padding: 0.45em 0.6em; margin: 0 0.25em; line-height: 1; border-radius: 0.35em;\">\n",
       "    CLT\n",
       "    <span style=\"font-size: 0.8em; font-weight: bold; line-height: 1; border-radius: 0.35em; text-transform: uppercase; vertical-align: middle; margin-left: 0.5rem\">MISC</span>\n",
       "</mark>\n",
       "</br>Entre os benefícios que serão alterados está a remuneração das férias. Atualmente, os funcionários recebem 2/3 de adicional ao salário. A \n",
       "<mark class=\"entity\" style=\"background: #ddd; padding: 0.45em 0.6em; margin: 0 0.25em; line-height: 1; border-radius: 0.35em;\">\n",
       "    CLT\n",
       "    <span style=\"font-size: 0.8em; font-weight: bold; line-height: 1; border-radius: 0.35em; text-transform: uppercase; vertical-align: middle; margin-left: 0.5rem\">MISC</span>\n",
       "</mark>\n",
       " garante ao trabalhador 1/3 de incentivo no período de descanso. Segundo os \n",
       "<mark class=\"entity\" style=\"background: #ddd; padding: 0.45em 0.6em; margin: 0 0.25em; line-height: 1; border-radius: 0.35em;\">\n",
       "    Correios\n",
       "    <span style=\"font-size: 0.8em; font-weight: bold; line-height: 1; border-radius: 0.35em; text-transform: uppercase; vertical-align: middle; margin-left: 0.5rem\">MISC</span>\n",
       "</mark>\n",
       ", a economia prevista com a revisão será de mais de R$ 600 milhões ao ano.</br>A licença-maternidade também vai mudar. Atualmente, a licença é de 180 dias, e a proposta com a retirada da cláusula é passar para 120 dias, como trabalhadores do regime \n",
       "<mark class=\"entity\" style=\"background: #ddd; padding: 0.45em 0.6em; margin: 0 0.25em; line-height: 1; border-radius: 0.35em;\">\n",
       "    CLT\n",
       "    <span style=\"font-size: 0.8em; font-weight: bold; line-height: 1; border-radius: 0.35em; text-transform: uppercase; vertical-align: middle; margin-left: 0.5rem\">MISC</span>\n",
       "</mark>\n",
       ".</br>Empresa não quis negociar, diz relatora</br>Em seu voto, a ministra \n",
       "<mark class=\"entity\" style=\"background: #ddd; padding: 0.45em 0.6em; margin: 0 0.25em; line-height: 1; border-radius: 0.35em;\">\n",
       "    Kátia Arruda\n",
       "    <span style=\"font-size: 0.8em; font-weight: bold; line-height: 1; border-radius: 0.35em; text-transform: uppercase; vertical-align: middle; margin-left: 0.5rem\">PER</span>\n",
       "</mark>\n",
       " destacou a intransigência dos \n",
       "<mark class=\"entity\" style=\"background: #7aecec; padding: 0.45em 0.6em; margin: 0 0.25em; line-height: 1; border-radius: 0.35em;\">\n",
       "    Correios\n",
       "    <span style=\"font-size: 0.8em; font-weight: bold; line-height: 1; border-radius: 0.35em; text-transform: uppercase; vertical-align: middle; margin-left: 0.5rem\">ORG</span>\n",
       "</mark>\n",
       " em aceitar os acordos anteriormente propostos pela \n",
       "<mark class=\"entity\" style=\"background: #7aecec; padding: 0.45em 0.6em; margin: 0 0.25em; line-height: 1; border-radius: 0.35em;\">\n",
       "    Justiça do Trabalho\n",
       "    <span style=\"font-size: 0.8em; font-weight: bold; line-height: 1; border-radius: 0.35em; text-transform: uppercase; vertical-align: middle; margin-left: 0.5rem\">ORG</span>\n",
       "</mark>\n",
       ".</br>&quot;Não houve uma negociação coletiva, já que a postura da empresa desde o início, incluindo nas esferas extrajudiciais, foi de absoluta resistência&quot;, declarou. No último dia 11, a magistrada propôs um acordo. Os funcionários sinalizaram disposição em negociar, mas a estatal não.</br>&quot;Houve uma patente conduta negativista para negociar por parte da empresa, eu com 30 anos na \n",
       "<mark class=\"entity\" style=\"background: #7aecec; padding: 0.45em 0.6em; margin: 0 0.25em; line-height: 1; border-radius: 0.35em;\">\n",
       "    Justiça do Trabalho\n",
       "    <span style=\"font-size: 0.8em; font-weight: bold; line-height: 1; border-radius: 0.35em; text-transform: uppercase; vertical-align: middle; margin-left: 0.5rem\">ORG</span>\n",
       "</mark>\n",
       " jamais tinha vivenciado uma conduta assim&quot;, afirmou.</br>Justificativa da estatal</br>Em entrevista à coluna na semana passada, o presidente dos \n",
       "<mark class=\"entity\" style=\"background: #7aecec; padding: 0.45em 0.6em; margin: 0 0.25em; line-height: 1; border-radius: 0.35em;\">\n",
       "    Correios\n",
       "    <span style=\"font-size: 0.8em; font-weight: bold; line-height: 1; border-radius: 0.35em; text-transform: uppercase; vertical-align: middle; margin-left: 0.5rem\">ORG</span>\n",
       "</mark>\n",
       ", general \n",
       "<mark class=\"entity\" style=\"background: #ddd; padding: 0.45em 0.6em; margin: 0 0.25em; line-height: 1; border-radius: 0.35em;\">\n",
       "    Floriano Peixoto\n",
       "    <span style=\"font-size: 0.8em; font-weight: bold; line-height: 1; border-radius: 0.35em; text-transform: uppercase; vertical-align: middle; margin-left: 0.5rem\">PER</span>\n",
       "</mark>\n",
       ", afirmou que a proposta feita pela estatal —de extinção de mais de 70 benefícios— estimava uma economia na ordem de R$ 800 milhões por ano.</br>Questionado se essa economia é necessária, já que a empresa vem registrando lucro nos últimos anos, \n",
       "<mark class=\"entity\" style=\"background: #ddd; padding: 0.45em 0.6em; margin: 0 0.25em; line-height: 1; border-radius: 0.35em;\">\n",
       "    Floriano\n",
       "    <span style=\"font-size: 0.8em; font-weight: bold; line-height: 1; border-radius: 0.35em; text-transform: uppercase; vertical-align: middle; margin-left: 0.5rem\">PER</span>\n",
       "</mark>\n",
       " afirmou que, apesar dos números positivos nos últimos anos, há um passivo de R$ 2,4 bilhões a ser saldado. &quot;Os resultados positivos recentes têm reduzido esse déficit, e a nossa expectativa é a de acelerar esse processo&quot;, disse.</br>\n",
       "<mark class=\"entity\" style=\"background: #ddd; padding: 0.45em 0.6em; margin: 0 0.25em; line-height: 1; border-radius: 0.35em;\">\n",
       "    Floriano\n",
       "    <span style=\"font-size: 0.8em; font-weight: bold; line-height: 1; border-radius: 0.35em; text-transform: uppercase; vertical-align: middle; margin-left: 0.5rem\">PER</span>\n",
       "</mark>\n",
       " destacou, ainda, que os benefícios que a empresa queria extinguir foram concedidos em momentos diferentes do atual, tanto para a empresa como para o \n",
       "<mark class=\"entity\" style=\"background: #ff9561; padding: 0.45em 0.6em; margin: 0 0.25em; line-height: 1; border-radius: 0.35em;\">\n",
       "    Brasil\n",
       "    <span style=\"font-size: 0.8em; font-weight: bold; line-height: 1; border-radius: 0.35em; text-transform: uppercase; vertical-align: middle; margin-left: 0.5rem\">LOC</span>\n",
       "</mark>\n",
       ". &quot;Para os \n",
       "<mark class=\"entity\" style=\"background: #7aecec; padding: 0.45em 0.6em; margin: 0 0.25em; line-height: 1; border-radius: 0.35em;\">\n",
       "    Correios\n",
       "    <span style=\"font-size: 0.8em; font-weight: bold; line-height: 1; border-radius: 0.35em; text-transform: uppercase; vertical-align: middle; margin-left: 0.5rem\">ORG</span>\n",
       "</mark>\n",
       " é inviável, hoje, manter em patamar tão elevado suas despesas com pessoal, pois a transformação do mercado e dos hábitos de consumo da sociedade demanda investimentos que a empresa não tem realizado a contento&quot;, disse.</div></span>"
      ],
      "text/plain": [
       "<IPython.core.display.HTML object>"
      ]
     },
     "metadata": {},
     "output_type": "display_data"
    }
   ],
   "source": [
    "displacy.render(doc, style=\"ent\", jupyter=True, options={'distance': 100})"
   ]
  },
  {
   "cell_type": "markdown",
   "metadata": {},
   "source": [
    "### EntityRuler\n",
    "\n",
    "Uma opção melhor do que usar o callback do Matcher para modificar as entidades de um documento é utilizar a classe EntityRuler. Além de possibilitar encontrar trechos e padrões, ainda resolve um problema comum: entidades que se sobrepõem. Considere o exemplo de `PhraseMatcher` deste caderno, onde Floriano e Floriano Peixoto foram encontradas. Como ambas as palavras representam municípios brasileiros, o Matcher retornou as duas. Mas Floriano Peixoto contém Floriano e portanto elas não podem representar duas entidades. \n",
    "\n",
    "A `EntityRuler` cuida da tarefa de manter apenas a entidades de maior comprimento, além de automaticamente modificar o atributo `ents` do documento."
   ]
  },
  {
   "cell_type": "code",
   "execution_count": 25,
   "metadata": {},
   "outputs": [],
   "source": [
    "nlp_pt = spacy.load(\"pt_core_news_md\")"
   ]
  },
  {
   "cell_type": "code",
   "execution_count": 26,
   "metadata": {},
   "outputs": [
    {
     "data": {
      "text/plain": [
       "['tagger', 'parser', 'ner']"
      ]
     },
     "execution_count": 26,
     "metadata": {},
     "output_type": "execute_result"
    }
   ],
   "source": [
    "nlp_pt.pipe_names"
   ]
  },
  {
   "cell_type": "code",
   "execution_count": 82,
   "metadata": {},
   "outputs": [
    {
     "data": {
      "text/plain": [
       "('entity_ruler', <spacy.pipeline.entityruler.EntityRuler at 0x13c0cde48>)"
      ]
     },
     "execution_count": 82,
     "metadata": {},
     "output_type": "execute_result"
    }
   ],
   "source": [
    "nlp_pt.remove_pipe('entity_ruler')"
   ]
  },
  {
   "cell_type": "code",
   "execution_count": 84,
   "metadata": {},
   "outputs": [],
   "source": [
    "from spacy.pipeline import EntityRuler\n",
    "\n",
    "ruler = EntityRuler(nlp_pt, overwrite_ents=True, validate=True)\n",
    "patterns = [\n",
    "    {\"label\": \"ANO\", \"pattern\": [{\"SHAPE\": \"dddd\"},]},\n",
    "    {\"label\": \"DIN\", \"pattern\": [{\"ORTH\": \"R$\"}, {\"LIKE_NUM\": True}]},\n",
    "    {\"label\": \"DIN\", \"pattern\": [{\"ORTH\": \"R$\"}, {\"LIKE_NUM\": True}, {\"LIKE_NUM\": True}]}\n",
    "]\n",
    "ruler.add_patterns(patterns)\n",
    "nlp_pt.add_pipe(ruler)"
   ]
  },
  {
   "cell_type": "code",
   "execution_count": 85,
   "metadata": {},
   "outputs": [
    {
     "data": {
      "text/plain": [
       "['tagger', 'parser', 'ner', 'entity_ruler']"
      ]
     },
     "execution_count": 85,
     "metadata": {},
     "output_type": "execute_result"
    }
   ],
   "source": [
    "nlp_pt.pipe_names"
   ]
  },
  {
   "cell_type": "code",
   "execution_count": 86,
   "metadata": {
    "scrolled": true
   },
   "outputs": [
    {
     "data": {
      "text/html": [
       "<span class=\"tex2jax_ignore\"><div class=\"entities\" style=\"line-height: 2.5; direction: ltr\">Jornalista formada em \n",
       "<mark class=\"entity\" style=\"background: #ddd; padding: 0.45em 0.6em; margin: 0 0.25em; line-height: 1; border-radius: 0.35em;\">\n",
       "    2003\n",
       "    <span style=\"font-size: 0.8em; font-weight: bold; line-height: 1; border-radius: 0.35em; text-transform: uppercase; vertical-align: middle; margin-left: 0.5rem\">ANO</span>\n",
       "</mark>\n",
       " pela \n",
       "<mark class=\"entity\" style=\"background: #7aecec; padding: 0.45em 0.6em; margin: 0 0.25em; line-height: 1; border-radius: 0.35em;\">\n",
       "    FIAM\n",
       "    <span style=\"font-size: 0.8em; font-weight: bold; line-height: 1; border-radius: 0.35em; text-transform: uppercase; vertical-align: middle; margin-left: 0.5rem\">ORG</span>\n",
       "</mark>\n",
       ", com pós-graduação na \n",
       "<mark class=\"entity\" style=\"background: #7aecec; padding: 0.45em 0.6em; margin: 0 0.25em; line-height: 1; border-radius: 0.35em;\">\n",
       "    Fundação Cásper Líbero\n",
       "    <span style=\"font-size: 0.8em; font-weight: bold; line-height: 1; border-radius: 0.35em; text-transform: uppercase; vertical-align: middle; margin-left: 0.5rem\">ORG</span>\n",
       "</mark>\n",
       " e \n",
       "<mark class=\"entity\" style=\"background: #ddd; padding: 0.45em 0.6em; margin: 0 0.25em; line-height: 1; border-radius: 0.35em;\">\n",
       "    MBA\n",
       "    <span style=\"font-size: 0.8em; font-weight: bold; line-height: 1; border-radius: 0.35em; text-transform: uppercase; vertical-align: middle; margin-left: 0.5rem\">MISC</span>\n",
       "</mark>\n",
       " em finanças, começou a carreira repórter de agronegócio e colaborou com revistas segmentadas. Na \n",
       "<mark class=\"entity\" style=\"background: #7aecec; padding: 0.45em 0.6em; margin: 0 0.25em; line-height: 1; border-radius: 0.35em;\">\n",
       "    Agência Estado\n",
       "    <span style=\"font-size: 0.8em; font-weight: bold; line-height: 1; border-radius: 0.35em; text-transform: uppercase; vertical-align: middle; margin-left: 0.5rem\">ORG</span>\n",
       "</mark>\n",
       "/\n",
       "<mark class=\"entity\" style=\"background: #7aecec; padding: 0.45em 0.6em; margin: 0 0.25em; line-height: 1; border-radius: 0.35em;\">\n",
       "    Broadcast\n",
       "    <span style=\"font-size: 0.8em; font-weight: bold; line-height: 1; border-radius: 0.35em; text-transform: uppercase; vertical-align: middle; margin-left: 0.5rem\">ORG</span>\n",
       "</mark>\n",
       " foi repórter de tempo real por dez anos em \n",
       "<mark class=\"entity\" style=\"background: #ff9561; padding: 0.45em 0.6em; margin: 0 0.25em; line-height: 1; border-radius: 0.35em;\">\n",
       "    São Paulo\n",
       "    <span style=\"font-size: 0.8em; font-weight: bold; line-height: 1; border-radius: 0.35em; text-transform: uppercase; vertical-align: middle; margin-left: 0.5rem\">LOC</span>\n",
       "</mark>\n",
       " e também em \n",
       "<mark class=\"entity\" style=\"background: #ff9561; padding: 0.45em 0.6em; margin: 0 0.25em; line-height: 1; border-radius: 0.35em;\">\n",
       "    Brasília\n",
       "    <span style=\"font-size: 0.8em; font-weight: bold; line-height: 1; border-radius: 0.35em; text-transform: uppercase; vertical-align: middle; margin-left: 0.5rem\">LOC</span>\n",
       "</mark>\n",
       ", desde \n",
       "<mark class=\"entity\" style=\"background: #ddd; padding: 0.45em 0.6em; margin: 0 0.25em; line-height: 1; border-radius: 0.35em;\">\n",
       "    2015\n",
       "    <span style=\"font-size: 0.8em; font-weight: bold; line-height: 1; border-radius: 0.35em; text-transform: uppercase; vertical-align: middle; margin-left: 0.5rem\">ANO</span>\n",
       "</mark>\n",
       ". Foi pelo grupo \n",
       "<mark class=\"entity\" style=\"background: #ff9561; padding: 0.45em 0.6em; margin: 0 0.25em; line-height: 1; border-radius: 0.35em;\">\n",
       "    Estado\n",
       "    <span style=\"font-size: 0.8em; font-weight: bold; line-height: 1; border-radius: 0.35em; text-transform: uppercase; vertical-align: middle; margin-left: 0.5rem\">LOC</span>\n",
       "</mark>\n",
       " que cobriu o impeachment da presidente \n",
       "<mark class=\"entity\" style=\"background: #ddd; padding: 0.45em 0.6em; margin: 0 0.25em; line-height: 1; border-radius: 0.35em;\">\n",
       "    Dilma Rousseff\n",
       "    <span style=\"font-size: 0.8em; font-weight: bold; line-height: 1; border-radius: 0.35em; text-transform: uppercase; vertical-align: middle; margin-left: 0.5rem\">PER</span>\n",
       "</mark>\n",
       ". No \n",
       "<mark class=\"entity\" style=\"background: #7aecec; padding: 0.45em 0.6em; margin: 0 0.25em; line-height: 1; border-radius: 0.35em;\">\n",
       "    Valor Econômico\n",
       "    <span style=\"font-size: 0.8em; font-weight: bold; line-height: 1; border-radius: 0.35em; text-transform: uppercase; vertical-align: middle; margin-left: 0.5rem\">ORG</span>\n",
       "</mark>\n",
       ", acompanhou como setorista do \n",
       "<mark class=\"entity\" style=\"background: #ff9561; padding: 0.45em 0.6em; margin: 0 0.25em; line-height: 1; border-radius: 0.35em;\">\n",
       "    Palácio do Planalto\n",
       "    <span style=\"font-size: 0.8em; font-weight: bold; line-height: 1; border-radius: 0.35em; text-transform: uppercase; vertical-align: middle; margin-left: 0.5rem\">LOC</span>\n",
       "</mark>\n",
       " o fim do governo \n",
       "<mark class=\"entity\" style=\"background: #ddd; padding: 0.45em 0.6em; margin: 0 0.25em; line-height: 1; border-radius: 0.35em;\">\n",
       "    Michel Temer\n",
       "    <span style=\"font-size: 0.8em; font-weight: bold; line-height: 1; border-radius: 0.35em; text-transform: uppercase; vertical-align: middle; margin-left: 0.5rem\">PER</span>\n",
       "</mark>\n",
       " e a chegada de \n",
       "<mark class=\"entity\" style=\"background: #ddd; padding: 0.45em 0.6em; margin: 0 0.25em; line-height: 1; border-radius: 0.35em;\">\n",
       "    Jair Bolsonaro\n",
       "    <span style=\"font-size: 0.8em; font-weight: bold; line-height: 1; border-radius: 0.35em; text-transform: uppercase; vertical-align: middle; margin-left: 0.5rem\">PER</span>\n",
       "</mark>\n",
       " à \n",
       "<mark class=\"entity\" style=\"background: #ddd; padding: 0.45em 0.6em; margin: 0 0.25em; line-height: 1; border-radius: 0.35em;\">\n",
       "    Presidência\n",
       "    <span style=\"font-size: 0.8em; font-weight: bold; line-height: 1; border-radius: 0.35em; text-transform: uppercase; vertical-align: middle; margin-left: 0.5rem\">MISC</span>\n",
       "</mark>\n",
       ".</br>O \n",
       "<mark class=\"entity\" style=\"background: #7aecec; padding: 0.45em 0.6em; margin: 0 0.25em; line-height: 1; border-radius: 0.35em;\">\n",
       "    Tribunal Superior do Trabalho\n",
       "    <span style=\"font-size: 0.8em; font-weight: bold; line-height: 1; border-radius: 0.35em; text-transform: uppercase; vertical-align: middle; margin-left: 0.5rem\">ORG</span>\n",
       "</mark>\n",
       " decidiu, em julgamento realizado nesta segunda-feira, encerrar a greve dos funcionários dos \n",
       "<mark class=\"entity\" style=\"background: #7aecec; padding: 0.45em 0.6em; margin: 0 0.25em; line-height: 1; border-radius: 0.35em;\">\n",
       "    Correios\n",
       "    <span style=\"font-size: 0.8em; font-weight: bold; line-height: 1; border-radius: 0.35em; text-transform: uppercase; vertical-align: middle; margin-left: 0.5rem\">ORG</span>\n",
       "</mark>\n",
       ", que acontece desde 17 de agosto. De acordo com a decisão, os empregados devem voltar ao trabalho amanhã, sob pena de multa de \n",
       "<mark class=\"entity\" style=\"background: #ddd; padding: 0.45em 0.6em; margin: 0 0.25em; line-height: 1; border-radius: 0.35em;\">\n",
       "    R$ 100 mil\n",
       "    <span style=\"font-size: 0.8em; font-weight: bold; line-height: 1; border-radius: 0.35em; text-transform: uppercase; vertical-align: middle; margin-left: 0.5rem\">DIN</span>\n",
       "</mark>\n",
       " por dia.</br>A empresa comemorou a decisão. Já o sindicato rejeitou o acordo e recomendou que os funcionários mantenham a greve. Devem ser feitas assembleias hoje e amanhã para votação.</br>A decisão de hoje representou também uma derrota parcial à estatal, já que ficou mantida a cláusula que prevê a correção monetária de 2,6% dos salários. Os trabalhadores, no entanto, pediam uma reposição salarial de 5%.</br>A \n",
       "<mark class=\"entity\" style=\"background: #ff9561; padding: 0.45em 0.6em; margin: 0 0.25em; line-height: 1; border-radius: 0.35em;\">\n",
       "    Corte\n",
       "    <span style=\"font-size: 0.8em; font-weight: bold; line-height: 1; border-radius: 0.35em; text-transform: uppercase; vertical-align: middle; margin-left: 0.5rem\">LOC</span>\n",
       "</mark>\n",
       " considerou que o movimento grevista não foi abusivo. Por outro lado, os ministros decidiram seguir a jurisprudência trabalhista e haverá um desconto salarial referente à metade dos dias de greve; nos demais dias, haverá compensação.</br>O fim da greve era defendido pelo ministro das \n",
       "<mark class=\"entity\" style=\"background: #ff9561; padding: 0.45em 0.6em; margin: 0 0.25em; line-height: 1; border-radius: 0.35em;\">\n",
       "    Comunicações\n",
       "    <span style=\"font-size: 0.8em; font-weight: bold; line-height: 1; border-radius: 0.35em; text-transform: uppercase; vertical-align: middle; margin-left: 0.5rem\">LOC</span>\n",
       "</mark>\n",
       ", \n",
       "<mark class=\"entity\" style=\"background: #ddd; padding: 0.45em 0.6em; margin: 0 0.25em; line-height: 1; border-radius: 0.35em;\">\n",
       "    Fabio Faria\n",
       "    <span style=\"font-size: 0.8em; font-weight: bold; line-height: 1; border-radius: 0.35em; text-transform: uppercase; vertical-align: middle; margin-left: 0.5rem\">PER</span>\n",
       "</mark>\n",
       ", e pelo presidente dos \n",
       "<mark class=\"entity\" style=\"background: #7aecec; padding: 0.45em 0.6em; margin: 0 0.25em; line-height: 1; border-radius: 0.35em;\">\n",
       "    Correios\n",
       "    <span style=\"font-size: 0.8em; font-weight: bold; line-height: 1; border-radius: 0.35em; text-transform: uppercase; vertical-align: middle; margin-left: 0.5rem\">ORG</span>\n",
       "</mark>\n",
       ", general \n",
       "<mark class=\"entity\" style=\"background: #ddd; padding: 0.45em 0.6em; margin: 0 0.25em; line-height: 1; border-radius: 0.35em;\">\n",
       "    Floriano Peixoto\n",
       "    <span style=\"font-size: 0.8em; font-weight: bold; line-height: 1; border-radius: 0.35em; text-transform: uppercase; vertical-align: middle; margin-left: 0.5rem\">PER</span>\n",
       "</mark>\n",
       ". Ambos afirmaram que a retirada dos benefícios era necessária para manter a sustentabilidade da empresa.</br>Cláusulas sociais mantidas</br>O principal imbróglio do julgamento foi em relação à manutenção dos benefícios dos trabalhadores. A estatal pretendia retirar mais de 70 itens concedidos historicamente aos funcionários.</br>A relatora do caso, ministra \n",
       "<mark class=\"entity\" style=\"background: #ddd; padding: 0.45em 0.6em; margin: 0 0.25em; line-height: 1; border-radius: 0.35em;\">\n",
       "    Kátia Arruda\n",
       "    <span style=\"font-size: 0.8em; font-weight: bold; line-height: 1; border-radius: 0.35em; text-transform: uppercase; vertical-align: middle; margin-left: 0.5rem\">PER</span>\n",
       "</mark>\n",
       ", votou para que todos os benefícios fossem mantidos, mas acabou parcialmente vencida. Prevaleceu a tese divergente apresentada pelo ministro \n",
       "<mark class=\"entity\" style=\"background: #ddd; padding: 0.45em 0.6em; margin: 0 0.25em; line-height: 1; border-radius: 0.35em;\">\n",
       "    Ives Gandra Filho\n",
       "    <span style=\"font-size: 0.8em; font-weight: bold; line-height: 1; border-radius: 0.35em; text-transform: uppercase; vertical-align: middle; margin-left: 0.5rem\">PER</span>\n",
       "</mark>\n",
       ", que conta com a simpatia do presidente \n",
       "<mark class=\"entity\" style=\"background: #ddd; padding: 0.45em 0.6em; margin: 0 0.25em; line-height: 1; border-radius: 0.35em;\">\n",
       "    Jair Bolsonaro\n",
       "    <span style=\"font-size: 0.8em; font-weight: bold; line-height: 1; border-radius: 0.35em; text-transform: uppercase; vertical-align: middle; margin-left: 0.5rem\">PER</span>\n",
       "</mark>\n",
       ".</br>Em um voto com mais de 100 páginas, a ministra destacou que, em seus anos de \n",
       "<mark class=\"entity\" style=\"background: #ff9561; padding: 0.45em 0.6em; margin: 0 0.25em; line-height: 1; border-radius: 0.35em;\">\n",
       "    Corte\n",
       "    <span style=\"font-size: 0.8em; font-weight: bold; line-height: 1; border-radius: 0.35em; text-transform: uppercase; vertical-align: middle; margin-left: 0.5rem\">LOC</span>\n",
       "</mark>\n",
       " trabalhista, essa foi a primeira vez que viu uma empresa propor a retirada de todas as cláusulas e direitos.</br>A ministra disse, ainda, que apesar de os \n",
       "<mark class=\"entity\" style=\"background: #7aecec; padding: 0.45em 0.6em; margin: 0 0.25em; line-height: 1; border-radius: 0.35em;\">\n",
       "    Correios\n",
       "    <span style=\"font-size: 0.8em; font-weight: bold; line-height: 1; border-radius: 0.35em; text-transform: uppercase; vertical-align: middle; margin-left: 0.5rem\">ORG</span>\n",
       "</mark>\n",
       " alegarem problemas econômicos com a manutenção dos direitos, há informações da própria estatal que mostram que houve aumento da procura durante a pandemia.</br>\n",
       "<mark class=\"entity\" style=\"background: #ddd; padding: 0.45em 0.6em; margin: 0 0.25em; line-height: 1; border-radius: 0.35em;\">\n",
       "    Ives Gandra\n",
       "    <span style=\"font-size: 0.8em; font-weight: bold; line-height: 1; border-radius: 0.35em; text-transform: uppercase; vertical-align: middle; margin-left: 0.5rem\">PER</span>\n",
       "</mark>\n",
       ", ao apresentar a divergência, propôs que fossem mantidas nove cláusulas, que a empresa já havia aceitado, e mais 20 cláusulas que tratam de benefícios sociais, que não representam impacto financeiro para a estatal.</br>Houve uma alteração no texto da cláusula que trata do plano de saúde e vale alimentação. A relatora defendeu mudar o verbo de que a empresa &quot;pode&quot; oferecer o benefício para que a estatal &quot;deve&quot; garanti-lo.</br>Adicional de férias e licença-maternidade como de \n",
       "<mark class=\"entity\" style=\"background: #ddd; padding: 0.45em 0.6em; margin: 0 0.25em; line-height: 1; border-radius: 0.35em;\">\n",
       "    CLT\n",
       "    <span style=\"font-size: 0.8em; font-weight: bold; line-height: 1; border-radius: 0.35em; text-transform: uppercase; vertical-align: middle; margin-left: 0.5rem\">MISC</span>\n",
       "</mark>\n",
       "</br>Entre os benefícios que serão alterados está a remuneração das férias. Atualmente, os funcionários recebem 2/3 de adicional ao salário. A \n",
       "<mark class=\"entity\" style=\"background: #ddd; padding: 0.45em 0.6em; margin: 0 0.25em; line-height: 1; border-radius: 0.35em;\">\n",
       "    CLT\n",
       "    <span style=\"font-size: 0.8em; font-weight: bold; line-height: 1; border-radius: 0.35em; text-transform: uppercase; vertical-align: middle; margin-left: 0.5rem\">MISC</span>\n",
       "</mark>\n",
       " garante ao trabalhador 1/3 de incentivo no período de descanso. Segundo os \n",
       "<mark class=\"entity\" style=\"background: #ddd; padding: 0.45em 0.6em; margin: 0 0.25em; line-height: 1; border-radius: 0.35em;\">\n",
       "    Correios\n",
       "    <span style=\"font-size: 0.8em; font-weight: bold; line-height: 1; border-radius: 0.35em; text-transform: uppercase; vertical-align: middle; margin-left: 0.5rem\">MISC</span>\n",
       "</mark>\n",
       ", a economia prevista com a revisão será de mais de \n",
       "<mark class=\"entity\" style=\"background: #ddd; padding: 0.45em 0.6em; margin: 0 0.25em; line-height: 1; border-radius: 0.35em;\">\n",
       "    R$ 600 milhões\n",
       "    <span style=\"font-size: 0.8em; font-weight: bold; line-height: 1; border-radius: 0.35em; text-transform: uppercase; vertical-align: middle; margin-left: 0.5rem\">DIN</span>\n",
       "</mark>\n",
       " ao ano.</br>A licença-maternidade também vai mudar. Atualmente, a licença é de 180 dias, e a proposta com a retirada da cláusula é passar para 120 dias, como trabalhadores do regime \n",
       "<mark class=\"entity\" style=\"background: #ddd; padding: 0.45em 0.6em; margin: 0 0.25em; line-height: 1; border-radius: 0.35em;\">\n",
       "    CLT\n",
       "    <span style=\"font-size: 0.8em; font-weight: bold; line-height: 1; border-radius: 0.35em; text-transform: uppercase; vertical-align: middle; margin-left: 0.5rem\">MISC</span>\n",
       "</mark>\n",
       ".</br>Empresa não quis negociar, diz relatora</br>Em seu voto, a ministra \n",
       "<mark class=\"entity\" style=\"background: #ddd; padding: 0.45em 0.6em; margin: 0 0.25em; line-height: 1; border-radius: 0.35em;\">\n",
       "    Kátia Arruda\n",
       "    <span style=\"font-size: 0.8em; font-weight: bold; line-height: 1; border-radius: 0.35em; text-transform: uppercase; vertical-align: middle; margin-left: 0.5rem\">PER</span>\n",
       "</mark>\n",
       " destacou a intransigência dos \n",
       "<mark class=\"entity\" style=\"background: #7aecec; padding: 0.45em 0.6em; margin: 0 0.25em; line-height: 1; border-radius: 0.35em;\">\n",
       "    Correios\n",
       "    <span style=\"font-size: 0.8em; font-weight: bold; line-height: 1; border-radius: 0.35em; text-transform: uppercase; vertical-align: middle; margin-left: 0.5rem\">ORG</span>\n",
       "</mark>\n",
       " em aceitar os acordos anteriormente propostos pela \n",
       "<mark class=\"entity\" style=\"background: #7aecec; padding: 0.45em 0.6em; margin: 0 0.25em; line-height: 1; border-radius: 0.35em;\">\n",
       "    Justiça do Trabalho\n",
       "    <span style=\"font-size: 0.8em; font-weight: bold; line-height: 1; border-radius: 0.35em; text-transform: uppercase; vertical-align: middle; margin-left: 0.5rem\">ORG</span>\n",
       "</mark>\n",
       ".</br>&quot;Não houve uma negociação coletiva, já que a postura da empresa desde o início, incluindo nas esferas extrajudiciais, foi de absoluta resistência&quot;, declarou. No último dia 11, a magistrada propôs um acordo. Os funcionários sinalizaram disposição em negociar, mas a estatal não.</br>&quot;Houve uma patente conduta negativista para negociar por parte da empresa, eu com 30 anos na \n",
       "<mark class=\"entity\" style=\"background: #7aecec; padding: 0.45em 0.6em; margin: 0 0.25em; line-height: 1; border-radius: 0.35em;\">\n",
       "    Justiça do Trabalho\n",
       "    <span style=\"font-size: 0.8em; font-weight: bold; line-height: 1; border-radius: 0.35em; text-transform: uppercase; vertical-align: middle; margin-left: 0.5rem\">ORG</span>\n",
       "</mark>\n",
       " jamais tinha vivenciado uma conduta assim&quot;, afirmou.</br>Justificativa da estatal</br>Em entrevista à coluna na semana passada, o presidente dos \n",
       "<mark class=\"entity\" style=\"background: #7aecec; padding: 0.45em 0.6em; margin: 0 0.25em; line-height: 1; border-radius: 0.35em;\">\n",
       "    Correios\n",
       "    <span style=\"font-size: 0.8em; font-weight: bold; line-height: 1; border-radius: 0.35em; text-transform: uppercase; vertical-align: middle; margin-left: 0.5rem\">ORG</span>\n",
       "</mark>\n",
       ", general \n",
       "<mark class=\"entity\" style=\"background: #ddd; padding: 0.45em 0.6em; margin: 0 0.25em; line-height: 1; border-radius: 0.35em;\">\n",
       "    Floriano Peixoto\n",
       "    <span style=\"font-size: 0.8em; font-weight: bold; line-height: 1; border-radius: 0.35em; text-transform: uppercase; vertical-align: middle; margin-left: 0.5rem\">PER</span>\n",
       "</mark>\n",
       ", afirmou que a proposta feita pela estatal —de extinção de mais de 70 benefícios— estimava uma economia na ordem de \n",
       "<mark class=\"entity\" style=\"background: #ddd; padding: 0.45em 0.6em; margin: 0 0.25em; line-height: 1; border-radius: 0.35em;\">\n",
       "    R$ 800 milhões\n",
       "    <span style=\"font-size: 0.8em; font-weight: bold; line-height: 1; border-radius: 0.35em; text-transform: uppercase; vertical-align: middle; margin-left: 0.5rem\">DIN</span>\n",
       "</mark>\n",
       " por ano.</br>Questionado se essa economia é necessária, já que a empresa vem registrando lucro nos últimos anos, \n",
       "<mark class=\"entity\" style=\"background: #ddd; padding: 0.45em 0.6em; margin: 0 0.25em; line-height: 1; border-radius: 0.35em;\">\n",
       "    Floriano\n",
       "    <span style=\"font-size: 0.8em; font-weight: bold; line-height: 1; border-radius: 0.35em; text-transform: uppercase; vertical-align: middle; margin-left: 0.5rem\">PER</span>\n",
       "</mark>\n",
       " afirmou que, apesar dos números positivos nos últimos anos, há um passivo de \n",
       "<mark class=\"entity\" style=\"background: #ddd; padding: 0.45em 0.6em; margin: 0 0.25em; line-height: 1; border-radius: 0.35em;\">\n",
       "    R$ 2,4 bilhões\n",
       "    <span style=\"font-size: 0.8em; font-weight: bold; line-height: 1; border-radius: 0.35em; text-transform: uppercase; vertical-align: middle; margin-left: 0.5rem\">DIN</span>\n",
       "</mark>\n",
       " a ser saldado. &quot;Os resultados positivos recentes têm reduzido esse déficit, e a nossa expectativa é a de acelerar esse processo&quot;, disse.</br>\n",
       "<mark class=\"entity\" style=\"background: #ddd; padding: 0.45em 0.6em; margin: 0 0.25em; line-height: 1; border-radius: 0.35em;\">\n",
       "    Floriano\n",
       "    <span style=\"font-size: 0.8em; font-weight: bold; line-height: 1; border-radius: 0.35em; text-transform: uppercase; vertical-align: middle; margin-left: 0.5rem\">PER</span>\n",
       "</mark>\n",
       " destacou, ainda, que os benefícios que a empresa queria extinguir foram concedidos em momentos diferentes do atual, tanto para a empresa como para o \n",
       "<mark class=\"entity\" style=\"background: #ff9561; padding: 0.45em 0.6em; margin: 0 0.25em; line-height: 1; border-radius: 0.35em;\">\n",
       "    Brasil\n",
       "    <span style=\"font-size: 0.8em; font-weight: bold; line-height: 1; border-radius: 0.35em; text-transform: uppercase; vertical-align: middle; margin-left: 0.5rem\">LOC</span>\n",
       "</mark>\n",
       ". &quot;Para os \n",
       "<mark class=\"entity\" style=\"background: #7aecec; padding: 0.45em 0.6em; margin: 0 0.25em; line-height: 1; border-radius: 0.35em;\">\n",
       "    Correios\n",
       "    <span style=\"font-size: 0.8em; font-weight: bold; line-height: 1; border-radius: 0.35em; text-transform: uppercase; vertical-align: middle; margin-left: 0.5rem\">ORG</span>\n",
       "</mark>\n",
       " é inviável, hoje, manter em patamar tão elevado suas despesas com pessoal, pois a transformação do mercado e dos hábitos de consumo da sociedade demanda investimentos que a empresa não tem realizado a contento&quot;, disse.</div></span>"
      ],
      "text/plain": [
       "<IPython.core.display.HTML object>"
      ]
     },
     "metadata": {},
     "output_type": "display_data"
    }
   ],
   "source": [
    "doc = nlp_pt(article.maintext)\n",
    "\n",
    "displacy.render(doc, style=\"ent\", jupyter=True, options={'distance': 100})"
   ]
  },
  {
   "cell_type": "markdown",
   "metadata": {},
   "source": [
    "### Treinando o NER\n",
    "\n",
    "Como podemos observar acima, o NER do Spacy não foi capaz de classificar \"ministro das Comunicações\" como PER. Vamos  demonstrar como isso poderia ser corrigido.\n",
    "\n",
    "Precisamos de, no mínimo, algumas centenas de observações para um treinamento do NER. Como não temos os recursos para fazer isso durante uma aula, vamos nos limitar a um número bem menor de anotações, o que provavelmente vai impactar na acurácia do modelo."
   ]
  },
  {
   "cell_type": "code",
   "execution_count": 87,
   "metadata": {},
   "outputs": [],
   "source": [
    "ner = nlp.get_pipe(\"ner\")"
   ]
  },
  {
   "cell_type": "code",
   "execution_count": 88,
   "metadata": {
    "scrolled": true
   },
   "outputs": [
    {
     "name": "stdout",
     "output_type": "stream",
     "text": [
      "{'status': 'ok', 'totalResults': 1256, 'articles': [{'source': {'id': 'globo', 'name': 'Globo'}, 'author': None, 'title': 'Deputado pede que ministro explique afirmações sobre privatização dos Correios', 'description': 'O deputado federal André Figueiredo (PDT/CE) entrou com um requerimento de informações da Câmara (RIC nº 1218/2020) acerca das declarações feitas pelo Ministro das Comunicações, Fábio Faria, tratando da intenção de desestatização dos Correios. Na noite de qua…', 'url': 'https://valor.globo.com/brasil/noticia/2020/09/24/deputado-pede-que-ministro-explique-afirmacoes-sobre-privatizacao-dos-correios.ghtml', 'urlToImage': 'https://s2.glbimg.com/KshyJ3l9So6j0WObBYj2h0rORNk=/1200x/smart/filters:cover():strip_icc()/i.s3.glbimg.com/v1/AUTH_63b422c2caee4269b8b34177e8876b93/internal_photos/bs/2019/1/q/hsPfwXQlyv3MEEqwzfXw/1111707-mac-edit-12031807463.jpg', 'publishedAt': '2020-09-24T21:31:03Z', 'content': 'O deputado federal André Figueiredo (PDT/CE) entrou com um requerimento de informações da Câmara (RIC nº 1218/2020) acerca das declarações feitas pelo Ministro das Comunicações, Fábio Faria, tratando… [+2469 chars]'}, {'source': {'id': 'globo', 'name': 'Globo'}, 'author': None, 'title': 'Petrobras tem 2° voto no STF contra venda de refinarias, do ministro Lewandowski', 'description': 'Por Ricardo BritoBRASÍLIA (Reuters) - A Petrobras teve novo voto contrário à continuidade de processos em curso para venda de suas refinarias durante julgamento no plenário virtual do Supremo Tribunal Federal (STF),...Leia mais', 'url': 'https://extra.globo.com/noticias/economia/petrobras-tem-2-voto-no-stf-contra-venda-de-refinarias-do-ministro-lewandowski-24651486.html', 'urlToImage': 'https://extra.globo.com/skins/extra/images/extra-face-1.jpg', 'publishedAt': '2020-09-21T15:44:00Z', 'content': 'Por Ricardo Brito\\r\\nBRASÍLIA (Reuters) - A Petrobras teve novo voto contrário à continuidade de processos em curso para venda de suas refinarias durante julgamento no plenário virtual do Supremo Tribu… [+3088 chars]'}, {'source': {'id': 'globo', 'name': 'Globo'}, 'author': None, 'title': 'Fundo para garantir perdas em reforma tributária seria imprudente, União não é saco sem fundo, diz Guedes', 'description': 'BRASÍLIA (Reuters) - O ministro da Economia, Paulo Guedes, classificou como imprudente a ideia de um fundo com recursos federais para garantir perdas de Estados e municípios com a reforma tributária, alegando que a União...Leia mais', 'url': 'https://extra.globo.com/noticias/economia/fundo-para-garantir-perdas-em-reforma-tributaria-seria-imprudente-uniao-nao-saco-sem-fundo-diz-guedes-24638926.html', 'urlToImage': 'https://extra.globo.com/skins/extra/images/extra-face-1.jpg', 'publishedAt': '2020-09-14T13:56:00Z', 'content': 'BRASÍLIA (Reuters) - O ministro da Economia, Paulo Guedes, classificou como imprudente a ideia de um fundo com recursos federais para garantir perdas de Estados e municípios com a reforma tributária,… [+626 chars]'}, {'source': {'id': 'globo', 'name': 'Globo'}, 'author': None, 'title': 'Suga, do Japão, promete priorizar crescimento antes de reforma fiscal', 'description': 'Por Leika Kihara e Chris GallagherTÓQUIO (Reuters) - Yoshihide Suga, a caminho de se tornar o próximo primeiro-ministro do Japão, disse que manterá a política do atual premiê, Shinzo Abe, priorizando o crescimento...Leia mais', 'url': 'https://extra.globo.com/noticias/economia/suga-do-japao-promete-priorizar-crescimento-antes-de-reforma-fiscal-24630050.html', 'urlToImage': 'https://extra.globo.com/skins/extra/images/extra-face-1.jpg', 'publishedAt': '2020-09-09T11:24:00Z', 'content': 'Por Leika Kihara e Chris Gallagher\\r\\nTÓQUIO (Reuters) - Yoshihide Suga, a caminho de se tornar o próximo primeiro-ministro do Japão, disse que manterá a política do atual premiê, Shinzo Abe, priorizan… [+1039 chars]'}, {'source': {'id': 'globo', 'name': 'Globo'}, 'author': None, 'title': \"Modi promete usar produção da vacina na Índia para ajudar 'toda a humanidade'\", 'description': 'Por Michelle Nichols e David BrunnstromNOVA YORK (Reuters) - O primeiro-ministro indiano, Narendra Modi, prometeu neste sábado na ONU que a capacidade de produção de vacinas do seu país será disponibilizada globalmente...Leia mais', 'url': 'https://extra.globo.com/noticias/economia/modi-promete-usar-producao-da-vacina-na-india-para-ajudar-toda-humanidade-24662564.html', 'urlToImage': 'https://extra.globo.com/skins/extra/images/extra-face-1.jpg', 'publishedAt': '2020-09-26T18:20:00Z', 'content': 'Por Michelle Nichols e David Brunnstrom\\r\\nNOVA YORK (Reuters) - O primeiro-ministro indiano, Narendra Modi, prometeu neste sábado na ONU que a capacidade de produção de vacinas do seu país será dispon… [+2405 chars]'}, {'source': {'id': 'globo', 'name': 'Globo'}, 'author': None, 'title': 'Fundo para garantir perdas em reforma tributária pode quebrar o país, alerta Guedes', 'description': 'Por Marcela AyresBRASÍLIA (Reuters) - O ministro da Economia, Paulo Guedes, classificou como imprudente a ideia de se instituir um fundo com recursos federais para garantir perdas de Estados e municípios com a reforma...Leia mais', 'url': 'https://extra.globo.com/noticias/economia/fundo-para-garantir-perdas-em-reforma-tributaria-pode-quebrar-pais-alerta-guedes-24638926.html', 'urlToImage': 'https://extra.globo.com/skins/extra/images/extra-face-1.jpg', 'publishedAt': '2020-09-14T13:56:00Z', 'content': 'Por Marcela Ayres\\r\\nBRASÍLIA (Reuters) - O ministro da Economia, Paulo Guedes, classificou como imprudente a ideia de se instituir um fundo com recursos federais para garantir perdas de Estados e muni… [+4070 chars]'}, {'source': {'id': 'globo', 'name': 'Globo'}, 'author': None, 'title': 'Guedes elogia Bolsonaro e atribui fim do Renda Brasil à distorção de informação da mídia', 'description': 'Por Marcela AyresBRASÍLIA (Reuters) - O ministro da Economia, Paulo Guedes, atribuiu nesta terça-feira a decisão do presidente Jair Bolsonaro de acabar com o Renda Brasil a uma posição política que considerou correta após...Leia mais', 'url': 'https://extra.globo.com/noticias/economia/guedes-elogia-bolsonaro-atribui-fim-do-renda-brasil-distorcao-de-informacao-da-midia-24640940.html', 'urlToImage': 'https://extra.globo.com/skins/extra/images/extra-face-1.jpg', 'publishedAt': '2020-09-15T16:36:00Z', 'content': 'Por Marcela Ayres\\r\\nBRASÍLIA (Reuters) - O ministro da Economia, Paulo Guedes, atribuiu nesta terça-feira a decisão do presidente Jair Bolsonaro de acabar com o Renda Brasil a uma posição política que… [+6790 chars]'}, {'source': {'id': 'globo', 'name': 'Globo'}, 'author': None, 'title': 'Pazuello nomeia veterinário para dirigir Programa Nacional de Imunizações', 'description': 'Por Lisandra ParaguassuBRASÍLIA (Reuters) - O ministro interino da Saúde, Eduardo Pazuello, nomeou um veterinário para comandar o Departamento de Imunizações e Doenças Transmissíveis do ministério, responsável por todo o...Leia mais', 'url': 'https://extra.globo.com/noticias/economia/pazuello-nomeia-veterinario-para-dirigir-programa-nacional-de-imunizacoes-24615595.html', 'urlToImage': 'https://extra.globo.com/skins/extra/images/extra-face-1.jpg', 'publishedAt': '2020-08-31T15:20:00Z', 'content': 'Por Lisandra Paraguassu\\r\\nBRASÍLIA (Reuters) - O ministro interino da Saúde, Eduardo Pazuello, nomeou um veterinário para comandar o Departamento de Imunizações e Doenças Transmissíveis do ministério,… [+1440 chars]'}, {'source': {'id': 'globo', 'name': 'Globo'}, 'author': None, 'title': 'UE acelera planejamento para saída sem acordo enquanto Reino Unido se recusa a ceder em impasse', 'description': 'Por Guy Faulconbridge e Jan StrupczewskiLONDRES/BRUXELAS (Reuters) - A União Europeia intensificou o planejamento para um Brexit \"sem acordo\" nesta sexta-feira, depois que o governo do primeiro-ministro Boris Johnson se...Leia mais', 'url': 'https://extra.globo.com/noticias/economia/ue-acelera-planejamento-para-saida-sem-acordo-enquanto-reino-unido-se-recusa-ceder-em-impasse-24634497.html', 'urlToImage': 'https://extra.globo.com/skins/extra/images/extra-face-1.jpg', 'publishedAt': '2020-09-11T11:52:00Z', 'content': 'Por Guy Faulconbridge e Jan Strupczewski\\r\\nLONDRES/BRUXELAS (Reuters) - A União Europeia intensificou o planejamento para um Brexit \"sem acordo\" nesta sexta-feira, depois que o governo do primeiro-min… [+1364 chars]'}, {'source': {'id': 'globo', 'name': 'Globo'}, 'author': None, 'title': 'Pazuello nomeia veterinário para dirigir Departamento de Imunizações', 'description': 'Por Lisandra ParaguassuBRASÍLIA (Reuters) - O ministro interino da Saúde, Eduardo Pazuello, nomeou um veterinário para comandar o Departamento de Imunizações e Doenças Transmissíveis do ministério, responsável por todo o...Leia mais', 'url': 'https://extra.globo.com/noticias/economia/pazuello-nomeia-veterinario-para-dirigir-departamento-de-imunizacoes-24615595.html', 'urlToImage': 'https://extra.globo.com/skins/extra/images/extra-face-1.jpg', 'publishedAt': '2020-08-31T15:20:00Z', 'content': 'Por Lisandra Paraguassu\\r\\nBRASÍLIA (Reuters) - O ministro interino da Saúde, Eduardo Pazuello, nomeou um veterinário para comandar o Departamento de Imunizações e Doenças Transmissíveis do ministério,… [+2399 chars]'}, {'source': {'id': 'globo', 'name': 'Globo'}, 'author': None, 'title': 'Reforma administrativa será enviada à Câmara na quinta-feira, diz Guedes', 'description': 'BRASÍLIA (Reuters) - O presidente Jair Bolsonaro deu aval e a reforma administrativa será enviada à Câmara dos Deputados na quinta-feira, afirmou o ministro da Economia, Paulo Guedes, em audiência pública do Congresso...Leia mais', 'url': 'https://extra.globo.com/noticias/economia/reforma-administrativa-sera-enviada-camara-na-quinta-feira-diz-guedes-24617357.html', 'urlToImage': 'https://extra.globo.com/skins/extra/images/extra-face-1.jpg', 'publishedAt': '2020-09-01T14:04:00Z', 'content': 'BRASÍLIA (Reuters) - O presidente Jair Bolsonaro deu aval e a reforma administrativa será enviada à Câmara dos Deputados na quinta-feira, afirmou o ministro da Economia, Paulo Guedes, em audiência pú… [+598 chars]'}, {'source': {'id': 'globo', 'name': 'Globo'}, 'author': None, 'title': 'Na corrida para substituir Abe como premiê do Japão, Suga surge como forte candidato', 'description': 'Por Linda SiegTÓQUIO (Reuters) - Yoshihide Suga, um fiel aliado de longa data de Shinzo Abe, surgiu como forte candidato a sucedê-lo como primeiro-ministro do Japão, o que pode resultar em uma ampliação dos estímulos...Leia mais', 'url': 'https://extra.globo.com/noticias/economia/na-corrida-para-substituir-abe-como-premie-do-japao-suga-surge-como-forte-candidato-24613923.html', 'urlToImage': 'https://extra.globo.com/skins/extra/images/extra-face-1.jpg', 'publishedAt': '2020-08-29T19:04:00Z', 'content': 'Por Linda Sieg\\r\\nTÓQUIO (Reuters) - Yoshihide Suga, um fiel aliado de longa data de Shinzo Abe, surgiu como forte candidato a sucedê-lo como primeiro-ministro do Japão, o que pode resultar em uma ampl… [+1944 chars]'}, {'source': {'id': 'globo', 'name': 'Globo'}, 'author': None, 'title': 'Governo encaminha propostas para reforma tributária a líderes, diz Guedes', 'description': 'Por Isabel VersianiBRASÍLIA (Reuters) - O ministro da Economia, Paulo Guedes, disse nesta quarta-feira que a equipe econômica está submetendo à apreciação dos líderes no Congresso contribuições para a reforma...Leia mais', 'url': 'https://extra.globo.com/noticias/economia/governo-encaminha-propostas-para-reforma-tributaria-lideres-diz-guedes-24655736.html', 'urlToImage': 'https://extra.globo.com/skins/extra/images/extra-face-1.jpg', 'publishedAt': '2020-09-23T15:36:01Z', 'content': 'Por Isabel Versiani\\r\\nBRASÍLIA (Reuters) - O ministro da Economia, Paulo Guedes, disse nesta quarta-feira que a equipe econômica está submetendo à apreciação dos líderes no Congresso contribuições par… [+622 chars]'}, {'source': {'id': 'globo', 'name': 'Globo'}, 'author': None, 'title': 'China prevê safra abundante de grãos em meio a condições positivas para cultivo', 'description': 'PEQUIM (Reuters) - A China deverá registrar nas próximas semanas uma colheita abundante de grãos, impulsionada pelas boas condições de cultivo e por um aumento nas áreas de plantio, disse o ministro da Agricultura e...Leia mais', 'url': 'https://extra.globo.com/noticias/economia/china-preve-safra-abundante-de-graos-em-meio-condicoes-positivas-para-cultivo-24655950.html', 'urlToImage': 'https://extra.globo.com/skins/extra/images/extra-face-1.jpg', 'publishedAt': '2020-09-23T17:52:00Z', 'content': 'PEQUIM (Reuters) - A China deverá registrar nas próximas semanas uma colheita abundante de grãos, impulsionada pelas boas condições de cultivo e por um aumento nas áreas de plantio, disse o ministro … [+1364 chars]'}, {'source': {'id': 'globo', 'name': 'Globo'}, 'author': None, 'title': 'Governo ainda discute financiamento da desoneração da folha na reforma tributária, indica Guedes', 'description': 'BRASÍLIA (Reuters) - O ministro da Economia, Paulo Guedes, afirmou nesta segunda-feira que o Brasil é um país que precisa criar emprego em massa e, quanto à solução para bancar a desoneração da folha de pagamento para...Leia mais', 'url': 'https://extra.globo.com/noticias/economia/governo-ainda-discute-financiamento-da-desoneracao-da-folha-na-reforma-tributaria-indica-guedes-24664774.html', 'urlToImage': 'https://extra.globo.com/skins/extra/images/extra-face-1.jpg', 'publishedAt': '2020-09-28T16:24:00Z', 'content': 'BRASÍLIA (Reuters) - O ministro da Economia, Paulo Guedes, afirmou nesta segunda-feira que o Brasil é um país que precisa criar emprego em massa e, quanto à solução para bancar a desoneração da folha… [+798 chars]'}, {'source': {'id': 'globo', 'name': 'Globo'}, 'author': None, 'title': 'Líder do governo admite “eventual revogação ou ajustes” em portaria sobre estupro', 'description': 'Pazuello participará de videoconferência com o Senado para falar da portaria que obriga médicos a avisar a polícia para fazer aborto legal em vítimas de estupro O ministro interino da Saúde, general Eduardo Pazuello, fará uma videoconferência com o Senado no …', 'url': 'https://valor.globo.com/politica/noticia/2020/09/01/lider-do-governo-admite-eventual-revogacao-ou-ajustes-em-portaria-sobre-estupro.ghtml', 'urlToImage': 'https://s2.glbimg.com/wx30KE3XzANy_vU4vcMMNAfIzks=/1200x/smart/filters:cover():strip_icc()/i.s3.glbimg.com/v1/AUTH_63b422c2caee4269b8b34177e8876b93/internal_photos/bs/2020/m/j/EUwn1CS8u3nhhgIzFirQ/49987998436-3955ba5e66-k.jpg', 'publishedAt': '2020-09-01T22:13:24Z', 'content': 'O ministro interino da Saúde, general Eduardo Pazuello, fará uma videoconferência com o Senado no dia 9, às 14h30, para falar da portaria do Ministério da Saúde que obriga médicos a avisar polícia pa… [+1053 chars]'}, {'source': {'id': 'globo', 'name': 'Globo'}, 'author': None, 'title': 'Ex-ministro Dyogo Oliveira será conselheiro do Banco Voiter', 'description': 'Seu nome será apreciado em assembleia geral extraordinária marcada para o dia 23 O ex-ministro do Planejamento e ex-presidente do Banco Nacional de Desenvolvimento Econômico e Social (BNDES) Dyogo Oliveira foi indicado para assumir uma cadeira no conselho de …', 'url': 'https://valor.globo.com/financas/noticia/2020/09/08/ex-ministro-dyogo-oliveira-sera-conselheiro-do-banco-voiter.ghtml', 'urlToImage': 'https://s2.glbimg.com/cW6WEA2ALrtOZrToAT8Vv8iRZhM=/1200x/smart/filters:cover():strip_icc()/i.s3.glbimg.com/v1/AUTH_63b422c2caee4269b8b34177e8876b93/internal_photos/bs/2019/M/0/6zcYaQRcyMfJavpKO3cQ/foto25esp-101-dfdyogo-a12.jpg', 'publishedAt': '2020-09-08T13:05:51Z', 'content': 'O ex-ministro do Planejamento e ex-presidente do Banco Nacional de Desenvolvimento Econômico e Social (BNDES) Dyogo Oliveira foi indicado para assumir uma cadeira no conselho de administração do Banc… [+678 chars]'}, {'source': {'id': 'globo', 'name': 'Globo'}, 'author': None, 'title': \"Após fala de Bolsonaro, Guedes diz que 'cartão vermelho' não foi para ele e volta a defender ajustes\", 'description': 'BRASÍLIA - Após o presidente Jair Bolsonaro vetar a ideia da equipe econômica de congelar aposentadorias e pensões para abrir espaço no Orçamento para o Renda Brasil, o ministro da Economia, Paulo Guedes, disse que a ideia foi mal interpretada pela...Leia mais', 'url': 'https://extra.globo.com/noticias/economia/apos-fala-de-bolsonaro-guedes-diz-que-cartao-vermelho-nao-foi-para-ele-volta-defender-ajustes-24640943.html', 'urlToImage': 'https://extra.globo.com/incoming/24640942-b5f-b25/w976h550-PROP/guedes3.jpg', 'publishedAt': '2020-09-15T16:37:11Z', 'content': 'BRASÍLIA - Após o presidente Jair Bolsonaro vetar a ideia da equipe econômica de congelar aposentadorias e pensões para abrir espaço no Orçamento para o Renda Brasil, o ministro da Economia, Paulo Gu… [+2473 chars]'}, {'source': {'id': 'globo', 'name': 'Globo'}, 'author': None, 'title': \"Queda do PIB no 2º tri é 'som distante', economia já tem retomada em V, diz Guedes\", 'description': 'BRASÍLIA (Reuters) - O ministro da Economia, Paulo Guedes, afirmou nesta terça-feira que a queda do PIB registrada no segundo trimestre do ano é um \"som distante\" que reflete os efeitos da pandemia da Covid-19 e frisou que...Leia mais', 'url': 'https://extra.globo.com/noticias/economia/queda-do-pib-no-2-tri-som-distante-economia-ja-tem-retomada-em-diz-guedes-24617350.html', 'urlToImage': 'https://extra.globo.com/skins/extra/images/extra-face-1.jpg', 'publishedAt': '2020-09-01T13:56:00Z', 'content': 'BRASÍLIA (Reuters) - O ministro da Economia, Paulo Guedes, afirmou nesta terça-feira que a queda do PIB registrada no segundo trimestre do ano é um \"som distante\" que reflete os efeitos da pandemia d… [+559 chars]'}, {'source': {'id': 'globo', 'name': 'Globo'}, 'author': None, 'title': 'Tribunal de Contas da União quer perícias por telemedicina no INSS', 'description': 'O ministro Bruno Dantas, do Tribunal de Contas da União (TCU), deu prazo de cinco dias para que o Instituto Nacional de Seguro Social (INSS) elabore um protocolo a fim de realizar perícias médicas com o uso de telemedicina. As informações são do...Leia mais', 'url': 'https://extra.globo.com/noticias/economia/tribunal-de-contas-da-uniao-quer-pericias-por-telemedicina-no-inss-24662134.html', 'urlToImage': 'https://extra.globo.com/incoming/24662133-69a-4fa/w976h550-PROP/xreabertura-pagespeed-ic-udmwkbx-6-.jpg', 'publishedAt': '2020-09-26T07:00:00Z', 'content': 'O ministro Bruno Dantas, do Tribunal de Contas da União (TCU), deu prazo de cinco dias para que o Instituto Nacional de Seguro Social (INSS) elabore um protocolo a fim de realizar perícias médicas co… [+859 chars]'}]}\n"
     ]
    }
   ],
   "source": [
    "import requests\n",
    "url = ('http://newsapi.org/v2/everything?q=ministro&sources=google-news-br,globo&apiKey=%s' % open('google-api-key.txt').read())\n",
    "response = requests.get(url)\n",
    "print (response.json())"
   ]
  },
  {
   "cell_type": "code",
   "execution_count": 89,
   "metadata": {},
   "outputs": [
    {
     "name": "stdout",
     "output_type": "stream",
     "text": [
      "https://valor.globo.com/brasil/noticia/2020/09/24/deputado-pede-que-ministro-explique-afirmacoes-sobre-privatizacao-dos-correios.ghtml\n"
     ]
    }
   ],
   "source": [
    "for article in response.json()['articles']:\n",
    "    print (article['url'])\n",
    "    break"
   ]
  },
  {
   "cell_type": "code",
   "execution_count": 90,
   "metadata": {},
   "outputs": [
    {
     "name": "stdout",
     "output_type": "stream",
     "text": [
      "Fetching \"Deputado pede que ministro explique afirmações sobre privatização dos Correios\"...\n",
      "Fetching \"Petrobras tem 2° voto no STF contra venda de refinarias, do ministro Lewandowski\"...\n",
      "Fetching \"Fundo para garantir perdas em reforma tributária seria imprudente, União não é saco sem fundo, diz Guedes\"...\n",
      "Fetching \"Suga, do Japão, promete priorizar crescimento antes de reforma fiscal\"...\n",
      "Fetching \"Modi promete usar produção da vacina na Índia para ajudar 'toda a humanidade'\"...\n",
      "Fetching \"Fundo para garantir perdas em reforma tributária pode quebrar o país, alerta Guedes\"...\n",
      "Fetching \"Guedes elogia Bolsonaro e atribui fim do Renda Brasil à distorção de informação da mídia\"...\n",
      "Fetching \"Pazuello nomeia veterinário para dirigir Programa Nacional de Imunizações\"...\n",
      "Fetching \"UE acelera planejamento para saída sem acordo enquanto Reino Unido se recusa a ceder em impasse\"...\n",
      "Fetching \"Pazuello nomeia veterinário para dirigir Departamento de Imunizações\"...\n",
      "Fetching \"Reforma administrativa será enviada à Câmara na quinta-feira, diz Guedes\"...\n",
      "Fetching \"Na corrida para substituir Abe como premiê do Japão, Suga surge como forte candidato\"...\n",
      "Fetching \"Governo encaminha propostas para reforma tributária a líderes, diz Guedes\"...\n",
      "Fetching \"China prevê safra abundante de grãos em meio a condições positivas para cultivo\"...\n",
      "Fetching \"Governo ainda discute financiamento da desoneração da folha na reforma tributária, indica Guedes\"...\n",
      "Fetching \"Líder do governo admite “eventual revogação ou ajustes” em portaria sobre estupro\"...\n",
      "Fetching \"Ex-ministro Dyogo Oliveira será conselheiro do Banco Voiter\"...\n",
      "Fetching \"Após fala de Bolsonaro, Guedes diz que 'cartão vermelho' não foi para ele e volta a defender ajustes\"...\n",
      "Fetching \"Queda do PIB no 2º tri é 'som distante', economia já tem retomada em V, diz Guedes\"...\n",
      "Fetching \"Tribunal de Contas da União quer perícias por telemedicina no INSS\"...\n",
      "CPU times: user 8.11 s, sys: 1.07 s, total: 9.18 s\n",
      "Wall time: 23.8 s\n"
     ]
    }
   ],
   "source": [
    "%%time\n",
    "\n",
    "articles = []\n",
    "counter = 0\n",
    "for article in response.json()['articles']:\n",
    "    print ('Fetching \"%s\"...' % article['title'])\n",
    "    news_obj = NewsPlease.from_url(article['url'])\n",
    "    articles.append(news_obj.maintext)\n",
    "    counter += 1\n",
    "    if counter > 20:\n",
    "        break"
   ]
  },
  {
   "cell_type": "code",
   "execution_count": 94,
   "metadata": {
    "scrolled": true
   },
   "outputs": [
    {
     "name": "stdout",
     "output_type": "stream",
     "text": [
      "O deputado federal André Figueiredo (PDT/CE) entrou com um requerimento de informações da Câmara (RIC nº 1218/2020) acerca das declarações feitas pelo Ministro das Comunicações, Fábio Faria, tratando da intenção de desestatização dos Correios.\n",
      "Por Marcela Ayres\n",
      "BRASÍLIA (Reuters) - O ministro da Economia, Paulo Guedes, classificou como imprudente a ideia de se instituir um fundo com recursos federais para garantir perdas de Estados e municípios com a reforma tributária, alegando que a União não é um \"saco sem fundo\" e que é necessário ter juízo em um momento de fragilidade das contas públicas.\n",
      "\n",
      "Por Leika Kihara e Chris Gallagher\n",
      "TÓQUIO (Reuters) - Yoshihide Suga, a caminho de se tornar o próximo primeiro-ministro do Japão, disse que manterá a política do atual premiê, Shinzo Abe, priorizando o crescimento econômico antes dos esforços para consertar as finanças esfarrapadas do país.\n",
      "\n",
      "Por Marcela Ayres\n",
      "BRASÍLIA (Reuters) - O ministro da Economia, Paulo Guedes, classificou como imprudente a ideia de se instituir um fundo com recursos federais para garantir perdas de Estados e municípios com a reforma tributária, alegando que a União não é um \"saco sem fundo\" e que é necessário ter juízo em um momento de fragilidade das contas públicas.\n",
      "\n",
      "Por Marcela Ayres\n",
      "BRASÍLIA (Reuters) - O ministro da Economia, Paulo Guedes, atribuiu nesta terça-feira a decisão do presidente Jair Bolsonaro de acabar com o Renda Brasil a uma posição política que considerou correta após distorção de informação feita pela mídia.\n",
      "\n",
      "Nesta terça-feira, o ministro da Economia também defendeu que a instituição de um imposto sobre transações digitais poderia, ao abraçar uma nova base ampla, permitir a desoneração de outros tributos, em especial o imposto sobre a folha de pagamento, que considerou muito mais cumulativo e destrutivo.\n",
      "\n",
      "O presidente Jair Bolsonaro deu aval e a reforma administrativa será enviada à Câmara dos Deputados na quinta-feira, afirmou o ministro da Economia, Paulo Guedes, em audiência pública do Congresso realizada virtualmente nesta terça-feira.\n",
      "\n",
      "Por Linda Sieg\n",
      "TÓQUIO (Reuters) - Yoshihide Suga, um fiel aliado de longa data de Shinzo Abe, surgiu como forte candidato a sucedê-lo como primeiro-ministro do Japão, o que pode resultar em uma ampliação dos estímulos fiscais e monetários que marcaram os quase oito anos de Abe como premiê.\n",
      "\n",
      "Por Isabel Versiani\n",
      "BRASÍLIA (Reuters) - O ministro da Economia, Paulo Guedes, disse nesta quarta-feira que a equipe econômica está submetendo à apreciação dos líderes no Congresso contribuições para a reforma tributária.\n",
      "\n",
      "A China deverá registrar nas próximas semanas uma colheita abundante de grãos, impulsionada pelas boas condições de cultivo e por um aumento nas áreas de plantio, disse o ministro da Agricultura e Assuntos Rurais do país, Han Changfu, em um comunicado nesta quarta-feira.\n",
      "\n",
      "O ministro da Economia, Paulo Guedes, afirmou nesta segunda-feira que o Brasil é um país que precisa criar emprego em massa e, quanto à solução para bancar a desoneração da folha de pagamento para incentivar a investida, sinalizou que a decisão ainda não foi tomada.\n",
      "\n",
      "O ex-ministro do Planejamento e ex-presidente do Banco Nacional de Desenvolvimento Econômico e Social (BNDES) Dyogo Oliveira foi indicado para assumir uma cadeira no conselho de administração do Banco Voiter (antigo Indusval).\n",
      "BRASÍLIA - Após o presidente Jair Bolsonaro vetar a ideia da equipe econômica de congelar aposentadorias e pensões para abrir espaço no Orçamento para o Renda Brasil, o ministro da Economia, Paulo Guedes, disse que a ideia foi mal interpretada pela imprensa e afirmou que o \"cartão vermelho\" mencionado por Bolsonaro não foi para ele.\n",
      "\n",
      "O ministro da Economia, Paulo Guedes, afirmou nesta terça-feira que a queda do PIB registrada no segundo trimestre do ano é um \"som distante\" que reflete os efeitos da pandemia da Covid-19 e frisou que o Brasil já deu início a uma recuperação em V.\n",
      "\n"
     ]
    }
   ],
   "source": [
    "sents = []\n",
    "for art in articles:\n",
    "    for sent in nlp(art).sents:\n",
    "        if 'ministro da' in sent.lower_ or 'ministro do' in sent.lower_:\n",
    "            print (sent)\n",
    "            sents.append(sent)"
   ]
  },
  {
   "cell_type": "code",
   "execution_count": 99,
   "metadata": {},
   "outputs": [],
   "source": [
    "matcher = Matcher(nlp.vocab)\n",
    "\n",
    "matcher.add(\"Ministro Matcher\", [[\n",
    "    {'LOWER': 'ministro'},\n",
    "    {'POS': 'DET'},\n",
    "    {}\n",
    "], [\n",
    "    {'LOWER': 'ministra'},\n",
    "    {'POS': 'DET'},\n",
    "    {}\n",
    "]])"
   ]
  },
  {
   "cell_type": "code",
   "execution_count": 115,
   "metadata": {},
   "outputs": [
    {
     "name": "stdout",
     "output_type": "stream",
     "text": [
      "(\"O deputado federal André Figueiredo (PDT/CE) entrou com um requerimento de informações da Câmara (RIC nº 1218/2020) acerca das declarações feitas pelo Ministro das Comunicações, Fábio Faria, tratando da intenção de desestatização dos Correios.\", {\"entities\": [(151, 176, \"PER\")]}),\n",
      "(\"Por Marcela Ayres\n",
      "BRASÍLIA (Reuters) - O ministro da Economia, Paulo Guedes, classificou como imprudente a ideia de se instituir um fundo com recursos federais para garantir perdas de Estados e municípios com a reforma tributária, alegando que a União não é um saco sem fundo e que é necessário ter juízo em um momento de fragilidade das contas públicas.\n",
      "\", {\"entities\": [(66, 86, \"PER\")]}),\n",
      "(\"Por Marcela Ayres\n",
      "BRASÍLIA (Reuters) - O ministro da Economia, Paulo Guedes, classificou como imprudente a ideia de se instituir um fundo com recursos federais para garantir perdas de Estados e municípios com a reforma tributária, alegando que a União não é um saco sem fundo e que é necessário ter juízo em um momento de fragilidade das contas públicas.\n",
      "\", {\"entities\": [(66, 86, \"PER\")]}),\n",
      "(\"Por Marcela Ayres\n",
      "BRASÍLIA (Reuters) - O ministro da Economia, Paulo Guedes, atribuiu nesta terça-feira a decisão do presidente Jair Bolsonaro de acabar com o Renda Brasil a uma posição política que considerou correta após distorção de informação feita pela mídia.\n",
      "\", {\"entities\": [(66, 86, \"PER\")]}),\n",
      "(\"Nesta terça-feira, o ministro da Economia também defendeu que a instituição de um imposto sobre transações digitais poderia, ao abraçar uma nova base ampla, permitir a desoneração de outros tributos, em especial o imposto sobre a folha de pagamento, que considerou muito mais cumulativo e destrutivo.\n",
      "\", {\"entities\": [(5566, 5586, \"PER\")]}),\n",
      "(\"O presidente Jair Bolsonaro deu aval e a reforma administrativa será enviada à Câmara dos Deputados na quinta-feira, afirmou o ministro da Economia, Paulo Guedes, em audiência pública do Congresso realizada virtualmente nesta terça-feira.\n",
      "\", {\"entities\": [(173, 193, \"PER\")]}),\n",
      "(\"Por Isabel Versiani\n",
      "BRASÍLIA (Reuters) - O ministro da Economia, Paulo Guedes, disse nesta quarta-feira que a equipe econômica está submetendo à apreciação dos líderes no Congresso contribuições para a reforma tributária.\n",
      "\", {\"entities\": [(68, 88, \"PER\")]}),\n",
      "(\"A China deverá registrar nas próximas semanas uma colheita abundante de grãos, impulsionada pelas boas condições de cultivo e por um aumento nas áreas de plantio, disse o ministro da Agricultura e Assuntos Rurais do país, Han Changfu, em um comunicado nesta quarta-feira.\n",
      "\", {\"entities\": [(215, 238, \"PER\")]}),\n",
      "(\"O ministro da Economia, Paulo Guedes, afirmou nesta segunda-feira que o Brasil é um país que precisa criar emprego em massa e, quanto à solução para bancar a desoneração da folha de pagamento para incentivar a investida, sinalizou que a decisão ainda não foi tomada.\n",
      "\", {\"entities\": [(48, 68, \"PER\")]}),\n",
      "(\"BRASÍLIA - Após o presidente Jair Bolsonaro vetar a ideia da equipe econômica de congelar aposentadorias e pensões para abrir espaço no Orçamento para o Renda Brasil, o ministro da Economia, Paulo Guedes, disse que a ideia foi mal interpretada pela imprensa e afirmou que o cartão vermelho mencionado por Bolsonaro não foi para ele.\n",
      "\", {\"entities\": [(202, 222, \"PER\")]}),\n",
      "(\"O ministro da Economia, Paulo Guedes, afirmou nesta terça-feira que a queda do PIB registrada no segundo trimestre do ano é um som distante que reflete os efeitos da pandemia da Covid-19 e frisou que o Brasil já deu início a uma recuperação em V.\n",
      "\", {\"entities\": [(48, 68, \"PER\")]}),\n"
     ]
    }
   ],
   "source": [
    "for sent in sents:\n",
    "    for match_id, start, end in matcher(sent):\n",
    "        span = sent[start:end]\n",
    "        print ('(\"%s\", {\"entities\": [(%d, %d, \"PER\")]}),' % (sent.text.replace('\"', ''), span.start_char, span.end_char))"
   ]
  },
  {
   "cell_type": "code",
   "execution_count": 117,
   "metadata": {},
   "outputs": [],
   "source": [
    "TRAIN_DATA = [\n",
    "    (\"O deputado federal André Figueiredo (PDT/CE) entrou com um requerimento de informações da Câmara (RIC nº 1218/2020) acerca das declarações feitas pelo Ministro das Comunicações, Fábio Faria, tratando da intenção de desestatização dos Correios.\", {\"entities\": [(151, 176, \"PER\")]}),\n",
    "    (\"BRASÍLIA (Reuters) - O ministro da Economia, Paulo Guedes, classificou como imprudente a ideia de se instituir um fundo com recursos federais para garantir perdas de Estados e municípios com a reforma tributária, alegando que a União não é um saco sem fundo e que é necessário ter juízo em um momento de fragilidade das contas públicas.\", {\"entities\": [(66, 86, \"PER\")]}),\n",
    "    (\"BRASÍLIA (Reuters) - O ministro da Economia, Paulo Guedes, atribuiu nesta terça-feira a decisão do presidente Jair Bolsonaro de acabar com o Renda Brasil a uma posição política que considerou correta após distorção de informação feita pela mídia.\", {\"entities\": [(66, 86, \"PER\")]}),\n",
    "    (\"Nesta terça-feira, o ministro da Economia também defendeu que a instituição de um imposto sobre transações digitais poderia, ao abraçar uma nova base ampla, permitir a desoneração de outros tributos, em especial o imposto sobre a folha de pagamento, que considerou muito mais cumulativo e destrutivo.\", {\"entities\": [(5566, 5586, \"PER\")]}),\n",
    "    (\"O presidente Jair Bolsonaro deu aval e a reforma administrativa será enviada à Câmara dos Deputados na quinta-feira, afirmou o ministro da Economia, Paulo Guedes, em audiência pública do Congresso realizada virtualmente nesta terça-feira.\", {\"entities\": [(173, 193, \"PER\")]}),\n",
    "    (\"BRASÍLIA (Reuters) - O ministro da Economia, Paulo Guedes, disse nesta quarta-feira que a equipe econômica está submetendo à apreciação dos líderes no Congresso contribuições para a reforma tributária.\", {\"entities\": [(68, 88, \"PER\")]}),\n",
    "    (\"A China deverá registrar nas próximas semanas uma colheita abundante de grãos, impulsionada pelas boas condições de cultivo e por um aumento nas áreas de plantio, disse o ministro da Agricultura e Assuntos Rurais do país, Han Changfu, em um comunicado nesta quarta-feira.\", {\"entities\": [(215, 238, \"PER\")]}),\n",
    "    (\"O ministro da Economia, Paulo Guedes, afirmou nesta segunda-feira que o Brasil é um país que precisa criar emprego em massa e, quanto à solução para bancar a desoneração da folha de pagamento para incentivar a investida, sinalizou que a decisão ainda não foi tomada.\", {\"entities\": [(48, 68, \"PER\")]}),\n",
    "    (\"BRASÍLIA - Após o presidente Jair Bolsonaro vetar a ideia da equipe econômica de congelar aposentadorias e pensões para abrir espaço no Orçamento para o Renda Brasil, o ministro da Economia, Paulo Guedes, disse que a ideia foi mal interpretada pela imprensa e afirmou que o cartão vermelho mencionado por Bolsonaro não foi para ele.\", {\"entities\": [(202, 222, \"PER\")]}),\n",
    "    (\"O ministro da Economia, Paulo Guedes, afirmou nesta terça-feira que a queda do PIB registrada no segundo trimestre do ano é um som distante que reflete os efeitos da pandemia da Covid-19 e frisou que o Brasil já deu início a uma recuperação em V.\", {\"entities\": [(48, 68, \"PER\")]}),\n",
    "]"
   ]
  },
  {
   "cell_type": "code",
   "execution_count": 123,
   "metadata": {},
   "outputs": [],
   "source": [
    "def train_spacy(_nlp, data, iterations):\n",
    "    TRAIN_DATA = data\n",
    "    \n",
    "    if 'ner' not in _nlp.pipe_names:\n",
    "        ner = _nlp.create_pipe('ner')\n",
    "        _nlp.add_pipe(ner, last=True)\n",
    "    else:\n",
    "        ner = _nlp.get_pipe('ner')\n",
    "       \n",
    "    # Adiciona os labels ao NER\n",
    "    for _, annotations in TRAIN_DATA:\n",
    "         for ent in annotations.get('entities'):\n",
    "            ner.add_label(ent[2])\n",
    "\n",
    "    # Desabilita tudo o que nao e NER durante o treinamento\n",
    "    other_pipes = [pipe for pipe in _nlp.pipe_names if pipe != 'ner']\n",
    "    with _nlp.disable_pipes(*other_pipes):  \n",
    "        optimizer = _nlp.begin_training()\n",
    "        for itn in range(iterations):\n",
    "            print(\"Iteração \" + str(itn))\n",
    "            random.shuffle(TRAIN_DATA)\n",
    "            losses = {}\n",
    "            for text, annotations in TRAIN_DATA:\n",
    "                _nlp.update(\n",
    "                    [text],  \n",
    "                    [annotations],  \n",
    "                    drop=0.2,  \n",
    "                    sgd=optimizer,  \n",
    "                    losses=losses)\n",
    "            print(losses)\n",
    "    return _nlp"
   ]
  },
  {
   "cell_type": "code",
   "execution_count": 126,
   "metadata": {
    "scrolled": true
   },
   "outputs": [
    {
     "name": "stdout",
     "output_type": "stream",
     "text": [
      "Iteração 0\n"
     ]
    },
    {
     "name": "stderr",
     "output_type": "stream",
     "text": [
      "/opt/miniconda3/envs/text/lib/python3.6/site-packages/spacy/language.py:482: UserWarning: [W030] Some entities could not be aligned in the text \"O presidente Jair Bolsonaro deu aval e a reforma a...\" with entities \"[(173, 193, 'PER')]\". Use `spacy.gold.biluo_tags_from_offsets(nlp.make_doc(text), entities)` to check the alignment. Misaligned entities ('-') will be ignored during training.\n",
      "  gold = GoldParse(doc, **gold)\n",
      "/opt/miniconda3/envs/text/lib/python3.6/site-packages/spacy/language.py:482: UserWarning: [W030] Some entities could not be aligned in the text \"O ministro da Economia, Paulo Guedes, afirmou nest...\" with entities \"[(48, 68, 'PER')]\". Use `spacy.gold.biluo_tags_from_offsets(nlp.make_doc(text), entities)` to check the alignment. Misaligned entities ('-') will be ignored during training.\n",
      "  gold = GoldParse(doc, **gold)\n",
      "/opt/miniconda3/envs/text/lib/python3.6/site-packages/spacy/language.py:482: UserWarning: [W030] Some entities could not be aligned in the text \"BRASÍLIA - Após o presidente Jair Bolsonaro vetar ...\" with entities \"[(202, 222, 'PER')]\". Use `spacy.gold.biluo_tags_from_offsets(nlp.make_doc(text), entities)` to check the alignment. Misaligned entities ('-') will be ignored during training.\n",
      "  gold = GoldParse(doc, **gold)\n",
      "/opt/miniconda3/envs/text/lib/python3.6/site-packages/spacy/language.py:482: UserWarning: [W030] Some entities could not be aligned in the text \"A China deverá registrar nas próximas semanas uma ...\" with entities \"[(215, 238, 'PER')]\". Use `spacy.gold.biluo_tags_from_offsets(nlp.make_doc(text), entities)` to check the alignment. Misaligned entities ('-') will be ignored during training.\n",
      "  gold = GoldParse(doc, **gold)\n",
      "/opt/miniconda3/envs/text/lib/python3.6/site-packages/spacy/language.py:482: UserWarning: [W030] Some entities could not be aligned in the text \"BRASÍLIA (Reuters) - O ministro da Economia, Paulo...\" with entities \"[(68, 88, 'PER')]\". Use `spacy.gold.biluo_tags_from_offsets(nlp.make_doc(text), entities)` to check the alignment. Misaligned entities ('-') will be ignored during training.\n",
      "  gold = GoldParse(doc, **gold)\n",
      "/opt/miniconda3/envs/text/lib/python3.6/site-packages/spacy/language.py:482: UserWarning: [W030] Some entities could not be aligned in the text \"BRASÍLIA (Reuters) - O ministro da Economia, Paulo...\" with entities \"[(66, 86, 'PER')]\". Use `spacy.gold.biluo_tags_from_offsets(nlp.make_doc(text), entities)` to check the alignment. Misaligned entities ('-') will be ignored during training.\n",
      "  gold = GoldParse(doc, **gold)\n"
     ]
    },
    {
     "name": "stdout",
     "output_type": "stream",
     "text": [
      "{'ner': 193.65341413026908}\n",
      "Iteração 1\n",
      "{'ner': 2.05995669171867}\n",
      "Iteração 2\n",
      "{'ner': 2.0000000000006417}\n",
      "Iteração 3\n",
      "{'ner': 1.9999095201789625}\n",
      "Iteração 4\n",
      "{'ner': 2.372197449527375}\n",
      "Iteração 5\n",
      "{'ner': 0.8878550938477398}\n",
      "Iteração 6\n",
      "{'ner': 0.8761641066129247}\n",
      "Iteração 7\n",
      "{'ner': 0.5827018086397743}\n",
      "Iteração 8\n",
      "{'ner': 22.587446309931718}\n",
      "Iteração 9\n",
      "{'ner': 3.6422087861566275}\n",
      "Iteração 10\n",
      "{'ner': 2.7553926060805773}\n",
      "Iteração 11\n",
      "{'ner': 2.487336533364023}\n",
      "Iteração 12\n",
      "{'ner': 1.3143227101607757}\n",
      "Iteração 13\n",
      "{'ner': 2.0034914584601466}\n",
      "Iteração 14\n",
      "{'ner': 4.404966099223653}\n",
      "Iteração 15\n",
      "{'ner': 2.662613058853181}\n",
      "Iteração 16\n",
      "{'ner': 1.7601307713988457}\n",
      "Iteração 17\n",
      "{'ner': 4.4746766272432135}\n",
      "Iteração 18\n",
      "{'ner': 1.0787051684450357}\n",
      "Iteração 19\n",
      "{'ner': 2.0429058453294906}\n"
     ]
    }
   ],
   "source": [
    "nlp_new = train_spacy(spacy.blank('pt'), TRAIN_DATA, 20)"
   ]
  },
  {
   "cell_type": "code",
   "execution_count": 129,
   "metadata": {},
   "outputs": [],
   "source": [
    "article = NewsPlease.from_url(\"https://economia.uol.com.br/colunas/carla-araujo/2020/09/21/tst-julgamento-fim-greve-correios-manter-parte-direitos-reajuste.htm\")"
   ]
  },
  {
   "cell_type": "code",
   "execution_count": 132,
   "metadata": {
    "scrolled": true
   },
   "outputs": [
    {
     "data": {
      "text/html": [
       "<span class=\"tex2jax_ignore\"><div class=\"entities\" style=\"line-height: 2.5; direction: ltr\">Jornalista formada em 2003 pela FIAM, com pós-graduação na Fundação Cásper Líbero e MBA em finanças, começou a carreira repórter de agronegócio e colaborou com revistas segmentadas. Na Agência Estado/Broadcast foi repórter de tempo real por dez anos em São Paulo e também em Brasília, desde 2015. Foi pelo grupo Estado que cobriu o impeachment da presidente Dilma Rousseff. No Valor Econômico, acompanhou como setorista do Palácio do Planalto o fim do governo Michel Temer e a chegada de Jair Bolsonaro à Presidência.</br>O Tribunal Superior do Trabalho decidiu, em julgamento realizado nesta segunda-feira, encerrar a greve dos funcionários dos Correios, que acontece desde 17 de agosto. De acordo com a decisão, os empregados devem voltar ao trabalho amanhã, sob pena de multa de R$ 100 mil por dia.</br>A empresa comemorou a decisão. Já o sindicato rejeitou o acordo e recomendou que os funcionários mantenham a greve. Devem ser feitas assembleias hoje e amanhã para votação.</br>A decisão de hoje representou também uma derrota parcial à estatal, já que ficou mantida a cláusula que prevê a correção monetária de 2,6% dos salários. Os trabalhadores, no entanto, pediam uma reposição salarial de 5%.</br>A Corte considerou que o movimento grevista não foi abusivo. Por outro lado, os ministros decidiram seguir a jurisprudência trabalhista e haverá um desconto salarial referente à metade dos dias de greve; nos demais dias, haverá compensação.</br>O fim da greve era defendido pelo \n",
       "<mark class=\"entity\" style=\"background: #ddd; padding: 0.45em 0.6em; margin: 0 0.25em; line-height: 1; border-radius: 0.35em;\">\n",
       "    ministro das Comunicações\n",
       "    <span style=\"font-size: 0.8em; font-weight: bold; line-height: 1; border-radius: 0.35em; text-transform: uppercase; vertical-align: middle; margin-left: 0.5rem\">PER</span>\n",
       "</mark>\n",
       ", Fabio Faria, e pelo presidente dos Correios, general Floriano Peixoto. Ambos afirmaram que a retirada dos benefícios era necessária para manter a sustentabilidade da empresa.\n",
       "Cláusulas sociais mantidas\n",
       "O principal imbróglio do julgamento foi em relação à manutenção dos benefícios dos trabalhadores. A estatal pretendia retirar mais de 70 itens concedidos historicamente aos funcionários.\n",
       "A relatora do caso, ministra Kátia Arruda, votou para que todos os benefícios fossem mantidos, mas acabou parcialmente vencida. Prevaleceu a tese divergente apresentada pelo ministro Ives Gandra Filho, que conta com a simpatia do presidente Jair Bolsonaro.\n",
       "Em um voto com mais de 100 páginas, a ministra destacou que, em seus anos de Corte trabalhista, essa foi a primeira vez que viu uma empresa propor a retirada de todas as cláusulas e direitos.\n",
       "A ministra disse, ainda, que apesar de os Correios alegarem problemas econômicos com a manutenção dos direitos, há informações da própria estatal que mostram que houve aumento da procura durante a pandemia.\n",
       "Ives Gandra, ao apresentar a divergência, propôs que fossem mantidas nove cláusulas, que a empresa já havia aceitado, e mais 20 cláusulas que tratam de benefícios sociais, que não representam impacto financeiro para a estatal.\n",
       "Houve uma alteração no texto da cláusula que trata do plano de saúde e vale alimentação. A relatora defendeu mudar o verbo de que a empresa &quot;pode&quot; oferecer o benefício para que a estatal &quot;deve&quot; garanti-lo.\n",
       "Adicional de férias e licença-maternidade como de CLT\n",
       "Entre os benefícios que serão alterados está a remuneração das férias. Atualmente, os funcionários recebem 2/3 de adicional ao salário. A CLT garante ao trabalhador 1/3 de incentivo no período de descanso. Segundo os Correios, a economia prevista com a revisão será de mais de R$ 600 milhões ao ano.\n",
       "A licença-maternidade também vai mudar. Atualmente, a licença é de 180 dias, e a proposta com a retirada da cláusula é passar para 120 dias, como trabalhadores do regime CLT.\n",
       "Empresa não quis negociar, diz relatora\n",
       "Em seu voto, a ministra Kátia Arruda destacou a intransigência dos Correios em aceitar os acordos anteriormente propostos pela Justiça do Trabalho.\n",
       "&quot;Não houve uma negociação coletiva, já que a postura da empresa desde o início, incluindo nas esferas extrajudiciais, foi de absoluta resistência&quot;, declarou. No último dia 11, a magistrada propôs um acordo. Os funcionários sinalizaram disposição em negociar, mas a estatal não.\n",
       "&quot;Houve uma patente conduta negativista para negociar por parte da empresa, eu com 30 anos na Justiça do Trabalho jamais tinha vivenciado uma conduta assim&quot;, afirmou.\n",
       "Justificativa da estatal\n",
       "Em entrevista à coluna na semana passada, o presidente dos Correios, general Floriano Peixoto, afirmou que a proposta feita pela estatal —de extinção de mais de 70 benefícios— estimava uma economia na ordem de R$ 800 milhões por ano.\n",
       "Questionado se essa economia é necessária, já que a empresa vem registrando lucro nos últimos anos, Floriano afirmou que, apesar dos números positivos nos últimos anos, há um passivo de R$ 2,4 bilhões a ser saldado. &quot;Os resultados positivos recentes têm reduzido esse déficit, e a nossa expectativa é a de acelerar esse processo&quot;, disse.\n",
       "Floriano destacou, ainda, que os benefícios que a empresa queria extinguir foram concedidos em momentos diferentes do atual, tanto para a empresa como para o Brasil. &quot;Para os Correios é inviável, hoje, manter em patamar tão elevado suas despesas com pessoal, pois a transformação do mercado e dos hábitos de consumo da sociedade demanda investimentos que a empresa não tem realizado a contento&quot;, disse.</div></span>"
      ],
      "text/plain": [
       "<IPython.core.display.HTML object>"
      ]
     },
     "metadata": {},
     "output_type": "display_data"
    }
   ],
   "source": [
    "doc = nlp_new(article.maintext)\n",
    "\n",
    "displacy.render(doc, style=\"ent\", jupyter=True, options={'distance': 100})"
   ]
  },
  {
   "cell_type": "code",
   "execution_count": 54,
   "metadata": {},
   "outputs": [],
   "source": [
    "nlp.to_disk('out/custom_nlp.pkl')"
   ]
  }
 ],
 "metadata": {
  "kernelspec": {
   "display_name": "Python 3",
   "language": "python",
   "name": "python3"
  },
  "language_info": {
   "codemirror_mode": {
    "name": "ipython",
    "version": 3
   },
   "file_extension": ".py",
   "mimetype": "text/x-python",
   "name": "python",
   "nbconvert_exporter": "python",
   "pygments_lexer": "ipython3",
   "version": "3.6.10"
  }
 },
 "nbformat": 4,
 "nbformat_minor": 4
}
